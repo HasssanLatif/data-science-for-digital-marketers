{
 "cells": [
  {
   "cell_type": "markdown",
   "id": "97e0b61d-1c3a-4585-ba29-e8635c5ddd8c",
   "metadata": {},
   "source": [
    "# Getting Started With Python"
   ]
  },
  {
   "cell_type": "markdown",
   "id": "d5fc2f0f-2560-4c8d-b5ba-d045e7bf0208",
   "metadata": {},
   "source": [
    "## What is REPL\n",
    "\n",
    "**REPL** is an acronym for READ, EVALUATE, PRINT and LOOP. This term is commonly used for interpreted computer programming languages e.g. Python, MATLAB, and R. "
   ]
  },
  {
   "cell_type": "markdown",
   "id": "a44d0059-5f92-4fcd-995d-96a3fccfbac0",
   "metadata": {},
   "source": [
    "### Read \n"
   ]
  },
  {
   "cell_type": "markdown",
   "id": "f9f3be8c-478d-416f-aa40-928787980fbb",
   "metadata": {},
   "source": [
    "### Evaluate\n",
    "- Bracket\n",
    "- Division\n",
    "- Multiplication\n",
    "- Plus\n",
    "- Minus\n",
    "- strings\n",
    "- functions"
   ]
  },
  {
   "cell_type": "code",
   "execution_count": 1,
   "id": "5d5cf56f-7964-4c43-9c90-b5513fa18ad4",
   "metadata": {
    "tags": []
   },
   "outputs": [
    {
     "data": {
      "text/plain": [
       "4"
      ]
     },
     "execution_count": 1,
     "metadata": {},
     "output_type": "execute_result"
    }
   ],
   "source": [
    "2+2"
   ]
  },
  {
   "cell_type": "code",
   "execution_count": 130,
   "id": "a268aa26-3829-41f2-8f47-7a138ddb5dbe",
   "metadata": {
    "tags": []
   },
   "outputs": [
    {
     "data": {
      "text/plain": [
       "62.25"
      ]
     },
     "execution_count": 130,
     "metadata": {},
     "output_type": "execute_result"
    }
   ],
   "source": [
    "6*10+9/4"
   ]
  },
  {
   "cell_type": "code",
   "execution_count": null,
   "id": "0122d209-c8dc-4c6a-af09-23c6095defd0",
   "metadata": {
    "tags": []
   },
   "outputs": [],
   "source": [
    "%history"
   ]
  },
  {
   "cell_type": "markdown",
   "id": "03dd7736-f465-4a98-860c-0631e337fd09",
   "metadata": {},
   "source": [
    "### Print"
   ]
  },
  {
   "cell_type": "markdown",
   "id": "943b0650-53e3-456a-acc2-1ba8a157773c",
   "metadata": {},
   "source": [
    "### Loop"
   ]
  },
  {
   "cell_type": "markdown",
   "id": "332b3cfb-2e54-4aee-ba0f-f8430a5cd6b2",
   "metadata": {},
   "source": [
    "## What are Variables?\n",
    "\n",
    "3 things are associated\n",
    "\n",
    "- Name\n",
    "- Memory Address\n",
    "- Values"
   ]
  },
  {
   "cell_type": "code",
   "execution_count": 2,
   "id": "3a41c994-417a-4458-b5da-184e27b6d7f8",
   "metadata": {
    "tags": []
   },
   "outputs": [],
   "source": [
    "ctr = 4.8\n",
    "number_of_visitors = 100000"
   ]
  },
  {
   "cell_type": "code",
   "execution_count": 3,
   "id": "7934c868-0f78-4f14-9278-c9b9da3cd527",
   "metadata": {
    "tags": []
   },
   "outputs": [],
   "source": [
    "website_adress = \"https://seowings.org\"\n",
    "email_address = \"email@seowings.org\""
   ]
  },
  {
   "cell_type": "code",
   "execution_count": 4,
   "id": "9803780c-224b-498a-9d4b-ebaa11afb1f5",
   "metadata": {
    "tags": []
   },
   "outputs": [
    {
     "name": "stdout",
     "output_type": "stream",
     "text": [
      "4.05\n"
     ]
    }
   ],
   "source": [
    "ctr_seowings = 4.2 \n",
    "ctr_serowings = 3.9\n",
    "avg_ctr = (ctr_seowings + ctr_serowings)/2\n",
    "print (avg_ctr)"
   ]
  },
  {
   "cell_type": "markdown",
   "id": "42510a0d-e1d7-4ad7-98cc-ec5815c95c45",
   "metadata": {
    "tags": []
   },
   "source": [
    "## Data Types and Container"
   ]
  },
  {
   "cell_type": "markdown",
   "id": "980f470a-852f-4540-9f08-5b603810a5f0",
   "metadata": {},
   "source": [
    "#### Numbers\n",
    "Python offers variety of numeric  values for different types of operations in as easiliy as possible. "
   ]
  },
  {
   "cell_type": "code",
   "execution_count": 5,
   "id": "ee0a3293-22fb-4b79-983f-f836ba0025c3",
   "metadata": {
    "tags": []
   },
   "outputs": [
    {
     "data": {
      "text/plain": [
       "5"
      ]
     },
     "execution_count": 5,
     "metadata": {},
     "output_type": "execute_result"
    }
   ],
   "source": [
    "2+3"
   ]
  },
  {
   "cell_type": "code",
   "execution_count": 6,
   "id": "49062beb-6ee8-438f-95ef-b777e4d06439",
   "metadata": {
    "tags": []
   },
   "outputs": [
    {
     "data": {
      "text/plain": [
       "1.6666666666666667"
      ]
     },
     "execution_count": 6,
     "metadata": {},
     "output_type": "execute_result"
    }
   ],
   "source": [
    "((2+3)/6)*2"
   ]
  },
  {
   "cell_type": "code",
   "execution_count": 7,
   "id": "9bcf189f-3fba-4cb8-9d5a-804ededf8363",
   "metadata": {
    "tags": []
   },
   "outputs": [],
   "source": [
    "total_impressions = 45000"
   ]
  },
  {
   "cell_type": "code",
   "execution_count": 8,
   "id": "f0ba1b85-e664-4539-a076-52f4fb348ef7",
   "metadata": {
    "tags": []
   },
   "outputs": [],
   "source": [
    "seo_volatality = 0.9"
   ]
  },
  {
   "cell_type": "markdown",
   "id": "e7f2c8f0-25d1-42f5-bcdd-fbf83362b34f",
   "metadata": {},
   "source": [
    "####  Boolean\n",
    "\n",
    "True or False\n",
    "\n",
    "- Website up/down \n",
    "    - True/False \n",
    "    - Yes or No [String]\n",
    "    - Updite /Response Time /count of website down(not available) [Numerical Values]\n",
    "- Conversion was sucessful or not\n",
    "- email address is valid?"
   ]
  },
  {
   "cell_type": "code",
   "execution_count": 9,
   "id": "20f815ba-d608-42d2-97d1-943c58c9a0b3",
   "metadata": {
    "tags": []
   },
   "outputs": [],
   "source": [
    "is_website_up = False\n",
    "user_buy_product = True"
   ]
  },
  {
   "cell_type": "markdown",
   "id": "bf8b01ac-2d1f-4d9b-a617-d65760440aca",
   "metadata": {},
   "source": [
    "#### Mutable Data Types"
   ]
  },
  {
   "cell_type": "markdown",
   "id": "25e491da-f19a-4fa0-afb8-46e3e80f672e",
   "metadata": {},
   "source": [
    "##### Lists"
   ]
  },
  {
   "cell_type": "code",
   "execution_count": 11,
   "id": "5e09fcfa-0704-427f-8ed3-6356acd40bc5",
   "metadata": {
    "tags": []
   },
   "outputs": [
    {
     "name": "stdout",
     "output_type": "stream",
     "text": [
      "[3.2, 3.4, 5.6]\n"
     ]
    }
   ],
   "source": [
    "ctr = [1.2, 3.4, 5.6]\n",
    "ctr[0] = 3.2\n",
    "\n",
    "print (ctr)"
   ]
  },
  {
   "cell_type": "code",
   "execution_count": 12,
   "id": "df43cfd9-9c93-4692-8704-395cd3a6b688",
   "metadata": {
    "tags": []
   },
   "outputs": [
    {
     "name": "stdout",
     "output_type": "stream",
     "text": [
      "['google.com', 'yahoo.com', 'github.com', 'airbnb.com']\n"
     ]
    }
   ],
   "source": [
    "list_of_websites = [\"google.com\", \"yahoo.com\", \"github.com\", \"airbnb.com\"]\n",
    "print (list_of_websites)"
   ]
  },
  {
   "cell_type": "code",
   "execution_count": 14,
   "id": "7ed6d475-8d0c-432c-b070-2451d794a4f9",
   "metadata": {
    "tags": []
   },
   "outputs": [
    {
     "name": "stdout",
     "output_type": "stream",
     "text": [
      "['google.com', 'yahoo.com', 'github.com', 'airbnb.com', 'web.de', 'wordpress.com', 'wordpress.org']\n"
     ]
    }
   ],
   "source": [
    "list_of_competitors = [\"web.de\", \"wordpress.com\", \"wordpress.org\"]\n",
    "new_list = list_of_websites + list_of_competitors\n",
    "print (new_list)"
   ]
  },
  {
   "cell_type": "markdown",
   "id": "74cf9f8c-2d86-45b5-8510-e8b91abd6d96",
   "metadata": {
    "tags": []
   },
   "source": [
    "##### Dictionaries"
   ]
  },
  {
   "cell_type": "code",
   "execution_count": 15,
   "id": "62a5c0a6-635b-4974-9fad-b487703fb105",
   "metadata": {
    "tags": []
   },
   "outputs": [],
   "source": [
    "countries = {\n",
    "    \"Pakistan\": \"Is country on South Asia.\",\n",
    "    \"Germany\": \"Is a Coutnry in Central Europe\"\n",
    "}"
   ]
  },
  {
   "cell_type": "code",
   "execution_count": 17,
   "id": "36edfa03-f2e8-4fe8-954f-7c674365bfa0",
   "metadata": {
    "tags": []
   },
   "outputs": [
    {
     "data": {
      "text/plain": [
       "dict_keys(['Pakistan', 'Germany'])"
      ]
     },
     "execution_count": 17,
     "metadata": {},
     "output_type": "execute_result"
    }
   ],
   "source": [
    "countries.keys()"
   ]
  },
  {
   "cell_type": "code",
   "execution_count": 18,
   "id": "5617fa3b-0fae-4fbe-a5a5-b79883b5bc0e",
   "metadata": {
    "tags": []
   },
   "outputs": [
    {
     "data": {
      "text/plain": [
       "dict_values(['Is country on South Asia.', 'Is a Coutnry in Central Europe'])"
      ]
     },
     "execution_count": 18,
     "metadata": {},
     "output_type": "execute_result"
    }
   ],
   "source": [
    "countries.values()"
   ]
  },
  {
   "cell_type": "code",
   "execution_count": 20,
   "id": "2a286377-3ee4-4c13-a78a-0821e0c13ec1",
   "metadata": {
    "tags": []
   },
   "outputs": [
    {
     "name": "stdout",
     "output_type": "stream",
     "text": [
      "{'seowings.org': {'ctr': 3.9, 'total_visitors': 1000}}\n"
     ]
    }
   ],
   "source": [
    "websites = {\n",
    "    \"seowings.org\": {\n",
    "        \"ctr\": 3.9, \n",
    "        \"total_visitors\": 1000,\n",
    "        \"total_pages\": 5,\n",
    "        \"owner: \"Faisal Shahzad\"\n",
    "    }, \n",
    "    \"jang.com.pk\": {\n",
    "        \"ctr\": 3.9, \n",
    "        \"total_visitors\": 1000,\n",
    "        \"total_pages\": 5,\n",
    "        \"owner: \"Jang Media\"\n",
    "    }\n",
    "}\n",
    "\n",
    "print (websites)"
   ]
  },
  {
   "cell_type": "markdown",
   "id": "18afb1b2-98af-4036-a37f-a3f6278f8412",
   "metadata": {},
   "source": [
    "##### Sets"
   ]
  },
  {
   "cell_type": "code",
   "execution_count": 21,
   "id": "79bd5b8a-b135-44ba-92a6-014562a3dead",
   "metadata": {
    "tags": []
   },
   "outputs": [
    {
     "data": {
      "text/plain": [
       "{'Gujranwala', 'Lahore', 'Okara'}"
      ]
     },
     "execution_count": 21,
     "metadata": {},
     "output_type": "execute_result"
    }
   ],
   "source": [
    "set_of_cities = {\"Lahore\", \"Gujranwala\",\"Okara\"}\n",
    "set_of_cities"
   ]
  },
  {
   "cell_type": "code",
   "execution_count": 22,
   "id": "beb37552-0cb8-48b7-9a52-90232014b4a7",
   "metadata": {
    "tags": []
   },
   "outputs": [
    {
     "data": {
      "text/plain": [
       "['website1.com', 'website2.com', 'website3.com', 'website2.com']"
      ]
     },
     "execution_count": 22,
     "metadata": {},
     "output_type": "execute_result"
    }
   ],
   "source": [
    "websites = [\"website1.com\", \"website2.com\", \"website3.com\", \"website2.com\"]\n",
    "\n",
    "websites"
   ]
  },
  {
   "cell_type": "code",
   "execution_count": 24,
   "id": "45d43db3-e240-4566-a689-2e2c51e45c64",
   "metadata": {
    "tags": []
   },
   "outputs": [
    {
     "data": {
      "text/plain": [
       "{'website1.com', 'website2.com', 'website3.com'}"
      ]
     },
     "execution_count": 24,
     "metadata": {},
     "output_type": "execute_result"
    }
   ],
   "source": [
    "unique_websits = set(websites)\n",
    "unique_websits"
   ]
  },
  {
   "cell_type": "markdown",
   "id": "0bb7d42e-94d5-4fbf-bd2c-1f06a499f5cc",
   "metadata": {},
   "source": [
    "list(unique_websits)"
   ]
  },
  {
   "cell_type": "code",
   "execution_count": 148,
   "id": "6d5dac88-bf4d-4532-9a6e-2932a09257b2",
   "metadata": {
    "tags": []
   },
   "outputs": [],
   "source": [
    "competitor_set_1 = {\"website1.com\", \"website2.com\"}\n",
    "competitor_set_2 = {\"website3.com\", \"website4.com\"}"
   ]
  },
  {
   "cell_type": "code",
   "execution_count": 149,
   "id": "ec7e3e4b-9747-4671-a4cf-95c41515f040",
   "metadata": {
    "tags": []
   },
   "outputs": [
    {
     "name": "stdout",
     "output_type": "stream",
     "text": [
      "{'website1.com', 'website2.com'}\n",
      "{'website4.com', 'website3.com'}\n"
     ]
    }
   ],
   "source": [
    "print (competitor_set_1)\n",
    "print (competitor_set_2)"
   ]
  },
  {
   "cell_type": "code",
   "execution_count": 150,
   "id": "01895817-5e7d-4459-a384-d9d0788c8c9e",
   "metadata": {
    "tags": []
   },
   "outputs": [
    {
     "data": {
      "text/plain": [
       "{'website1.com', 'website2.com', 'website3.com', 'website4.com'}"
      ]
     },
     "execution_count": 150,
     "metadata": {},
     "output_type": "execute_result"
    }
   ],
   "source": [
    "competitor_set_1 | competitor_set_2"
   ]
  },
  {
   "cell_type": "markdown",
   "id": "d932998b-bbc2-4a24-b955-274a68478b5a",
   "metadata": {},
   "source": [
    "#### Immutable Data Types"
   ]
  },
  {
   "cell_type": "markdown",
   "id": "00c88500-03b0-43f6-b3be-b19723c61ed8",
   "metadata": {},
   "source": [
    "##### Strings \n",
    "To dispaly charters/output to the user. For most part of computer and their programming, this is main mode of communcation with machines and humans. In future chapters, we will discuss other modes of communcation in in more details."
   ]
  },
  {
   "cell_type": "code",
   "execution_count": 29,
   "id": "ed4408e3-801b-422b-8124-271484600089",
   "metadata": {
    "tags": []
   },
   "outputs": [
    {
     "name": "stdout",
     "output_type": "stream",
     "text": [
      "r\n"
     ]
    }
   ],
   "source": [
    "city = \"Lahore\"\n",
    "website = \"jang.com.pk\"\n",
    "\n",
    "print (city[-2])"
   ]
  },
  {
   "cell_type": "code",
   "execution_count": 31,
   "id": "5f126e24-7bad-4d2c-89da-a8fbf8c892bf",
   "metadata": {
    "tags": []
   },
   "outputs": [
    {
     "ename": "TypeError",
     "evalue": "'str' object does not support item assignment",
     "output_type": "error",
     "traceback": [
      "\u001b[1;31m--------------------------------------------------------\u001b[0m",
      "\u001b[1;31mTypeError\u001b[0m              Traceback (most recent call last)",
      "Cell \u001b[1;32mIn[31], line 1\u001b[0m\n\u001b[1;32m----> 1\u001b[0m \u001b[43mcity\u001b[49m\u001b[43m[\u001b[49m\u001b[38;5;241;43m0\u001b[39;49m\u001b[43m]\u001b[49m \u001b[38;5;241m=\u001b[39m \u001b[38;5;124m\"\u001b[39m\u001b[38;5;124mD\u001b[39m\u001b[38;5;124m\"\u001b[39m\n",
      "\u001b[1;31mTypeError\u001b[0m: 'str' object does not support item assignment"
     ]
    }
   ],
   "source": [
    "city[0] = \"D\""
   ]
  },
  {
   "cell_type": "markdown",
   "id": "0c8af836-27ad-4c96-ac51-7f81fe6167d6",
   "metadata": {},
   "source": [
    "###### Strings With Single Quotes"
   ]
  },
  {
   "cell_type": "code",
   "execution_count": 34,
   "id": "cce993a7-9068-4aaf-84ce-1464bb33a2fc",
   "metadata": {
    "tags": []
   },
   "outputs": [],
   "source": [
    "city = 'Lahore'"
   ]
  },
  {
   "cell_type": "markdown",
   "id": "c54d2633-639a-4869-943f-688798aae75a",
   "metadata": {},
   "source": [
    "###### Strings With Double"
   ]
  },
  {
   "cell_type": "code",
   "execution_count": 35,
   "id": "8c3f7410-16c3-4928-a87f-07fbf1a57cca",
   "metadata": {
    "tags": []
   },
   "outputs": [],
   "source": [
    "city = \"Lahore\""
   ]
  },
  {
   "cell_type": "markdown",
   "id": "9cbe8f6b-7abb-442d-97d7-e768687bf4e5",
   "metadata": {},
   "source": [
    "###### Strings With Tripple"
   ]
  },
  {
   "cell_type": "code",
   "execution_count": 37,
   "id": "c27b0f8f-245d-407c-af33-b90df37f25dc",
   "metadata": {
    "tags": []
   },
   "outputs": [
    {
     "name": "stdout",
     "output_type": "stream",
     "text": [
      "\n",
      "THis is my sample markeitng letter\n",
      "THis is my sample markeitng letter\n",
      "THis is my sample markeitng letter\n",
      "THis is my sample markeitng letter\n",
      "\n"
     ]
    }
   ],
   "source": [
    "# Comments\n",
    "# docstring\n",
    "\n",
    "letter = \"\"\"\n",
    "THis is my sample markeitng letter\n",
    "THis is my sample markeitng letter\n",
    "THis is my sample markeitng letter\n",
    "THis is my sample markeitng letter\n",
    "\"\"\"\n",
    "\n",
    "print (letter)"
   ]
  },
  {
   "cell_type": "markdown",
   "id": "9b9767f8-0298-4dc5-9c36-06244494f06e",
   "metadata": {},
   "source": [
    "###### Uderstanding F-String"
   ]
  },
  {
   "cell_type": "code",
   "execution_count": 39,
   "id": "13238460-04a1-4018-afed-61ec9300f5ee",
   "metadata": {
    "tags": []
   },
   "outputs": [
    {
     "name": "stdout",
     "output_type": "stream",
     "text": [
      "Welcome to the Data Science Course\n"
     ]
    }
   ],
   "source": [
    "print (\"Welcome to the Data Science Course\")"
   ]
  },
  {
   "cell_type": "code",
   "execution_count": 40,
   "id": "738c5da3-2f3b-4cbc-8f00-0a137abe582b",
   "metadata": {
    "tags": []
   },
   "outputs": [
    {
     "name": "stdout",
     "output_type": "stream",
     "text": [
      "Hi Faisal! Welcome to the Data Science Course\n"
     ]
    }
   ],
   "source": [
    "print (\"Hi Faisal!\", \"Welcome to the Data Science Course\")"
   ]
  },
  {
   "cell_type": "code",
   "execution_count": 41,
   "id": "15754682-826b-4789-9a09-f7ff3e2752d2",
   "metadata": {
    "tags": []
   },
   "outputs": [
    {
     "name": "stdout",
     "output_type": "stream",
     "text": [
      "My website Click though rate is 4.2\n"
     ]
    }
   ],
   "source": [
    "print(\"My website Click though rate is 4.2\")"
   ]
  },
  {
   "cell_type": "code",
   "execution_count": 42,
   "id": "67a30179-547f-4f71-84c0-a5a16451963b",
   "metadata": {
    "tags": []
   },
   "outputs": [
    {
     "name": "stdout",
     "output_type": "stream",
     "text": [
      "My website Click though rate is  2.3\n"
     ]
    }
   ],
   "source": [
    "ctr = 2.3\n",
    "print(\"My website Click though rate is \", ctr)"
   ]
  },
  {
   "cell_type": "code",
   "execution_count": 161,
   "id": "adcb3b39-df45-400c-8647-940bc0850968",
   "metadata": {
    "tags": []
   },
   "outputs": [
    {
     "name": "stdout",
     "output_type": "stream",
     "text": [
      "This is my text for 1.2\n"
     ]
    }
   ],
   "source": [
    "print (f\"This is my text for {ctr}\")"
   ]
  },
  {
   "cell_type": "code",
   "execution_count": 158,
   "id": "4d26c3ff-8efd-4317-a2d1-f58ec46573a9",
   "metadata": {
    "tags": []
   },
   "outputs": [
    {
     "name": "stdout",
     "output_type": "stream",
     "text": [
      "My website https://serpwings.com Click though rate is 1.2\n"
     ]
    }
   ],
   "source": [
    "ctr = 1.2\n",
    "website = \"https://serpwings.com\"\n",
    "\n",
    "print(f\"My website {website} Click though rate is {ctr}\")"
   ]
  },
  {
   "cell_type": "code",
   "execution_count": 44,
   "id": "5557f261-1cb0-4dad-b734-c6ebb4bd9472",
   "metadata": {
    "tags": []
   },
   "outputs": [
    {
     "name": "stdout",
     "output_type": "stream",
     "text": [
      "You are my content writer for the website laptopforkids.com. You should create an outline for a blog post on Best Laptops for Kids. Please write it for kids of age 10 and do not exceed 35 words \n"
     ]
    }
   ],
   "source": [
    "my_website = \"laptopforkids.com\"\n",
    "blog_post_title = \"Best Laptops for Kids\"\n",
    "word_limit = 35\n",
    "\n",
    "print (f\"You are my content writer for the website {my_website}. You should create an outline for a blog post on {blog_post_title}. Please write it for kids of age 10 and do not exceed {word_limit} words \")"
   ]
  },
  {
   "cell_type": "code",
   "execution_count": 45,
   "id": "dddf62db-37c1-402d-b77f-b07cb932d05e",
   "metadata": {
    "tags": []
   },
   "outputs": [
    {
     "name": "stdout",
     "output_type": "stream",
     "text": [
      "<html><title>This is my title</title><body>Welcome to my website on Digital Marketing!</body></html>\n"
     ]
    }
   ],
   "source": [
    "title = \"This is my title\"\n",
    "content = \"Welcome to my website on Digital Marketing!\"\n",
    "generator = f\"<html><title>{title}</title><body>{content}</body></html>\"\n",
    "\n",
    "# Javascirpt, # CSS \n",
    "\n",
    "print(generator)"
   ]
  },
  {
   "cell_type": "markdown",
   "id": "733b395b-a5bd-4855-9e4b-ace20bd2eb3b",
   "metadata": {},
   "source": [
    "##### Tuples"
   ]
  },
  {
   "cell_type": "code",
   "execution_count": 162,
   "id": "bf4f0417-09f7-459f-9e4a-13b9650a47c7",
   "metadata": {
    "tags": []
   },
   "outputs": [
    {
     "data": {
      "text/plain": [
       "(4, 6)"
      ]
     },
     "execution_count": 162,
     "metadata": {},
     "output_type": "execute_result"
    }
   ],
   "source": [
    "(4, 6)"
   ]
  },
  {
   "cell_type": "code",
   "execution_count": 46,
   "id": "eea110ed-125f-473d-8b0b-04be4df53ad9",
   "metadata": {
    "tags": []
   },
   "outputs": [],
   "source": [
    "a = (4, 5)"
   ]
  },
  {
   "cell_type": "code",
   "execution_count": 48,
   "id": "6607b971-d3cd-498d-9c96-8833800e56ee",
   "metadata": {
    "tags": []
   },
   "outputs": [
    {
     "data": {
      "text/plain": [
       "5"
      ]
     },
     "execution_count": 48,
     "metadata": {},
     "output_type": "execute_result"
    }
   ],
   "source": [
    "a[1]"
   ]
  },
  {
   "cell_type": "code",
   "execution_count": 165,
   "id": "e09a7ebe-7eaa-4f02-9a3c-a65884ebfce6",
   "metadata": {
    "tags": []
   },
   "outputs": [
    {
     "data": {
      "text/plain": [
       "('jang.com.pk', 100000)"
      ]
     },
     "execution_count": 165,
     "metadata": {},
     "output_type": "execute_result"
    }
   ],
   "source": [
    "website = (\"jang.com.pk\", 100000)\n",
    "website"
   ]
  },
  {
   "cell_type": "code",
   "execution_count": 166,
   "id": "f59da557-38a1-4073-a3c8-7d59fb25dd06",
   "metadata": {
    "tags": []
   },
   "outputs": [],
   "source": [
    "#tuple unpacking\n",
    "website_name, number_of_visitors = website"
   ]
  },
  {
   "cell_type": "code",
   "execution_count": 167,
   "id": "265543cb-f3a7-4606-97a2-f90ec67e46a6",
   "metadata": {
    "tags": []
   },
   "outputs": [
    {
     "data": {
      "text/plain": [
       "'jang.com.pk'"
      ]
     },
     "execution_count": 167,
     "metadata": {},
     "output_type": "execute_result"
    }
   ],
   "source": [
    "website_name"
   ]
  },
  {
   "cell_type": "code",
   "execution_count": 168,
   "id": "8c3fdb88-388c-47fd-9e0f-acb5c3f5f3a8",
   "metadata": {
    "tags": []
   },
   "outputs": [
    {
     "data": {
      "text/plain": [
       "100000"
      ]
     },
     "execution_count": 168,
     "metadata": {},
     "output_type": "execute_result"
    }
   ],
   "source": [
    "number_of_visitors"
   ]
  },
  {
   "cell_type": "code",
   "execution_count": 169,
   "id": "22019095-ae45-46e8-b570-6e57842801e0",
   "metadata": {
    "tags": []
   },
   "outputs": [
    {
     "data": {
      "text/plain": [
       "('https://www.seowings.org/static-wordpress/', '2022-11-18')"
      ]
     },
     "execution_count": 169,
     "metadata": {},
     "output_type": "execute_result"
    }
   ],
   "source": [
    "sitemap = (\"https://www.seowings.org/static-wordpress/\", \"2022-11-18\")\n",
    "sitemap"
   ]
  },
  {
   "cell_type": "code",
   "execution_count": 170,
   "id": "cc35b81c-91e3-4363-8955-8c58430a2a1f",
   "metadata": {
    "tags": []
   },
   "outputs": [
    {
     "data": {
      "text/plain": [
       "('https://www.seowings.org/static-wordpress/', '2022-11-18', 0.7)"
      ]
     },
     "execution_count": 170,
     "metadata": {},
     "output_type": "execute_result"
    }
   ],
   "source": [
    "page_loc = (\"https://www.seowings.org/static-wordpress/\", \"2022-11-18\", 0.7)\n",
    "page_loc"
   ]
  },
  {
   "cell_type": "code",
   "execution_count": 172,
   "id": "9c702c88-5e15-451c-912a-722638f07009",
   "metadata": {
    "tags": []
   },
   "outputs": [],
   "source": [
    "url, lastmod, priority = page_loc"
   ]
  },
  {
   "cell_type": "code",
   "execution_count": 173,
   "id": "e31322bc-c2ab-4a4a-9f48-7787bbd43606",
   "metadata": {
    "tags": []
   },
   "outputs": [
    {
     "data": {
      "text/plain": [
       "'https://www.seowings.org/static-wordpress/'"
      ]
     },
     "execution_count": 173,
     "metadata": {},
     "output_type": "execute_result"
    }
   ],
   "source": [
    "url"
   ]
  },
  {
   "cell_type": "code",
   "execution_count": 174,
   "id": "7ee792d6-7fac-4430-a9aa-9ce23cc7c8b5",
   "metadata": {
    "tags": []
   },
   "outputs": [
    {
     "data": {
      "text/plain": [
       "'2022-11-18'"
      ]
     },
     "execution_count": 174,
     "metadata": {},
     "output_type": "execute_result"
    }
   ],
   "source": [
    "lastmod"
   ]
  },
  {
   "cell_type": "code",
   "execution_count": 175,
   "id": "e8fe5981-2139-416f-ac3c-9c281fa7480b",
   "metadata": {
    "tags": []
   },
   "outputs": [
    {
     "data": {
      "text/plain": [
       "0.7"
      ]
     },
     "execution_count": 175,
     "metadata": {},
     "output_type": "execute_result"
    }
   ],
   "source": [
    "priority"
   ]
  },
  {
   "cell_type": "code",
   "execution_count": 59,
   "id": "4ea8a291-efb1-44cc-8d26-39dd0f9a00b8",
   "metadata": {
    "tags": []
   },
   "outputs": [
    {
     "name": "stdout",
     "output_type": "stream",
     "text": [
      "5 9 1198\n"
     ]
    }
   ],
   "source": [
    "# Major Version\n",
    "# Minor Version\n",
    "# Revision \n",
    "\n",
    "version = \"5.9.1198\"\n",
    "major, minor, revision = tuple(version.split(\".\"))\n",
    "\n",
    "print (major, minor, revision)"
   ]
  },
  {
   "cell_type": "code",
   "execution_count": 60,
   "id": "ff3b59b6-5ae7-4c5b-978c-656bbc87fd1c",
   "metadata": {
    "tags": []
   },
   "outputs": [],
   "source": [
    "major, minor, _ = tuple(version.split(\".\"))"
   ]
  },
  {
   "cell_type": "markdown",
   "id": "1df9f927-3b59-47d6-83bc-76469367726c",
   "metadata": {},
   "source": [
    "### Conditional Statements"
   ]
  },
  {
   "cell_type": "markdown",
   "id": "f23081b2-3af2-4477-a785-1538d98bd170",
   "metadata": {},
   "source": [
    "#### if "
   ]
  },
  {
   "cell_type": "code",
   "execution_count": 7,
   "id": "d690899c-10d4-4937-8996-6c663f658d66",
   "metadata": {
    "tags": []
   },
   "outputs": [
    {
     "name": "stdout",
     "output_type": "stream",
     "text": [
      "You need an SEO Expert\n"
     ]
    }
   ],
   "source": [
    "ctr = 1.3\n",
    "\n",
    "if ctr < 2:\n",
    "    print (\"You need an SEO Expert\")\n",
    "\n"
   ]
  },
  {
   "cell_type": "code",
   "execution_count": null,
   "id": "dee8db01-f746-42a5-a91c-81d425864f41",
   "metadata": {},
   "outputs": [],
   "source": [
    "wp_current_version = \"6.2.0\"\n",
    "wp_competitor_version = \"5.8.0\" # web scraping\n",
    "\n",
    "# upacking\n",
    "\n",
    "if wp_competitor_version < wp_current_version:\n",
    "    print (\"Your competitor is not uptodate\")\n",
    "    "
   ]
  },
  {
   "cell_type": "markdown",
   "id": "62953fbe-5f44-4002-bf4f-1a43bef6434c",
   "metadata": {},
   "source": [
    "#### if else"
   ]
  },
  {
   "cell_type": "code",
   "execution_count": 9,
   "id": "7a92f6c2-cd0b-45c0-84f6-e8bd4cc1637a",
   "metadata": {
    "tags": []
   },
   "outputs": [
    {
     "name": "stdout",
     "output_type": "stream",
     "text": [
      "this is very low ctr\n"
     ]
    }
   ],
   "source": [
    "ctr = 1.3\n",
    "\n",
    "if ctr < 2: \n",
    "    print (\"this is very low ctr\")\n",
    "else:\n",
    "    print (\"your ctr is good, carry on\")"
   ]
  },
  {
   "cell_type": "markdown",
   "id": "7a543762-82ad-463f-9d39-c5144ab93170",
   "metadata": {
    "tags": []
   },
   "source": [
    "**More Pythonic Solution**"
   ]
  },
  {
   "cell_type": "code",
   "execution_count": 10,
   "id": "862cba2f-4a32-4d20-aab6-1f37c5ee555b",
   "metadata": {
    "tags": []
   },
   "outputs": [
    {
     "name": "stdout",
     "output_type": "stream",
     "text": [
      "True\n"
     ]
    }
   ],
   "source": [
    "ctr = 1.3\n",
    "\n",
    "output = True if ctr < 3 else False\n",
    "print (output)"
   ]
  },
  {
   "cell_type": "markdown",
   "id": "4279454a-e3d8-4ab0-9aa5-1044c4fc1ed8",
   "metadata": {},
   "source": [
    "#### if elif else"
   ]
  },
  {
   "cell_type": "code",
   "execution_count": 11,
   "id": "a9d586ce-1a85-4992-b417-90691aa58b4a",
   "metadata": {
    "tags": []
   },
   "outputs": [
    {
     "name": "stdout",
     "output_type": "stream",
     "text": [
      "your ctr is good, carry on\n"
     ]
    }
   ],
   "source": [
    "ctr = 4.3\n",
    "\n",
    "if ctr < 2: \n",
    "    print (\"this is very low ctr\")\n",
    "elif ctr >=2 and ctr <3:\n",
    "    print (\"this is an average ctr\")\n",
    "else:\n",
    "\n",
    "    print (\"your ctr is good, carry on\")"
   ]
  },
  {
   "cell_type": "markdown",
   "id": "98c92fc7-9dc3-4a24-b8d9-872badccef7b",
   "metadata": {},
   "source": [
    "#### Switches\n",
    "\n",
    "PYthon do not support switches as it is withmost of the other programming languages."
   ]
  },
  {
   "cell_type": "markdown",
   "id": "8afd00e4-13a2-4d2f-b182-565322479fcc",
   "metadata": {},
   "source": [
    "## Loops For Repeated Operations"
   ]
  },
  {
   "cell_type": "code",
   "execution_count": 71,
   "id": "afaf9434-6948-4e89-923f-76a152faf5d8",
   "metadata": {
    "tags": []
   },
   "outputs": [
    {
     "data": {
      "text/plain": [
       "3"
      ]
     },
     "execution_count": 71,
     "metadata": {},
     "output_type": "execute_result"
    }
   ],
   "source": [
    "array_of_youtube_videos = [\"video1\", \"video2\", \"video3\"]\n",
    "len(array_of_youtube_videos)"
   ]
  },
  {
   "cell_type": "code",
   "execution_count": 61,
   "id": "fdaf3e60-74d6-4708-b4cc-ac2ef5ebe8ea",
   "metadata": {
    "tags": []
   },
   "outputs": [],
   "source": [
    "# array of tuple\n",
    "sitemap_url_set = [(\"https://www.seowings.org/static-wordpress/\", \"2022-11-18\"),\n",
    "                   (\"https://www.seowings.org/simply-static-tutorial/\", \"2023-03-05\")]"
   ]
  },
  {
   "cell_type": "code",
   "execution_count": 62,
   "id": "dfc35859-d4b3-42e2-943d-1d1a9a7d5260",
   "metadata": {
    "tags": []
   },
   "outputs": [
    {
     "data": {
      "text/plain": [
       "[('https://www.seowings.org/static-wordpress/', '2022-11-18'),\n",
       " ('https://www.seowings.org/simply-static-tutorial/', '2023-03-05')]"
      ]
     },
     "execution_count": 62,
     "metadata": {},
     "output_type": "execute_result"
    }
   ],
   "source": [
    "sitemap_url_set"
   ]
  },
  {
   "cell_type": "code",
   "execution_count": 64,
   "id": "df0003ff-1af7-417a-b1cd-bfadcf1d3269",
   "metadata": {
    "tags": []
   },
   "outputs": [
    {
     "name": "stdout",
     "output_type": "stream",
     "text": [
      "https://www.seowings.org/static-wordpress/ 2022-11-18\n",
      "https://www.seowings.org/simply-static-tutorial/ 2023-03-05\n"
     ]
    }
   ],
   "source": [
    "for url in sitemap_url_set:\n",
    "    loc, lastmod = url #unpack\n",
    "    print (loc, lastmod)"
   ]
  },
  {
   "cell_type": "code",
   "execution_count": 14,
   "id": "430aa111-4f96-496a-966f-e38deaefb380",
   "metadata": {
    "tags": []
   },
   "outputs": [
    {
     "name": "stdout",
     "output_type": "stream",
     "text": [
      "https://cheapandbesthosting.com\n",
      "https://geekflare.com\n",
      "https://gethugothemes.com\n",
      "https://medium.com\n",
      "https://saasxtra.com\n",
      "https://stackshare.io\n"
     ]
    }
   ],
   "source": [
    "list_of_competitors = [\n",
    "    \"https://cheapandbesthosting.com\", \n",
    "    \"https://geekflare.com\", \n",
    "    \"https://gethugothemes.com\", \n",
    "    \"https://medium.com\", \n",
    "    \"https://saasxtra.com\", \n",
    "    \"https://stackshare.io\"\n",
    "]\n",
    "len(list_of_competitors)\n",
    "\n",
    "for competitor in list_of_competitors:\n",
    "    print (competitor)"
   ]
  },
  {
   "cell_type": "code",
   "execution_count": 65,
   "id": "336cd268-89c4-4f76-a347-a8e5d4155085",
   "metadata": {
    "tags": []
   },
   "outputs": [
    {
     "name": "stdout",
     "output_type": "stream",
     "text": [
      "not my competitor\n",
      "not my competitor\n",
      "wordpress.org\n"
     ]
    }
   ],
   "source": [
    "for competitor in list_of_competitors:\n",
    "    if competitor.endswith(\".org\"):\n",
    "        print (competitor)\n",
    "    else:\n",
    "        print (\"not my competitor\")"
   ]
  },
  {
   "cell_type": "code",
   "execution_count": 16,
   "id": "ac9c0232-31e3-4eb5-b17f-0d42743c8422",
   "metadata": {
    "tags": []
   },
   "outputs": [
    {
     "name": "stdout",
     "output_type": "stream",
     "text": [
      "https://cheapandbesthosting.com not an org domain\n",
      "https://geekflare.com not an org domain\n",
      "https://gethugothemes.com not an org domain\n",
      "https://medium.com not an org domain\n",
      "https://saasxtra.com not an org domain\n",
      "https://stackshare.io not an org domain\n",
      "6\n"
     ]
    }
   ],
   "source": [
    "for competitor in list_of_competitors:\n",
    "    if competitor.endswith(\".org\"):\n",
    "        print (competitor, \"this is Non Profit Org dmain\")\n",
    "    elif competitor.endswith(\".de\"):\n",
    "        print (competitor, \"this is German dmain\")\n",
    "    else:\n",
    "        print (competitor, \"not an org domain\")\n",
    "\n",
    "total_competitors = len(list_of_competitors)\n",
    "print (total_competitors)"
   ]
  },
  {
   "cell_type": "code",
   "execution_count": 17,
   "id": "58cab14a-9016-425b-81d1-f6aac369e96a",
   "metadata": {
    "tags": []
   },
   "outputs": [
    {
     "data": {
      "text/plain": [
       "\u001b[1;31mInit signature:\u001b[0m \u001b[0mrange\u001b[0m\u001b[1;33m(\u001b[0m\u001b[0mself\u001b[0m\u001b[1;33m,\u001b[0m \u001b[1;33m/\u001b[0m\u001b[1;33m,\u001b[0m \u001b[1;33m*\u001b[0m\u001b[0margs\u001b[0m\u001b[1;33m,\u001b[0m \u001b[1;33m**\u001b[0m\u001b[0mkwargs\u001b[0m\u001b[1;33m)\u001b[0m\u001b[1;33m\u001b[0m\u001b[1;33m\u001b[0m\u001b[0m\n",
       "\u001b[1;31mDocstring:\u001b[0m     \n",
       "range(stop) -> range object\n",
       "range(start, stop[, step]) -> range object\n",
       "\n",
       "Return an object that produces a sequence of integers from start (inclusive)\n",
       "to stop (exclusive) by step.  range(i, j) produces i, i+1, i+2, ..., j-1.\n",
       "start defaults to 0, and stop is omitted!  range(4) produces 0, 1, 2, 3.\n",
       "These are exactly the valid indices for a list of 4 elements.\n",
       "When step is given, it specifies the increment (or decrement).\n",
       "\u001b[1;31mType:\u001b[0m           type\n",
       "\u001b[1;31mSubclasses:\u001b[0m     "
      ]
     },
     "metadata": {},
     "output_type": "display_data"
    }
   ],
   "source": [
    "len?"
   ]
  },
  {
   "cell_type": "markdown",
   "id": "e5530a60-ec98-4972-b108-3da311455ed9",
   "metadata": {},
   "source": [
    "Range has following 3 parts.\n",
    "- start\n",
    "- stop\n",
    "- interval if .-ive then reverse otherwise forward"
   ]
  },
  {
   "cell_type": "markdown",
   "id": "8c51660c-dd53-407b-bb67-492533a5d4a9",
   "metadata": {},
   "source": [
    "### Forward Loop"
   ]
  },
  {
   "cell_type": "code",
   "execution_count": 69,
   "id": "6f592b5d-70e2-461b-9a53-73aab6aa426d",
   "metadata": {
    "tags": []
   },
   "outputs": [
    {
     "name": "stdout",
     "output_type": "stream",
     "text": [
      "5 x 1 = 5\n",
      "5 x 2 = 10\n",
      "5 x 3 = 15\n",
      "5 x 4 = 20\n",
      "5 x 5 = 25\n",
      "5 x 6 = 30\n",
      "5 x 7 = 35\n",
      "5 x 8 = 40\n",
      "5 x 9 = 45\n",
      "5 x 10 = 50\n"
     ]
    }
   ],
   "source": [
    "table_of = 5\n",
    "# Start, Stop, Interval\n",
    "for val in range(1,11, 1):\n",
    "    print (f\"{table_of} x {val} = {val * table_of}\")"
   ]
  },
  {
   "cell_type": "markdown",
   "id": "33df9737-9fa9-4a74-a7a8-5ad45a4c2103",
   "metadata": {},
   "source": [
    "### Reverse Loop"
   ]
  },
  {
   "cell_type": "code",
   "execution_count": 70,
   "id": "a434bcb1-69c4-49c6-a848-621521917e25",
   "metadata": {
    "tags": []
   },
   "outputs": [
    {
     "name": "stdout",
     "output_type": "stream",
     "text": [
      "10\n",
      "9\n",
      "8\n",
      "7\n",
      "6\n",
      "5\n",
      "4\n",
      "3\n",
      "2\n",
      "1\n"
     ]
    }
   ],
   "source": [
    "# Start, Stop, Interval\n",
    "for val in range(10,0, -1):\n",
    "    print (val)"
   ]
  },
  {
   "cell_type": "code",
   "execution_count": 21,
   "id": "b57c3f38-f602-4e25-9217-20fb897d6996",
   "metadata": {
    "tags": []
   },
   "outputs": [
    {
     "data": {
      "text/plain": [
       "3"
      ]
     },
     "execution_count": 21,
     "metadata": {},
     "output_type": "execute_result"
    }
   ],
   "source": []
  },
  {
   "cell_type": "markdown",
   "id": "a69c9539-8c45-489b-a9be-f2dd65a3307b",
   "metadata": {},
   "source": [
    "## File Operations"
   ]
  },
  {
   "cell_type": "markdown",
   "id": "919fd215-2aee-46e3-b4d8-573678e4b985",
   "metadata": {},
   "source": [
    "### Read and Write"
   ]
  },
  {
   "cell_type": "code",
   "execution_count": 194,
   "id": "5b1d9cd0-4759-4d39-9c04-5ca42bff68d1",
   "metadata": {
    "tags": []
   },
   "outputs": [
    {
     "name": "stdout",
     "output_type": "stream",
     "text": [
      "['1\\n', '2\\n', '3']\n"
     ]
    }
   ],
   "source": [
    "f = open(\"data/sample.txt\", \"r\") # r to read or w to write\n",
    "data = f.readlines()\n",
    "f.close()\n",
    "print(data)"
   ]
  },
  {
   "cell_type": "code",
   "execution_count": 73,
   "id": "bc825986-1526-42fa-a033-d15b20c1d59f",
   "metadata": {
    "tags": []
   },
   "outputs": [
    {
     "name": "stdout",
     "output_type": "stream",
     "text": [
      "<html><title>Data Science and Marketing Websites</title><body>Welcome to my website on Digital Marketing!</body></html>\n"
     ]
    }
   ],
   "source": [
    "title = \"Data Science and Marketing Websites\"\n",
    "content = \"Welcome to my website on Digital Marketing!\"\n",
    "generator = f\"<html><title>{title}</title><body>{content}</body></html>\"\n",
    "print(generator)\n",
    "\n",
    "f = open(\"data/index.html\", \"w\") # r to read or w to write\n",
    "f.write(generator)\n",
    "f.close()"
   ]
  },
  {
   "cell_type": "markdown",
   "id": "d9020a03-d225-4af3-af7a-d4b45b047d24",
   "metadata": {},
   "source": [
    "### Context Managers"
   ]
  },
  {
   "cell_type": "code",
   "execution_count": 74,
   "id": "780179e5-e68a-4532-a2f1-aabf3bf35f13",
   "metadata": {
    "tags": []
   },
   "outputs": [
    {
     "name": "stdout",
     "output_type": "stream",
     "text": [
      "['1\\n', '2\\n', '3']\n"
     ]
    }
   ],
   "source": [
    "# r to read or w to write\n",
    "\n",
    "with open(\"data/sample.txt\", \"r\") as f:\n",
    "    data = f.readlines() # f.readline(), f.readlines()\n",
    "    print (data)"
   ]
  },
  {
   "cell_type": "markdown",
   "id": "18b4da43-e108-49b4-acaa-2eedb9899c18",
   "metadata": {},
   "source": [
    "## Scripts\n",
    "\n",
    "Folllowing always requrire you to have a :\n",
    "- context manager\n",
    "- if else conditions\n",
    "- loops "
   ]
  },
  {
   "cell_type": "code",
   "execution_count": 198,
   "id": "8d880967-a47a-42fb-b209-9964c09218fd",
   "metadata": {
    "tags": []
   },
   "outputs": [
    {
     "name": "stdout",
     "output_type": "stream",
     "text": [
      "static wordpress\n"
     ]
    }
   ],
   "source": [
    "loc = \"https://www.seowings.org/static-wordpress/\"\n",
    "\n",
    "#pep8\n",
    "loc = loc.replace(\"https://www.seowings.org/\",\"\")\n",
    "loc = loc.replace(\"-\", \" \")\n",
    "keyword = loc.replace(\"/\", \"\")\n",
    "\n",
    "print(keyword)"
   ]
  },
  {
   "cell_type": "markdown",
   "id": "d9127324-d663-431e-9810-a6001969bf83",
   "metadata": {},
   "source": [
    "## Functions"
   ]
  },
  {
   "cell_type": "code",
   "execution_count": 199,
   "id": "d004f792-5158-4e8a-b8d1-d054c28aba88",
   "metadata": {
    "tags": []
   },
   "outputs": [],
   "source": [
    "def profit_loss_calculator():\n",
    "    pass\n",
    "\n",
    "def website_generator(title=\"Default Title\", content=\"Default Content\"):\n",
    "    generator = f\"<html><title>{title}</title><body>{content}</body></html>\"\n",
    "    print(generator)\n",
    "\n",
    "def ctr_estimatation():\n",
    "    pass"
   ]
  },
  {
   "cell_type": "code",
   "execution_count": 200,
   "id": "57878b92-3bc5-4509-b093-a2e494c8dbd0",
   "metadata": {
    "tags": []
   },
   "outputs": [],
   "source": [
    "# 3 is default value\n",
    "# 4 is also default value for Value2 variable\n",
    "\n",
    "def add(value1=3, value2=4): # 255 arguments\n",
    "    print (value1 + value2)"
   ]
  },
  {
   "cell_type": "code",
   "execution_count": 201,
   "id": "619abb17-1016-4625-bacd-023dd0e6828c",
   "metadata": {
    "tags": []
   },
   "outputs": [
    {
     "name": "stdout",
     "output_type": "stream",
     "text": [
      "<html><title>This is title</title><body>Default Content</body></html>\n"
     ]
    }
   ],
   "source": [
    "mywebsite_title = \"This is title\"\n",
    "mywebsite_content = \"This is an awesome contnet about Prompt Engineerin\"\n",
    "website_generator(title=mywebsite_title)"
   ]
  },
  {
   "cell_type": "code",
   "execution_count": 202,
   "id": "d88f83c3-c0e4-49c3-9766-61c82e8769be",
   "metadata": {
    "tags": []
   },
   "outputs": [
    {
     "name": "stdout",
     "output_type": "stream",
     "text": [
      "7\n",
      "7\n"
     ]
    }
   ],
   "source": [
    "add(3,4)\n",
    "add(value2=4)"
   ]
  },
  {
   "cell_type": "code",
   "execution_count": 203,
   "id": "fea1c791-4ab6-47a2-a1f1-baaa9e9cd186",
   "metadata": {
    "tags": []
   },
   "outputs": [],
   "source": [
    "# newbies approach\n",
    "def extact_sponsored_urls_from_page_1():\n",
    "    pass\n",
    "\n",
    "def extact_sponsored_urls_from_page_2():\n",
    "    pass\n",
    "\n",
    "def extact_sponsored_urls_from_page_3():\n",
    "    pass"
   ]
  },
  {
   "cell_type": "code",
   "execution_count": 204,
   "id": "a1df6efa-9102-431a-a702-ac9f4078152d",
   "metadata": {
    "tags": []
   },
   "outputs": [],
   "source": [
    "# sensible approach\n",
    "def extract_sponsored_urls_from_google(page_id=1):\n",
    "    pass\n",
    "\n",
    "extract_sponsored_urls_from_google(page_id=1)\n",
    "extract_sponsored_urls_from_google() # default value will be used"
   ]
  },
  {
   "cell_type": "code",
   "execution_count": 205,
   "id": "03b736de-5910-47f4-a26e-e831df93b7cc",
   "metadata": {
    "tags": []
   },
   "outputs": [],
   "source": [
    "# call the functions multiple time with differnt arguemtns\n",
    "extract_sponsored_urls_from_google(page_id=1)\n",
    "extract_sponsored_urls_from_google(page_id=2)\n",
    "extract_sponsored_urls_from_google(page_id=3)\n",
    "extract_sponsored_urls_from_google(page_id=4)\n",
    "extract_sponsored_urls_from_google(page_id=5)\n",
    "\n",
    "# sensible approach\n",
    "def extract_sponsored_urls_from_google(page_id=1):\n",
    "    pass\n",
    "\n",
    "# for loops \n",
    "for page_id in [1,2,3,4,5]:\n",
    "    extract_sponsored_urls_from_google(page_id)"
   ]
  },
  {
   "cell_type": "code",
   "execution_count": 76,
   "id": "72be08f7-e601-4e62-899d-941a8220b816",
   "metadata": {
    "tags": []
   },
   "outputs": [
    {
     "name": "stdout",
     "output_type": "stream",
     "text": [
      "Extracting Sponsor URLS from Google on Page 1\n",
      "Extracting Sponsor URLS from Google on Page 2\n",
      "Extracting Sponsor URLS from Google on Page 3\n",
      "Extracting Sponsor URLS from Google on Page 4\n",
      "Extracting Sponsor URLS from Google on Page 5\n",
      "Extracting Sponsor URLS from Google on Page 10\n"
     ]
    }
   ],
   "source": [
    "def extract_sponsored_urls_from_google(page_id=1):\n",
    "    \"\"\"This function is used to extract sponsored urls form Google SERP\"\"\"\n",
    "    \n",
    "    print (f\"Extracting Sponsor URLS from Google on Page {page_id}\")\n",
    "    # any code which will extract urls form Google Page should work\n",
    "    # Any condition to classify the URLs\n",
    "    # Classify using if-else\n",
    "    # GERMAN\n",
    "    # COM\n",
    "    # ORG\n",
    "\n",
    "# for loops \n",
    "page_numbers = [1,2,3,4,5, 10]\n",
    "for page_id in page_numbers:\n",
    "    extract_sponsored_urls_from_google(page_id)"
   ]
  },
  {
   "cell_type": "code",
   "execution_count": 77,
   "id": "528d7963-5a29-4266-acbf-61d0228f0b6e",
   "metadata": {
    "tags": []
   },
   "outputs": [
    {
     "data": {
      "text/plain": [
       "\u001b[1;31mSignature:\u001b[0m \u001b[0mextract_sponsored_urls_from_google\u001b[0m\u001b[1;33m(\u001b[0m\u001b[0mpage_id\u001b[0m\u001b[1;33m=\u001b[0m\u001b[1;36m1\u001b[0m\u001b[1;33m)\u001b[0m\u001b[1;33m\u001b[0m\u001b[1;33m\u001b[0m\u001b[0m\n",
       "\u001b[1;31mDocstring:\u001b[0m This function is used to extract sponsored urls form Google SERP\n",
       "\u001b[1;31mFile:\u001b[0m      c:\\users\\serpwings\\appdata\\local\\temp\\ipykernel_12512\\1967962205.py\n",
       "\u001b[1;31mType:\u001b[0m      function"
      ]
     },
     "metadata": {},
     "output_type": "display_data"
    }
   ],
   "source": [
    "extract_sponsored_urls_from_google?"
   ]
  },
  {
   "cell_type": "code",
   "execution_count": 88,
   "id": "1d3062e0-f489-4895-adc5-9ded25414507",
   "metadata": {
    "tags": []
   },
   "outputs": [
    {
     "name": "stdout",
     "output_type": "stream",
     "text": [
      "https://archive.org/wayback/available?url=seowings.org&timestamp=19900101\n",
      "https://archive.org/wayback/available?url=seowings.org&timestamp=19900401\n",
      "https://archive.org/wayback/available?url=seowings.org&timestamp=19900801\n",
      "https://archive.org/wayback/available?url=seowings.org&timestamp=20210101\n",
      "https://archive.org/wayback/available?url=seowings.org&timestamp=20210401\n",
      "https://archive.org/wayback/available?url=seowings.org&timestamp=20210801\n",
      "https://archive.org/wayback/available?url=seowings.org&timestamp=20230101\n",
      "https://archive.org/wayback/available?url=seowings.org&timestamp=20230401\n",
      "https://archive.org/wayback/available?url=seowings.org&timestamp=20230801\n"
     ]
    }
   ],
   "source": [
    "def extract_competitor_history(website_address):\n",
    "    \"\"\" This function extract history of a website \"\"\"\n",
    "    \n",
    "    month = \"01\"\n",
    "    day = \"01\"\n",
    "    for year in [\"1990\", \"2021\", \"2023\"]:\n",
    "        for month in [\"01\", \"04\", \"08\"]:\n",
    "            url = f\"https://archive.org/wayback/available?url={competitor}&timestamp={year}{month}{day}\"\n",
    "            # data_of_archived = extract_if_archive_available(url)\n",
    "            print (url)\n",
    "            # register_history = whois(competitor)\n",
    "\n",
    "extract_competitor_history(website_address = \"seowings.org\")\n",
    "extract_competitor_history(website_address = \"bestlaptops.com\")\n",
    "extract_competitor_history(website_address = \"jang.com.pk\")"
   ]
  },
  {
   "cell_type": "code",
   "execution_count": null,
   "id": "f220c7b3-e137-48e5-b0d9-51fe41276801",
   "metadata": {},
   "outputs": [],
   "source": [
    "for website_address in [\"seowings.org\",\"bestlaptops.com\", \"jang.com.pk\", \"serpwings.com\"]:\n",
    "    extract_competitor_history(website_address = )"
   ]
  },
  {
   "cell_type": "code",
   "execution_count": 93,
   "id": "827fdd36-8c28-4dbc-94d8-685a1bd4648b",
   "metadata": {
    "tags": []
   },
   "outputs": [
    {
     "data": {
      "text/plain": [
       "dict"
      ]
     },
     "execution_count": 93,
     "metadata": {},
     "output_type": "execute_result"
    }
   ],
   "source": [
    "a = {\"3\": 3}\n",
    "type(a)"
   ]
  },
  {
   "cell_type": "code",
   "execution_count": 94,
   "id": "6fcbf778-067e-43e5-a911-c8c418c4afcd",
   "metadata": {
    "tags": []
   },
   "outputs": [
    {
     "data": {
      "text/plain": [
       "dict"
      ]
     },
     "execution_count": 94,
     "metadata": {},
     "output_type": "execute_result"
    }
   ],
   "source": [
    "sa = {1,2,3}\n",
    "type(a)"
   ]
  },
  {
   "cell_type": "code",
   "execution_count": null,
   "id": "f5dbcbab-d38b-47f9-9f1b-85621b90d427",
   "metadata": {},
   "outputs": [],
   "source": []
  }
 ],
 "metadata": {
  "kernelspec": {
   "display_name": "Python 3 (ipykernel)",
   "language": "python",
   "name": "python3"
  },
  "language_info": {
   "codemirror_mode": {
    "name": "ipython",
    "version": 3
   },
   "file_extension": ".py",
   "mimetype": "text/x-python",
   "name": "python",
   "nbconvert_exporter": "python",
   "pygments_lexer": "ipython3",
   "version": "3.10.11"
  }
 },
 "nbformat": 4,
 "nbformat_minor": 5
}
