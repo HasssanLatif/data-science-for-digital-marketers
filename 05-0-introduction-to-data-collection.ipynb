{
 "cells": [
  {
   "cell_type": "markdown",
   "id": "b45d5705-ede1-4582-86eb-70151d2ed9db",
   "metadata": {},
   "source": [
    "# data handling"
   ]
  },
  {
   "cell_type": "code",
   "execution_count": 1,
   "id": "b9252264-ce96-4aa0-bdb6-63128023787d",
   "metadata": {
    "tags": []
   },
   "outputs": [],
   "source": [
    "web_links = [\"lin1.com\", \"link2.com\", \"link3.com\"]"
   ]
  },
  {
   "cell_type": "code",
   "execution_count": 10,
   "id": "fa249a07-2557-4951-93b2-8c70043bf478",
   "metadata": {
    "tags": []
   },
   "outputs": [
    {
     "data": {
      "text/plain": [
       "ParseResult(scheme='https', netloc='www.googletagmanager.com', path='/gtag/js', params='', query='id=G-R87TYPSWPH', fragment='')"
      ]
     },
     "execution_count": 10,
     "metadata": {},
     "output_type": "execute_result"
    }
   ],
   "source": [
    "\n",
    "# Standard Library\n",
    "from urllib import parse\n",
    "\n",
    "# parse.urlparse(\"https://serpwings.com/software/simply-static-netlify-callback/\")\n",
    "\n",
    "# parse.urlparse(\"https://www.amazon.com/deal/4ab5cff9?showVariations=true\")\n",
    "\n",
    "parse.urlparse(\"https://www.googletagmanager.com/gtag/js?id=G-R87TYPSWPH\")\n",
    "\n"
   ]
  },
  {
   "cell_type": "code",
   "execution_count": 24,
   "id": "a3470638-d2dd-4770-bc5c-d293e8715bb3",
   "metadata": {
    "tags": []
   },
   "outputs": [
    {
     "name": "stdout",
     "output_type": "stream",
     "text": [
      "valid\n"
     ]
    }
   ],
   "source": [
    "# Scheme\n",
    "# Netloc\n",
    "\n",
    "parsed_value = parse.urlparse(\"https://serpwings.com\")\n",
    "\n",
    "if parsed_value.scheme:\n",
    "    print (\"valid\")\n",
    "else:\n",
    "    print (\"not valid\")\n",
    "    \n",
    "is_valid = True if parsed_value.scheme else False\n",
    "\n"
   ]
  },
  {
   "cell_type": "code",
   "execution_count": 33,
   "id": "af1219c3-dd17-4fe8-9df1-cfaa39027804",
   "metadata": {
    "tags": []
   },
   "outputs": [
    {
     "data": {
      "text/plain": [
       "'valid'"
      ]
     },
     "execution_count": 33,
     "metadata": {},
     "output_type": "execute_result"
    }
   ],
   "source": [
    "def is_url_valid(url):\n",
    "    parsed_value = parse.urlparse(url)\n",
    "    return \"valid\" if parsed_value.scheme and parsed_value.netloc else \"not valid\"\n",
    "    \n",
    "url = \"https://google.com\"\n",
    "\n",
    "url_validity = is_url_valid(url)\n",
    "\n",
    "url_validity\n",
    "\n",
    "\n"
   ]
  },
  {
   "cell_type": "code",
   "execution_count": 38,
   "id": "9e098bd9-3bd5-45d7-b211-a3ab6adad222",
   "metadata": {
    "tags": []
   },
   "outputs": [
    {
     "data": {
      "text/plain": [
       "'http://archive.org/wayback/available?url=https://seowings.org&timestamp=19900101'"
      ]
     },
     "execution_count": 38,
     "metadata": {},
     "output_type": "execute_result"
    }
   ],
   "source": [
    "domain = \"https://seowings.org\"\n",
    "\n",
    "url = f\"http://archive.org/wayback/available?url={domain}&timestamp=19900101\"\n",
    "\n",
    "url \n",
    "#is_url_valid(url) # helper functions - utility functions\n"
   ]
  },
  {
   "cell_type": "code",
   "execution_count": 39,
   "id": "7d0bd89d-1845-417c-8e4c-631b24f10612",
   "metadata": {
    "tags": []
   },
   "outputs": [
    {
     "name": "stdout",
     "output_type": "stream",
     "text": [
      "Requirement already satisfied: requests in c:\\users\\serpwings\\documents\\github\\data-science-for-digital-marketers\\.venv\\lib\\site-packages (2.30.0)\n",
      "Requirement already satisfied: urllib3<3,>=1.21.1 in c:\\users\\serpwings\\documents\\github\\data-science-for-digital-marketers\\.venv\\lib\\site-packages (from requests) (2.0.2)\n",
      "Requirement already satisfied: idna<4,>=2.5 in c:\\users\\serpwings\\documents\\github\\data-science-for-digital-marketers\\.venv\\lib\\site-packages (from requests) (3.4)\n",
      "Requirement already satisfied: charset-normalizer<4,>=2 in c:\\users\\serpwings\\documents\\github\\data-science-for-digital-marketers\\.venv\\lib\\site-packages (from requests) (3.1.0)\n",
      "Requirement already satisfied: certifi>=2017.4.17 in c:\\users\\serpwings\\documents\\github\\data-science-for-digital-marketers\\.venv\\lib\\site-packages (from requests) (2023.5.7)\n"
     ]
    },
    {
     "name": "stderr",
     "output_type": "stream",
     "text": [
      "\n",
      "[notice] A new release of pip is available: 23.0.1 -> 23.1.2\n",
      "[notice] To update, run: python.exe -m pip install --upgrade pip\n"
     ]
    }
   ],
   "source": [
    "# 3rd party packages \n",
    "# pip install requests\n",
    "\n",
    "!pip install requests\n",
    "\n"
   ]
  },
  {
   "cell_type": "code",
   "execution_count": 14,
   "id": "90afe9ac-19dc-4a2f-9d97-6c6b4c2ad79b",
   "metadata": {},
   "outputs": [],
   "source": [
    "import requests\n",
    "\n",
    "r = requests.get('https://requests.readthedocs.io/')\n"
   ]
  },
  {
   "cell_type": "code",
   "execution_count": 15,
   "id": "76fdb7d1-ec32-474f-90c9-efc28fb0199e",
   "metadata": {
    "tags": []
   },
   "outputs": [
    {
     "data": {
      "text/plain": [
       "<Response [200]>"
      ]
     },
     "execution_count": 15,
     "metadata": {},
     "output_type": "execute_result"
    }
   ],
   "source": [
    "r\n",
    "\n",
    "# 200 ok\n",
    "# 301 302 redirect\n",
    "# 404 page doenst not exit\n",
    "# 410 permanently deleted\n",
    "# 500 server error\n"
   ]
  },
  {
   "cell_type": "code",
   "execution_count": 17,
   "id": "fb13f674-3acc-4d6c-bb33-897a1a913ac3",
   "metadata": {
    "tags": []
   },
   "outputs": [
    {
     "data": {
      "text/plain": [
       "{'Date': 'Wed, 17 May 2023 17:36:03 GMT', 'Content-Type': 'text/html; charset=utf-8', 'Transfer-Encoding': 'chunked', 'Connection': 'keep-alive', 'Vary': 'Accept-Encoding', 'x-amz-id-2': 'ZBFWdzKoSl8WXLUGcchqGnLq4f/c2n1FiWK+YZjWey0PO21giqtJLOjTB3uZ999fbgujdLhMf8A=', 'x-amz-request-id': '7SRWZAHDWZFGQEP6', 'Last-Modified': 'Mon, 15 May 2023 15:05:40 GMT', 'ETag': 'W/\"3bc64e8dfb9ad78da7dfc4dd7f82af3f\"', 'x-amz-server-side-encryption': 'AES256', 'x-amz-meta-mtime': '1684163110.360453993', 'X-Served': 'Nginx-Proxito-Sendfile', 'X-Backend': 'web-i-09882d230536e047f', 'X-RTD-Project': 'requests', 'X-RTD-Version': 'latest', 'X-RTD-Path': '/proxito/html/requests/latest/index.html', 'X-RTD-Domain': 'requests.readthedocs.io', 'X-RTD-Version-Method': 'path', 'X-RTD-Project-Method': 'public_domain', 'Referrer-Policy': 'no-referrer-when-downgrade', 'Strict-Transport-Security': 'max-age=31536000; includeSubDomains; preload', 'X-Content-Type-Options': 'nosniff', 'CDN-Cache-Control': 'public', 'Content-Encoding': 'gzip', 'Cache-Control': 'max-age=1200', 'CF-Cache-Status': 'HIT', 'Age': '6832', 'Server': 'cloudflare', 'CF-RAY': '7c8d9ed88ce13649-FRA', 'alt-svc': 'h3=\":443\"; ma=86400, h3-29=\":443\"; ma=86400'}"
      ]
     },
     "execution_count": 17,
     "metadata": {},
     "output_type": "execute_result"
    }
   ],
   "source": [
    "r.headers\n",
    "# dict"
   ]
  },
  {
   "cell_type": "code",
   "execution_count": 6,
   "id": "53b2043e-d234-4071-956c-bf1326807955",
   "metadata": {
    "tags": []
   },
   "outputs": [
    {
     "data": {
      "text/plain": [
       "datetime.timedelta(microseconds=252987)"
      ]
     },
     "execution_count": 6,
     "metadata": {},
     "output_type": "execute_result"
    }
   ],
   "source": [
    "import requests\n",
    "\n",
    "r = requests.get('https://seowings.org/safdsafsafd')\n",
    "\n",
    "r.history\n",
    "r.elapsed"
   ]
  },
  {
   "cell_type": "code",
   "execution_count": 7,
   "id": "a03bd054-c499-4f52-98b4-b0d2c38a4a70",
   "metadata": {
    "tags": []
   },
   "outputs": [
    {
     "data": {
      "text/plain": [
       "404"
      ]
     },
     "execution_count": 7,
     "metadata": {},
     "output_type": "execute_result"
    }
   ],
   "source": [
    "# http with www\n",
    "# http without www\n",
    "# https with www\n",
    "# https without www\n",
    "\n",
    "r.status_code"
   ]
  },
  {
   "cell_type": "code",
   "execution_count": 8,
   "id": "6798b8b3-2c68-4782-87c3-aaa49706fe70",
   "metadata": {
    "tags": []
   },
   "outputs": [
    {
     "data": {
      "text/plain": [
       "'<!DOCTYPE html>\\n<html lang=\"en\">\\n<head>\\n<meta charset=\"utf-8\" />\\n<meta http-equiv=\"X-UA-Compatible\" content=\"IE=edge\">\\n<meta name=\"viewport\" content=\"width=device-width, initial-scale=1 , shrink-to-fit=no\" />\\n<meta name=\"generator\" content=\"pyssg\" />\\n<meta name=\"author\" content=\"Faisal Shahzad\" />\\n<meta name=\"language\" content=\"english\" />\\n<meta name=\"format-detection\" content=\"telephone=yes\" />\\n<meta name=\"HandheldFriendly\" content=\"true\" />\\n<meta name=\"distribution\" content=\"web\" />\\n<meta name=\"apple-mobile-web-app-title\" content=\"SEO Wings\" />\\n<meta name=\"application-name\" content=\"SEO Wings\" />\\n<meta name=\"msapplication-TileColor\" content=\"#2b5797\" />\\n<meta name=\"next-font-preconnect\" />\\n<meta name=\"theme-color\" content=\"#ffffff\" />\\n<meta http-equiv=\"Content-Style-Type\" content=\"text/css\" />\\n<meta http-equiv=\"Content-Script-Type\" content=\"text/javascript\" />\\n<meta http-equiv=\"Content-Type\" content=\"text/html;charset=utf-8\" />\\n<meta http-equiv=\"Content-Security-Policy\" content=\"upgrade-insecure-requests\">\\n\\n<meta name=\"robots\" content=\"index, follow, max-image-preview:large, max-snippet:-1\" />\\n<meta name=\"bingbot\" content=\"index, follow, max-image-preview:large, max-snippet:-1\" />\\n<meta name=\"googlebot\" content=\"index, follow, max-image-preview:large, max-snippet:-1\" />\\n<meta name=\"description\" content=\"We write tutorials and guidelines for data driven digital marketing campaigns.\" />\\n<meta name=\"keywords\" content=\"SEO, Data Science, Static Site Generators\">\\n<link href=\"https://www.seowings.org\" rel=\"canonical\" />\\n\\n<meta content=\"en_US\" property=\"og:locale\" />\\n<meta content=\"SEO Wings\" property=\"og:site_name\" />\\n<meta content=\"website\" property=\"og:type\" />\\n<meta content=\"Digital Marketing with Data Science\" property=\"og:title\" />\\n<meta content=\"We write tutorials and guidelines for data driven digital marketing campaigns.\" property=\"og:description\" />\\n<meta content=\"https://www.seowings.org\" property=\"og:url\" />\\n<meta property=\"og:image\" content=\"https://www.seowings.org/seowings-logo.webp\" />\\n<meta content=\"680\" property=\"og:image:width\" />\\n<meta content=\"220\" property=\"og:image:height\" />\\n<meta content=\"image/png\" property=\"og:image:type\" />\\n\\n<meta name=\"twitter:card\" content=\"summary_large_image\" />\\n<meta name=\"twitter:site\" content=\"@seowings_org\" />\\n\\n<title>Digital Marketing with Data Science: SEO Wings</title>\\n\\n<script type=\"application/ld+json\">\\n            [\\n                {\\n                    \"@context\": \"https://schema.org\",\\n                    \"@graph\": [\\n                        {\\n                            \"@type\": \"Organization\",\\n                            \"@id\": \"https://www.seowings.org/#organization\",\\n                            \"name\": \"SEO Wings\",\\n                            \"url\": \"https://www.seowings.org/\",\\n                            \"sameAs\": [\\n\\n                                \"https://twitter.com/seowings_org\",\\n\\n                                \"https://www.facebook.com/seowings.org\",\\n\\n                                \"https://www.youtube.com/channel/UCkVCjD48ge5zm1NN715IdLA\",\\n\\n                                \"https://github.com/seowings\"\\n\\n                            ],\\n                            \"logo\": {\\n                                \"@type\": \"ImageObject\",\\n                                \"inLanguage\": \"en-US\",\\n                                \"@id\": \"https://www.seowings.org/#/schema/logo/image/\",\\n                                \"url\": \"https://www.seowings.org/seowings-logo.webp\",\\n                                \"contentUrl\": \"https://www.seowings.org/seowings-logo.webp\",\\n                                \"width\": 680,\\n                                \"height\": 220,\\n                                \"caption\": \"SEO Wings\"\\n                            },\\n                            \"image\": {\\n                                \"@id\": \"https://www.seowings.org/#/schema/logo/image/\"\\n                            }\\n                        },\\n                        {\\n                            \"@type\": \"WebSite\",\\n                            \"@id\": \"https://www.seowings.org/#website\",\\n                            \"url\": \"https://www.seowings.org/\",\\n                            \"name\": \"SEO Wings\",\\n                            \"description\": \"Digital Marketing with Data Science\",\\n                            \"publisher\": {\\n                                \"@id\": \"https://www.seowings.org/#organization\"\\n                            },\\n                            \"potentialAction\": [\\n                                {\\n                                    \"@type\": \"SearchAction\",\\n                                    \"target\": {\\n                                        \"@type\": \"EntryPoint\",\\n                                        \"urlTemplate\": \"https://www.seowings.org/?s={search_term_string}\"\\n                                    },\\n                                    \"query-input\": \"required name=search_term_string\"\\n                                }\\n                            ],\\n                            \"inLanguage\": \"en-US\"\\n                        },\\n                        {\\n                            \"@type\": \"CollectionPage\",\\n                            \"@id\": \"https://www.seowings.org/\",\\n                            \"url\": \"https://www.seowings.org/\",\\n                            \"name\": \"Digital Marketing with Data Science\",\\n                            \"isPartOf\": {\\n                                \"@id\": \"https://www.seowings.org/#website\"\\n                            },\\n                            \"about\": {\\n                                \"@id\": \"https://www.seowings.org/#organization\"\\n                            },\\n                            \"description\": \"We write tutorials and guidelines for data driven digital marketing campaigns.\",\\n                            \"inLanguage\": \"en-US\",\\n                            \"potentialAction\": [\\n                                {\\n                                    \"@type\": \"ReadAction\",\\n                                    \"target\": [\\n                                        \"https://www.seowings.org/\"\\n                                    ]\\n                                }\\n                            ]\\n                        }\\n                    ]\\n                }\\n                ,\\n                {\\n                    \"@context\": \"https://schema.org\",\\n                    \"@type\": \"WebSite\",\\n                    \"@id\": \"#Website\",\\n                    \"headline\": \"Seo Wings\",\\n                    \"name\": \"Seo Wings\",\\n                    \"description\": \"Digital Marketing With Data Science\",\\n                    \"url\": \"https://www.seowings.org/\"\\n                }\\n                ,\\n                {\\n                    \"@context\": \"https://schema.org/\",\\n                    \"@type\": \"Organization\",\\n                    \"@id\": \"#Organization\",\\n                    \"name\": \"SEO Wings\",\\n                    \"description\": \"Digital Marketing with Data Science\",\\n                    \"url\": \"https://www.seowings.org/\",\\n                    \"logo\": {\\n                        \"@type\": \"ImageObject\",\\n                        \"url\": \"https://www.seowings.org/seowings-logo.webp\",\\n                        \"width\": 680,\\n                        \"height\": 220,\\n                        \"caption\": \"SEO Wings logo\"\\n                    },\\n                    \"email\": \"support@seowings.org\",\\n                    \"address\": {\\n                        \"@type\": \"PostalAddress\",\\n                        \"addressCountry\": \"DE\",\\n                        \"postalCode\": \"88239\",\\n                        \"streetAddress\": \"Herrenstr. 8, Wangen\"\\n                    },\\n                    \"founder\": {\\n                        \"@type\": \"Person\",\\n                        \"name\": \"Faisal Shahzad\",\\n                        \"gender\": \"Male\",\\n                        \"jobTitle\": \"CEO\",\\n                        \"image\": \"https://www.seowings.org/shahzad.webp\",\\n                        \"sameAs\": []\\n                    },\\n                    \"foundingDate\": \"\",\\n                    \"sameAs\": [\\n\\n                        \"https://twitter.com/seowings_org\",\\n\\n                        \"https://www.facebook.com/seowings.org\",\\n\\n                        \"https://www.youtube.com/channel/UCkVCjD48ge5zm1NN715IdLA\",\\n\\n                        \"https://github.com/seowings\"\\n\\n                    ],\\n                    \"contactPoint\": [\\n                        {\\n                            \"@type\": \"ContactPoint\",\\n                            \"contactType\": \"customer service\",\\n                            \"email\": \"support@seowings.org\",\\n                            \"url\": \"https://www.seowings.org/\",\\n                            \"areaServed\": [\\n                                \"US\",\\n                                \"CA\",\\n                                \"GB\",\\n                                \"ES\",\\n                                \"IT\",\\n                                \"FR\",\\n                                \"DE\"\\n                            ],\\n                            \"contactOption\": [\\n                                \"HearingImpairedSupported\"\\n                            ],\\n                            \"availableLanguage\": [\\n                                \"English\"\\n                            ]\\n                        }\\n                    ]\\n                }\\n            ]\\n        </script>\\n\\n<link rel=\"icon\" type=\"image/x-icon\" href=\"https://www.seowings.org/favicon.icon\" />\\n<link rel=\"shortcut icon\" href=\"https://www.seowings.org/favicon.ico\" />\\n<meta content=\"https://www.seowings.org/favicon.îco\" name=\"msapplication-TileImage\">\\n\\n<link href=\"https://www.seowings.org/theme/css/styles.css\" rel=\"stylesheet\" />\\n<link href=\"https://www.seowings.org/theme/css/custom.css\" rel=\"stylesheet\" />\\n<link rel=\"stylesheet\" href=\"https://cdn.jsdelivr.net/gh/Wruczek/Bootstrap-Cookie-Alert@gh-pages/cookiealert.css\">\\n\\n\\n<script async src=\"https://www.googletagmanager.com/gtag/js?id=G-HJ8TYNPG9G\"></script>\\n<script>\\n            window.dataLayer = window.dataLayer || [];\\n            function gtag() { dataLayer.push(arguments); }\\n            gtag(\\'js\\', new Date());\\n            gtag(\\'config\\', \\'G-HJ8TYNPG9G\\');\\n        </script>\\n</head>\\n<body>\\n\\n<nav class=\"navbar navbar-expand-lg navbar-dark bg-dark py-2\">\\n<div class=\"container\">\\n<a class=\"navbar-brand\" href=\"https://www.seowings.org/\" rel=\"home\">\\n<img src=\"https://www.seowings.org/seowings-logo.webp\" width=\"130\" height=\"43\" class=\"d-inline-block align-top\" alt=\"SEO Wings Logo\"></a>\\n<button class=\"navbar-toggler\" type=\"button\" data-bs-toggle=\"collapse\" data-bs-target=\"#navbarSupportedContent\" aria-controls=\"navbarSupportedContent\" aria-expanded=\"false\" aria-label=\"Toggle navigation\"><span class=\"navbar-toggler-icon\"></span></button>\\n<div class=\"collapse navbar-collapse\" id=\"navbarSupportedContent\">\\n<ul class=\"navbar-nav ms-auto mb-2 mb-lg-0\">\\n<li class=\"nav-item\">\\n<a class=\"nav-link\" style=\"color: #fff; text-decoration: None;\" href=\"/\">Home</a>\\n</li>\\n<li class=\"nav-item\">\\n<a class=\"nav-link\" style=\"color: #fff; text-decoration: None;\" href=\"/simply-static-tutorial/\">Simply Static Tutorial</a>\\n</li>\\n<li class=\"nav-item\">\\n<a class=\"nav-link\" style=\"color: #fff; text-decoration: None;\" href=\"/host-wordpress-website-on-netlify/\">WordPress on Netlify</a>\\n</li>\\n<li class=\"nav-item\">\\n<a class=\"nav-link\" style=\"color: #fff; text-decoration: None;\" href=\"/download/\">Download</a>\\n</li>\\n\\n</ul>\\n</div>\\n</div>\\n</nav>\\n\\n<div class=\"container my-4\">\\n<div class=\"row\">\\n<div class=\"col-lg-8\">\\n<article>\\n<figure class=\" mb-4\"><img class=\"img-fluid rounded\" src=\"https://www.seowings.org/404.webp\" alt=\"404- Page Not Found\" />\\n</figure>\\n<nav class=\"mt-4\" aria-label=\"breadcrumb\">\\n<ol class=\"breadcrumb\">\\n<li class=\"breadcrumb-item\"><a href=\"/\">Home</a></li>\\n<li class=\"breadcrumb-item active\" aria-current=\"page\">404-Error</li>\\n</ol>\\n</nav>\\n<header class=\"mb-4\">\\n<h1 class=\"fw-bolder mb-3\">404 Error - Content Not Found</h1>\\n</header>\\n<section class=\"mb-5\">\\n<p>\\nYou just hit a route that does not exist. Please <a href=\"/\">Click Here</a> to go back to home page.\\n</p>\\n</section>\\n</article>\\n</div>\\n<div class=\"col-lg-4\">\\n<div class=\"card mb-4\">\\n<form class=\"gform\" method=\"POST\" class=\"customize-unpreviewable\" style=\"padding-top: 20px;\\n                            padding-right: 20px;\\n                            padding-bottom: 0px;\\n                            padding-left: 20px;\" action=\"https://script.google.com/macros/s/AKfycbyIk97pYcyFHdFy1psinXeqwSHfjrqLCyt3XJUwHitmxbkA3GKXRTixHIxOxoBK0jY29A/exec\">\\n<div class=\"main-form\" style=\"text-align: center;\">\\n<h2 style=\"text-align: center;\">Newsletter Sign Up</h2>\\n<p style=\"font-size: medium; text-align: center;\">I write about SEO, Data Sciences, Web Dev, and\\u200b more\\ntopics. Subscribe to get new posts by email!</p>\\n<div class=\"emailoctopus-form-row form-group mb-2\" style=\"font-size: medium; text-align: center;\" eo-block=\"form-row\" eo-label=\"Email address\">\\n<input id=\"email\" name=\"email\" type=\"email\" placeholder=\"Email address\" required=\"required\" class=\"form-control\">\\n</div>\\n<div style=\"width: 100%;\">\\n<p style=\"font-size: medium; text-align: center;\">\\n<input type=\"checkbox\" required name=\"subscribe\" aria-label=\"subscribe\">\\nBy Signing Up for the Newsletter, you agree to the <a href=\"/terms-of-services/\" target=\"_blank\">Terms of services</a>\\nand <a href=\"/privacy-policy/\" target=\"_blank\">Privacy Policy</a>. You can <a href=\"/unsubscribe/\">unsubscribe</a> any time.\\n</p>\\n</div>\\n<input type=\"submit\" name=\"formbutton\" value=\"Subscribe\" class=\"btn w-40 mb-2\" style=\"background-color: #214866;color: white; width: 100%;\">\\n</div>\\n<div>\\n<p class=\"thankyou_message\" style=\"display:none; font-size: medium; text-align: center;\">Thanks for subscribing to our newsletter.</p>\\n</div>\\n</form>\\n<p class=\"text-center text-white\">\\n<a class=\"mx-1\" style=\"text-decoration: None;\" aria-label=\"Twitter\" href=\"https://twitter.com/seowings_org\" target=\"_blank\" rel=\"noreferrer noopener\"><svg xmlns=\"http://www.w3.org/2000/svg\" width=\"20\" height=\"20\" fill=\"currentColor\" class=\"bi bi-twitter\" viewbox=\"0 0 16 16\"><path d=\"M5.026 15c6.038 0 9.341-5.003 9.341-9.334 0-.14 0-.282-.006-.422A6.685 6.685 0 0 0 16 3.542a6.658 6.658 0 0 1-1.889.518 3.301 3.301 0 0 0 1.447-1.817 6.533 6.533 0 0 1-2.087.793A3.286 3.286 0 0 0 7.875 6.03a9.325 9.325 0 0 1-6.767-3.429 3.289 3.289 0 0 0 1.018 4.382A3.323 3.323 0 0 1 .64 6.575v.045a3.288 3.288 0 0 0 2.632 3.218 3.203 3.203 0 0 1-.865.115 3.23 3.23 0 0 1-.614-.057 3.283 3.283 0 0 0 3.067 2.277A6.588 6.588 0 0 1 .78 13.58a6.32 6.32 0 0 1-.78-.045A9.344 9.344 0 0 0 5.026 15z\" /></svg> </a>\\n<a class=\"mx-1\" style=\"text-decoration: None;\" aria-label=\"Facebook\" href=\"https://www.facebook.com/seowings.org\" target=\"_blank\" rel=\"noreferrer noopener\"><svg xmlns=\"http://www.w3.org/2000/svg\" width=\"20\" height=\"20\" fill=\"currentColor\" class=\"bi bi-facebook\" viewbox=\"0 0 16 16\"><path d=\"M16 8.049c0-4.446-3.582-8.05-8-8.05C3.58 0-.002 3.603-.002 8.05c0 4.017 2.926 7.347 6.75 7.951v-5.625h-2.03V8.05H6.75V6.275c0-2.017 1.195-3.131 3.022-3.131.876 0 1.791.157 1.791.157v1.98h-1.009c-.993 0-1.303.621-1.303 1.258v1.51h2.218l-.354 2.326H9.25V16c3.824-.604 6.75-3.934 6.75-7.951z\" /></svg> </a>\\n<a class=\"mx-1\" style=\"text-decoration: None;\" aria-label=\"Youtube\" href=\"https://www.youtube.com/channel/UCkVCjD48ge5zm1NN715IdLA\" target=\"_blank\" rel=\"noreferrer noopener\"><svg xmlns=\"http://www.w3.org/2000/svg\" width=\"20\" height=\"20\" fill=\"currentColor\" class=\"bi bi-youtube\" viewbox=\"0 0 16 16\"><path d=\"M8.051 1.999h.089c.822.003 4.987.033 6.11.335a2.01 2.01 0 0 1 1.415 1.42c.101.38.172.883.22 1.402l.01.104.022.26.008.104c.065.914.073 1.77.074 1.957v.075c-.001.194-.01 1.108-.082 2.06l-.008.105-.009.104c-.05.572-.124 1.14-.235 1.558a2.007 2.007 0 0 1-1.415 1.42c-1.16.312-5.569.334-6.18.335h-.142c-.309 0-1.587-.006-2.927-.052l-.17-.006-.087-.004-.171-.007-.171-.007c-1.11-.049-2.167-.128-2.654-.26a2.007 2.007 0 0 1-1.415-1.419c-.111-.417-.185-.986-.235-1.558L.09 9.82l-.008-.104A31.4 31.4 0 0 1 0 7.68v-.123c.002-.215.01-.958.064-1.778l.007-.103.003-.052.008-.104.022-.26.01-.104c.048-.519.119-1.023.22-1.402a2.007 2.007 0 0 1 1.415-1.42c.487-.13 1.544-.21 2.654-.26l.17-.007.172-.006.086-.003.171-.007A99.788 99.788 0 0 1 7.858 2h.193zM6.4 5.209v4.818l4.157-2.408L6.4 5.209z\" /></svg> </a>\\n<a class=\"mx-1\" style=\"text-decoration: None;\" aria-label=\"Github\" href=\"https://github.com/seowings\" target=\"_blank\" rel=\"noreferrer noopener\"><svg xmlns=\"http://www.w3.org/2000/svg\" width=\"20\" height=\"20\" fill=\"currentColor\" class=\"bi bi-github\" viewbox=\"0 0 16 16\"><path d=\"M8 0C3.58 0 0 3.58 0 8c0 3.54 2.29 6.53 5.47 7.59.4.07.55-.17.55-.38 0-.19-.01-.82-.01-1.49-2.01.37-2.53-.49-2.69-.94-.09-.23-.48-.94-.82-1.13-.28-.15-.68-.52-.01-.53.63-.01 1.08.58 1.23.82.72 1.21 1.87.87 2.33.66.07-.52.28-.87.51-1.07-1.78-.2-3.64-.89-3.64-3.95 0-.87.31-1.59.82-2.15-.08-.2-.36-1.02.08-2.12 0 0 .67-.21 2.2.82.64-.18 1.32-.27 2-.27.68 0 1.36.09 2 .27 1.53-1.04 2.2-.82 2.2-.82.44 1.1.16 1.92.08 2.12.51.56.82 1.27.82 2.15 0 3.07-1.87 3.75-3.65 3.95.29.25.54.73.54 1.48 0 1.07-.01 1.93-.01 2.2 0 .21.15.46.55.38A8.012 8.012 0 0 0 16 8c0-4.42-3.58-8-8-8z\" /></svg> </a>\\n</p>\\n</div>\\n<div class=\"card mb-4\">\\n<div class=\"card-header\">All categories</div>\\n<div class=\"card-body\">\\n<a href=\"/wordpress/\" class=\"badge badge-light text-muted\">WordPress</a>\\n<a href=\"/web-domains/\" class=\"badge badge-light text-muted\">Web Domains</a>\\n<a href=\"/software/\" class=\"badge badge-light text-muted\">Software</a>\\n<a href=\"/search-engine-optimization/\" class=\"badge badge-light text-muted\">Search Engine Optimization</a>\\n<a href=\"/static-websites/\" class=\"badge badge-light text-muted\">Static Websites</a>\\n<a href=\"/research-work/\" class=\"badge badge-light text-muted\">Research Work</a>\\n</div>\\n</div>\\n</div>\\n</div>\\n\\n<div class=\"row\">\\n\\n<div class=\"py-3 mb-2\">\\n<div class=\"text-left my-1\">\\n<h2 class=\"fw-bolder\">Recent Posts</h2>\\n</div>\\n</div>\\n<div class=\"col-lg-3\">\\n<div class=\"card mb-4\">\\n<a href=\"/static-wordpress/\">\\n<picture>\\n<source srcset=\"/images/static-wordpress/feature-image-334w.webp\" media=\"(max-width: 414px)\">\\n<img class=\"img-fluid rounded\" src=\"/images/static-wordpress/feature-image-668w.webp\" alt=\"Static WordPress Website- An Introductory Tutorial [2023]\" width=\"694\" height=\"363\" loading=\"lazy\" />\\n</picture>\\n</a>\\n<div class=\"card-body\">\\n<a href=\"/static-wordpress/\">\\n<h2 class=\"card-title h4\">Static WordPress-An Introductory Tutorial [2023]</h2>\\n</a>\\n<p class=\"card-text\">\\n<small class=\"text-muted\">\\n<span class=\"px-1\">\\n<svg xmlns=\"http://www.w3.org/2000/svg\" width=\"16\" height=\"16\" fill=\"currentColor\" class=\"bi bi-clock-fill\" viewbox=\"0 0 16 16\">\\n<path d=\"M16 8A8 8 0 1 1 0 8a8 8 0 0 1 16 0zM8 3.5a.5.5 0 0 0-1 0V9a.5.5 0 0 0 .252.434l3.5 2a.5.5 0 0 0 .496-.868L8 8.71V3.5z\" />\\n</svg>\\n</span>\\n<span class=\"mr-2\">18 Nov 2022</span>\\n<span class=\"px-1\">\\n<svg xmlns=\"http://www.w3.org/2000/svg\" width=\"16\" height=\"16\" fill=\"currentColor\" class=\"bi bi-tag-fill\" viewbox=\"0 0 16 16\">\\n<path d=\"M2 1a1 1 0 0 0-1 1v4.586a1 1 0 0 0 .293.707l7 7a1 1 0 0 0 1.414 0l4.586-4.586a1 1 0 0 0 0-1.414l-7-7A1 1 0 0 0 6.586 1H2zm4 3.5a1.5 1.5 0 1 1-3 0 1.5 1.5 0 0 1 3 0z\" />\\n</svg>\\n</span>\\n<span>\\n<a href=\"/wordpress/\" class=\"text-muted\">WordPress\\n</a>\\n</span>\\n</small>\\n</p>\\n</div>\\n</div>\\n</div>\\n<div class=\"col-lg-3\">\\n<div class=\"card mb-4\">\\n<a href=\"/simply-static-tutorial/\">\\n<picture>\\n<source srcset=\"/images/simply-static-tutorial/feature-image-334w.webp\" media=\"(max-width: 414px)\">\\n<img class=\"img-fluid rounded\" src=\"/images/simply-static-tutorial/feature-image-668w.webp\" alt=\"Simply Static Tutorial for Static WordPress Hosting on Netlify\" width=\"694\" height=\"363\" loading=\"lazy\" />\\n</picture>\\n</a>\\n<div class=\"card-body\">\\n<a href=\"/simply-static-tutorial/\">\\n<h2 class=\"card-title h4\">WordPress Hosting on Netlify Using Simply Static</h2>\\n</a>\\n<p class=\"card-text\">\\n<small class=\"text-muted\">\\n<span class=\"px-1\">\\n<svg xmlns=\"http://www.w3.org/2000/svg\" width=\"16\" height=\"16\" fill=\"currentColor\" class=\"bi bi-clock-fill\" viewbox=\"0 0 16 16\">\\n<path d=\"M16 8A8 8 0 1 1 0 8a8 8 0 0 1 16 0zM8 3.5a.5.5 0 0 0-1 0V9a.5.5 0 0 0 .252.434l3.5 2a.5.5 0 0 0 .496-.868L8 8.71V3.5z\" />\\n</svg>\\n</span>\\n<span class=\"mr-2\">05 Mar 2023</span>\\n<span class=\"px-1\">\\n<svg xmlns=\"http://www.w3.org/2000/svg\" width=\"16\" height=\"16\" fill=\"currentColor\" class=\"bi bi-tag-fill\" viewbox=\"0 0 16 16\">\\n<path d=\"M2 1a1 1 0 0 0-1 1v4.586a1 1 0 0 0 .293.707l7 7a1 1 0 0 0 1.414 0l4.586-4.586a1 1 0 0 0 0-1.414l-7-7A1 1 0 0 0 6.586 1H2zm4 3.5a1.5 1.5 0 1 1-3 0 1.5 1.5 0 0 1 3 0z\" />\\n</svg>\\n</span>\\n<span>\\n<a href=\"/wordpress/\" class=\"text-muted\">WordPress\\n</a>\\n</span>\\n</small>\\n</p>\\n</div>\\n</div>\\n</div>\\n<div class=\"col-lg-3\">\\n<div class=\"card mb-4\">\\n<a href=\"/host-wordpress-website-on-netlify/\">\\n<picture>\\n<source srcset=\"/images/host-wordpress-website-on-netlify/feature-image-334w.webp\" media=\"(max-width: 414px)\">\\n<img class=\"img-fluid rounded\" src=\"/images/host-wordpress-website-on-netlify/feature-image-668w.webp\" alt=\"WordPress on Netlify - Step by Step Complete Guide (2022)\" width=\"694\" height=\"363\" loading=\"lazy\" />\\n</picture>\\n</a>\\n<div class=\"card-body\">\\n<a href=\"/host-wordpress-website-on-netlify/\">\\n<h2 class=\"card-title h4\">WordPress on Netlify - Step by Step Complete Guide (2022)</h2>\\n</a>\\n<p class=\"card-text\">\\n<small class=\"text-muted\">\\n<span class=\"px-1\">\\n<svg xmlns=\"http://www.w3.org/2000/svg\" width=\"16\" height=\"16\" fill=\"currentColor\" class=\"bi bi-clock-fill\" viewbox=\"0 0 16 16\">\\n<path d=\"M16 8A8 8 0 1 1 0 8a8 8 0 0 1 16 0zM8 3.5a.5.5 0 0 0-1 0V9a.5.5 0 0 0 .252.434l3.5 2a.5.5 0 0 0 .496-.868L8 8.71V3.5z\" />\\n</svg>\\n</span>\\n<span class=\"mr-2\">19 Nov 2022</span>\\n<span class=\"px-1\">\\n<svg xmlns=\"http://www.w3.org/2000/svg\" width=\"16\" height=\"16\" fill=\"currentColor\" class=\"bi bi-tag-fill\" viewbox=\"0 0 16 16\">\\n<path d=\"M2 1a1 1 0 0 0-1 1v4.586a1 1 0 0 0 .293.707l7 7a1 1 0 0 0 1.414 0l4.586-4.586a1 1 0 0 0 0-1.414l-7-7A1 1 0 0 0 6.586 1H2zm4 3.5a1.5 1.5 0 1 1-3 0 1.5 1.5 0 0 1 3 0z\" />\\n</svg>\\n</span>\\n<span>\\n<a href=\"/wordpress/\" class=\"text-muted\">WordPress\\n</a>\\n</span>\\n</small>\\n</p>\\n</div>\\n</div>\\n</div>\\n<div class=\"col-lg-3\">\\n<div class=\"card mb-4\">\\n<a href=\"/web-server-log-files/\">\\n<picture>\\n<source srcset=\"/images/web-server-log-files/feature-image-334w.webp\" media=\"(max-width: 414px)\">\\n<img class=\"img-fluid rounded\" src=\"/images/web-server-log-files/feature-image-668w.webp\" alt=\"What Are Web Server Log Files?\" width=\"694\" height=\"363\" loading=\"lazy\" />\\n</picture>\\n</a>\\n<div class=\"card-body\">\\n<a href=\"/web-server-log-files/\">\\n<h2 class=\"card-title h4\">What Are Web Server Log Files?</h2>\\n</a>\\n<p class=\"card-text\">\\n<small class=\"text-muted\">\\n<span class=\"px-1\">\\n<svg xmlns=\"http://www.w3.org/2000/svg\" width=\"16\" height=\"16\" fill=\"currentColor\" class=\"bi bi-clock-fill\" viewbox=\"0 0 16 16\">\\n<path d=\"M16 8A8 8 0 1 1 0 8a8 8 0 0 1 16 0zM8 3.5a.5.5 0 0 0-1 0V9a.5.5 0 0 0 .252.434l3.5 2a.5.5 0 0 0 .496-.868L8 8.71V3.5z\" />\\n</svg>\\n</span>\\n<span class=\"mr-2\">27 Nov 2022</span>\\n<span class=\"px-1\">\\n<svg xmlns=\"http://www.w3.org/2000/svg\" width=\"16\" height=\"16\" fill=\"currentColor\" class=\"bi bi-tag-fill\" viewbox=\"0 0 16 16\">\\n<path d=\"M2 1a1 1 0 0 0-1 1v4.586a1 1 0 0 0 .293.707l7 7a1 1 0 0 0 1.414 0l4.586-4.586a1 1 0 0 0 0-1.414l-7-7A1 1 0 0 0 6.586 1H2zm4 3.5a1.5 1.5 0 1 1-3 0 1.5 1.5 0 0 1 3 0z\" />\\n</svg>\\n</span>\\n<span>\\n<a href=\"/static-websites/\" class=\"text-muted\">Static Websites\\n</a>\\n</span>\\n</small>\\n</p>\\n</div>\\n</div>\\n</div>\\n<div class=\"col-lg-3\">\\n<div class=\"card mb-4\">\\n<a href=\"/local-wordpress-hosting-on-virtual-machines/\">\\n<picture>\\n<source srcset=\"/images/local-wordpress-hosting-on-virtual-machines/feature-image-334w.webp\" media=\"(max-width: 414px)\">\\n<img class=\"img-fluid rounded\" src=\"/images/local-wordpress-hosting-on-virtual-machines/feature-image-668w.webp\" alt=\"How To Use Virtual Machines for Local WordPress Hosting?\" width=\"694\" height=\"363\" loading=\"lazy\" />\\n</picture>\\n</a>\\n<div class=\"card-body\">\\n<a href=\"/local-wordpress-hosting-on-virtual-machines/\">\\n<h2 class=\"card-title h4\">How To Host WordPress on Virtual Machines?</h2>\\n</a>\\n<p class=\"card-text\">\\n<small class=\"text-muted\">\\n<span class=\"px-1\">\\n<svg xmlns=\"http://www.w3.org/2000/svg\" width=\"16\" height=\"16\" fill=\"currentColor\" class=\"bi bi-clock-fill\" viewbox=\"0 0 16 16\">\\n<path d=\"M16 8A8 8 0 1 1 0 8a8 8 0 0 1 16 0zM8 3.5a.5.5 0 0 0-1 0V9a.5.5 0 0 0 .252.434l3.5 2a.5.5 0 0 0 .496-.868L8 8.71V3.5z\" />\\n</svg>\\n</span>\\n<span class=\"mr-2\">20 Nov 2022</span>\\n<span class=\"px-1\">\\n<svg xmlns=\"http://www.w3.org/2000/svg\" width=\"16\" height=\"16\" fill=\"currentColor\" class=\"bi bi-tag-fill\" viewbox=\"0 0 16 16\">\\n<path d=\"M2 1a1 1 0 0 0-1 1v4.586a1 1 0 0 0 .293.707l7 7a1 1 0 0 0 1.414 0l4.586-4.586a1 1 0 0 0 0-1.414l-7-7A1 1 0 0 0 6.586 1H2zm4 3.5a1.5 1.5 0 1 1-3 0 1.5 1.5 0 0 1 3 0z\" />\\n</svg>\\n</span>\\n<span>\\n<a href=\"/wordpress/\" class=\"text-muted\">WordPress\\n</a>\\n</span>\\n</small>\\n</p>\\n</div>\\n</div>\\n</div>\\n<div class=\"col-lg-3\">\\n<div class=\"card mb-4\">\\n<a href=\"/seoquake-tutorial/\">\\n<picture>\\n<source srcset=\"/images/seoquake-tutorial/feature-image-334w.webp\" media=\"(max-width: 414px)\">\\n<img class=\"img-fluid rounded\" src=\"/images/seoquake-tutorial/feature-image-668w.webp\" alt=\"Best Web Extension for Search Engine Optimization?\" width=\"694\" height=\"363\" loading=\"lazy\" />\\n</picture>\\n</a>\\n<div class=\"card-body\">\\n<a href=\"/seoquake-tutorial/\">\\n<h2 class=\"card-title h4\">SEOquake-Best Web Extension for Search Engine Optimization?</h2>\\n</a>\\n<p class=\"card-text\">\\n<small class=\"text-muted\">\\n<span class=\"px-1\">\\n<svg xmlns=\"http://www.w3.org/2000/svg\" width=\"16\" height=\"16\" fill=\"currentColor\" class=\"bi bi-clock-fill\" viewbox=\"0 0 16 16\">\\n<path d=\"M16 8A8 8 0 1 1 0 8a8 8 0 0 1 16 0zM8 3.5a.5.5 0 0 0-1 0V9a.5.5 0 0 0 .252.434l3.5 2a.5.5 0 0 0 .496-.868L8 8.71V3.5z\" />\\n</svg>\\n</span>\\n<span class=\"mr-2\">29 Nov 2022</span>\\n<span class=\"px-1\">\\n<svg xmlns=\"http://www.w3.org/2000/svg\" width=\"16\" height=\"16\" fill=\"currentColor\" class=\"bi bi-tag-fill\" viewbox=\"0 0 16 16\">\\n<path d=\"M2 1a1 1 0 0 0-1 1v4.586a1 1 0 0 0 .293.707l7 7a1 1 0 0 0 1.414 0l4.586-4.586a1 1 0 0 0 0-1.414l-7-7A1 1 0 0 0 6.586 1H2zm4 3.5a1.5 1.5 0 1 1-3 0 1.5 1.5 0 0 1 3 0z\" />\\n</svg>\\n</span>\\n<span>\\n<a href=\"/search-engine-optimization/\" class=\"text-muted\">Search Engine Optimization\\n</a>\\n</span>\\n</small>\\n</p>\\n</div>\\n</div>\\n</div>\\n</div>\\n</div>\\n\\n<footer class=\"py-3 bg-dark\">\\n<div class=\"container\">\\n<p class=\"text-center text-white\">\\n<img src=\"https://www.seowings.org/seowings-logo.webp\" width=\"221\" height=\"73\" class=\"d-inline-block align-top\" alt=\"SEO Wings Logo\">\\n</p>\\n<p class=\"text-center text-white\">\\n<a class=\"mx-3\" style=\"color: #f8f9faff; text-decoration: None;\" target=\"_blank\" rel=\"noreferrer noopener\" href=\"https://twitter.com/seowings_org\"><svg xmlns=\"http://www.w3.org/2000/svg\" width=\"20\" height=\"20\" fill=\"currentColor\" class=\"bi bi-twitter\" viewbox=\"0 0 16 16\"><path d=\"M5.026 15c6.038 0 9.341-5.003 9.341-9.334 0-.14 0-.282-.006-.422A6.685 6.685 0 0 0 16 3.542a6.658 6.658 0 0 1-1.889.518 3.301 3.301 0 0 0 1.447-1.817 6.533 6.533 0 0 1-2.087.793A3.286 3.286 0 0 0 7.875 6.03a9.325 9.325 0 0 1-6.767-3.429 3.289 3.289 0 0 0 1.018 4.382A3.323 3.323 0 0 1 .64 6.575v.045a3.288 3.288 0 0 0 2.632 3.218 3.203 3.203 0 0 1-.865.115 3.23 3.23 0 0 1-.614-.057 3.283 3.283 0 0 0 3.067 2.277A6.588 6.588 0 0 1 .78 13.58a6.32 6.32 0 0 1-.78-.045A9.344 9.344 0 0 0 5.026 15z\" /></svg> Twitter</a>\\n<a class=\"mx-3\" style=\"color: #f8f9faff; text-decoration: None;\" target=\"_blank\" rel=\"noreferrer noopener\" href=\"https://www.facebook.com/seowings.org\"><svg xmlns=\"http://www.w3.org/2000/svg\" width=\"20\" height=\"20\" fill=\"currentColor\" class=\"bi bi-facebook\" viewbox=\"0 0 16 16\"><path d=\"M16 8.049c0-4.446-3.582-8.05-8-8.05C3.58 0-.002 3.603-.002 8.05c0 4.017 2.926 7.347 6.75 7.951v-5.625h-2.03V8.05H6.75V6.275c0-2.017 1.195-3.131 3.022-3.131.876 0 1.791.157 1.791.157v1.98h-1.009c-.993 0-1.303.621-1.303 1.258v1.51h2.218l-.354 2.326H9.25V16c3.824-.604 6.75-3.934 6.75-7.951z\" /></svg> Facebook</a>\\n<a class=\"mx-3\" style=\"color: #f8f9faff; text-decoration: None;\" target=\"_blank\" rel=\"noreferrer noopener\" href=\"https://www.youtube.com/channel/UCkVCjD48ge5zm1NN715IdLA\"><svg xmlns=\"http://www.w3.org/2000/svg\" width=\"20\" height=\"20\" fill=\"currentColor\" class=\"bi bi-youtube\" viewbox=\"0 0 16 16\"><path d=\"M8.051 1.999h.089c.822.003 4.987.033 6.11.335a2.01 2.01 0 0 1 1.415 1.42c.101.38.172.883.22 1.402l.01.104.022.26.008.104c.065.914.073 1.77.074 1.957v.075c-.001.194-.01 1.108-.082 2.06l-.008.105-.009.104c-.05.572-.124 1.14-.235 1.558a2.007 2.007 0 0 1-1.415 1.42c-1.16.312-5.569.334-6.18.335h-.142c-.309 0-1.587-.006-2.927-.052l-.17-.006-.087-.004-.171-.007-.171-.007c-1.11-.049-2.167-.128-2.654-.26a2.007 2.007 0 0 1-1.415-1.419c-.111-.417-.185-.986-.235-1.558L.09 9.82l-.008-.104A31.4 31.4 0 0 1 0 7.68v-.123c.002-.215.01-.958.064-1.778l.007-.103.003-.052.008-.104.022-.26.01-.104c.048-.519.119-1.023.22-1.402a2.007 2.007 0 0 1 1.415-1.42c.487-.13 1.544-.21 2.654-.26l.17-.007.172-.006.086-.003.171-.007A99.788 99.788 0 0 1 7.858 2h.193zM6.4 5.209v4.818l4.157-2.408L6.4 5.209z\" /></svg> Youtube</a>\\n<a class=\"mx-3\" style=\"color: #f8f9faff; text-decoration: None;\" target=\"_blank\" rel=\"noreferrer noopener\" href=\"https://github.com/seowings\"><svg xmlns=\"http://www.w3.org/2000/svg\" width=\"20\" height=\"20\" fill=\"currentColor\" class=\"bi bi-github\" viewbox=\"0 0 16 16\"><path d=\"M8 0C3.58 0 0 3.58 0 8c0 3.54 2.29 6.53 5.47 7.59.4.07.55-.17.55-.38 0-.19-.01-.82-.01-1.49-2.01.37-2.53-.49-2.69-.94-.09-.23-.48-.94-.82-1.13-.28-.15-.68-.52-.01-.53.63-.01 1.08.58 1.23.82.72 1.21 1.87.87 2.33.66.07-.52.28-.87.51-1.07-1.78-.2-3.64-.89-3.64-3.95 0-.87.31-1.59.82-2.15-.08-.2-.36-1.02.08-2.12 0 0 .67-.21 2.2.82.64-.18 1.32-.27 2-.27.68 0 1.36.09 2 .27 1.53-1.04 2.2-.82 2.2-.82.44 1.1.16 1.92.08 2.12.51.56.82 1.27.82 2.15 0 3.07-1.87 3.75-3.65 3.95.29.25.54.73.54 1.48 0 1.07-.01 1.93-.01 2.2 0 .21.15.46.55.38A8.012 8.012 0 0 0 16 8c0-4.42-3.58-8-8-8z\" /></svg> Github</a>\\n</p>\\n<p class=\"text-center text-white\">\\n<a class=\"mx-2\" style=\"color: #f8f9faff; text-decoration: None;\" href=\"/privacy-policy/\">Privacy Policy</a>\\n<a class=\"mx-2\" style=\"color: #f8f9faff; text-decoration: None;\" href=\"/terms-of-services/\">Terms of Services</a>\\n<a class=\"mx-2\" style=\"color: #f8f9faff; text-decoration: None;\" href=\"/contact-us/\">Contact Us</a>\\n<a class=\"mx-2\" style=\"color: #f8f9faff; text-decoration: None;\" href=\"/download/\">Download</a>\\n</p>\\n<p class=\"text-center text-white\">Seo Wings &copy; 2022. All rights reserved.</p>\\n</div>\\n</footer>\\n\\n<div class=\"alert text-center cookiealert\" role=\"alert\">\\n<b>Do you like cookies?</b> &#x1F36A; We and our selected third parties use cookies or similar technologies to ensure you get the best experience on our website. They are specified in the our <a href=\"/privacy-policy/\" class=\"text-white\" target=\"_blank\">Privacy Policy</a> and <a href=\"/terms-of-services/\" class=\"text-white\" target=\"_blank\">Terms of Services</a>.\\n<button type=\"button\" class=\"btn btn-primary btn-sm acceptcookies\">\\nI agree\\n</button>\\n</div>\\n\\n<script src=\"https://cdn.jsdelivr.net/gh/Wruczek/Bootstrap-Cookie-Alert@gh-pages/cookiealert.js\"></script>\\n<script data-cfasync=\"false\" type=\"text/javascript\" src=\"https://www.seowings.org/theme/js/form-submission-handler.js\"></script>\\n\\n<script src=\"https://cdn.jsdelivr.net/npm/bootstrap@5.1.3/dist/js/bootstrap.bundle.min.js\"></script>\\n\\n<script type=\"text/javascript\" src=\"https://www.seowings.org/theme/js/custom.js\"></script>\\n</body>\\n</html>'"
      ]
     },
     "execution_count": 8,
     "metadata": {},
     "output_type": "execute_result"
    }
   ],
   "source": [
    "r.text\n"
   ]
  },
  {
   "cell_type": "code",
   "execution_count": 9,
   "id": "06bea9ce-7afb-49c3-b501-dd34e2b36216",
   "metadata": {
    "tags": []
   },
   "outputs": [
    {
     "data": {
      "text/plain": [
       "'https://www.seowings.org/safdsafsafd'"
      ]
     },
     "execution_count": 9,
     "metadata": {},
     "output_type": "execute_result"
    }
   ],
   "source": [
    "r.url"
   ]
  },
  {
   "cell_type": "code",
   "execution_count": 13,
   "id": "38c44850-df89-4166-9e31-487d7dcb2f00",
   "metadata": {
    "tags": []
   },
   "outputs": [
    {
     "data": {
      "text/plain": [
       "'{\"url\": \"https://seowings.org\", \"archived_snapshots\": {\"closest\": {\"status\": \"200\", \"available\": true, \"url\": \"http://web.archive.org/web/20210802110250/https://www.seowings.org/\", \"timestamp\": \"20210802110250\"}}, \"timestamp\": \"19900101\"}'"
      ]
     },
     "execution_count": 13,
     "metadata": {},
     "output_type": "execute_result"
    }
   ],
   "source": [
    "import requests\n",
    "\n",
    "domain = \"https://seowings.org\"\n",
    "url = f\"http://archive.org/wayback/available?url={domain}&timestamp=19900101\"\n",
    "r = requests.get(url)\n",
    "r.text"
   ]
  },
  {
   "cell_type": "code",
   "execution_count": 15,
   "id": "6d18a9ae-acab-4ee1-8e36-848e6037a14c",
   "metadata": {
    "tags": []
   },
   "outputs": [],
   "source": [
    "import json\n",
    "\n",
    "archive_data = json.loads(r.text)"
   ]
  },
  {
   "cell_type": "code",
   "execution_count": 16,
   "id": "9d2dfc34-2915-470a-ae5f-090d59070acf",
   "metadata": {
    "tags": []
   },
   "outputs": [
    {
     "data": {
      "text/plain": [
       "{'url': 'https://seowings.org',\n",
       " 'archived_snapshots': {'closest': {'status': '200',\n",
       "   'available': True,\n",
       "   'url': 'http://web.archive.org/web/20210802110250/https://www.seowings.org/',\n",
       "   'timestamp': '20210802110250'}},\n",
       " 'timestamp': '19900101'}"
      ]
     },
     "execution_count": 16,
     "metadata": {},
     "output_type": "execute_result"
    }
   ],
   "source": [
    "archive_data"
   ]
  },
  {
   "cell_type": "code",
   "execution_count": 19,
   "id": "286aa64a-3ed2-4592-b0d8-d92be817d993",
   "metadata": {
    "tags": []
   },
   "outputs": [
    {
     "data": {
      "text/plain": [
       "'20210802110250'"
      ]
     },
     "execution_count": 19,
     "metadata": {},
     "output_type": "execute_result"
    }
   ],
   "source": [
    "archive_data['archived_snapshots']['closest']['timestamp']"
   ]
  },
  {
   "cell_type": "code",
   "execution_count": 23,
   "id": "43c6440d-20fd-45bd-951d-47fe2b9ce605",
   "metadata": {
    "tags": []
   },
   "outputs": [],
   "source": [
    "import requests\n",
    "import json\n",
    "\n",
    "def check_archive_data(domain):\n",
    "    url = f\"http://archive.org/wayback/available?url={domain}&timestamp=19900101\"\n",
    "    r = requests.get(url)\n",
    "    archive_data = json.loads(r.text)\n",
    "    return archive_data['archived_snapshots']['closest']['timestamp']\n"
   ]
  },
  {
   "cell_type": "code",
   "execution_count": 31,
   "id": "178bc172-2f42-4ff3-be95-2846e9673c5b",
   "metadata": {
    "tags": []
   },
   "outputs": [
    {
     "data": {
      "text/plain": [
       "'20150831144010'"
      ]
     },
     "execution_count": 31,
     "metadata": {},
     "output_type": "execute_result"
    }
   ],
   "source": [
    "check_archive_data(domain = \"https://www.islamicfinanceguru.com/\")"
   ]
  },
  {
   "cell_type": "code",
   "execution_count": 30,
   "id": "6f602698-c2cf-49b2-a9b5-0ab2fa0912bb",
   "metadata": {
    "tags": []
   },
   "outputs": [
    {
     "name": "stdout",
     "output_type": "stream",
     "text": [
      "https://stackoverflow.com 20040203071020\n",
      "https://dw.de 20110324045535\n",
      "https://seowings.org 20210802110250\n"
     ]
    }
   ],
   "source": [
    "\n",
    "list_of_competitors = [\"https://stackoverflow.com\", \"https://dw.de\", \"https://seowings.org\"]\n",
    "\n",
    "for competitor in list_of_competitors:\n",
    "    print (competitor, check_archive_data(domain = competitor))"
   ]
  },
  {
   "cell_type": "code",
   "execution_count": null,
   "id": "6704e213-7687-4883-bd00-7fb99759c231",
   "metadata": {},
   "outputs": [],
   "source": [
    "whois_checker\n",
    "word_counter\n",
    "url_extractors\n",
    "external\n",
    "internal\n"
   ]
  }
 ],
 "metadata": {
  "kernelspec": {
   "display_name": "Python 3 (ipykernel)",
   "language": "python",
   "name": "python3"
  },
  "language_info": {
   "codemirror_mode": {
    "name": "ipython",
    "version": 3
   },
   "file_extension": ".py",
   "mimetype": "text/x-python",
   "name": "python",
   "nbconvert_exporter": "python",
   "pygments_lexer": "ipython3",
   "version": "3.10.11"
  }
 },
 "nbformat": 4,
 "nbformat_minor": 5
}
