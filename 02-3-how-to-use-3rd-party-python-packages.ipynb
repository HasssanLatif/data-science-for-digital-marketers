{
 "cells": [
  {
   "cell_type": "markdown",
   "id": "d6a019eb-9517-4f18-9034-fe6b1235bd70",
   "metadata": {},
   "source": [
    "## How to Use 3rd Party Packages\n",
    "\n",
    "You can isntall 3rd party packages using pip commands.  For example if you want to install pysitemaps library which is available at pipy, then you can simply isntall it using following commands."
   ]
  },
  {
   "cell_type": "code",
   "execution_count": 88,
   "id": "63b15256-967f-4882-ba71-9cf1661a1dc3",
   "metadata": {
    "tags": []
   },
   "outputs": [
    {
     "name": "stderr",
     "output_type": "stream",
     "text": [
      "WARNING: Retrying (Retry(total=4, connect=None, read=None, redirect=None, status=None)) after connection broken by 'NewConnectionError('<pip._vendor.urllib3.connection.HTTPSConnection object at 0x000002A228165960>: Failed to establish a new connection: [Errno 11001] getaddrinfo failed')': /simple/pysitemaps/\n",
      "WARNING: Retrying (Retry(total=3, connect=None, read=None, redirect=None, status=None)) after connection broken by 'NewConnectionError('<pip._vendor.urllib3.connection.HTTPSConnection object at 0x000002A228165C90>: Failed to establish a new connection: [Errno 11001] getaddrinfo failed')': /simple/pysitemaps/\n",
      "WARNING: Retrying (Retry(total=2, connect=None, read=None, redirect=None, status=None)) after connection broken by 'NewConnectionError('<pip._vendor.urllib3.connection.HTTPSConnection object at 0x000002A228165FC0>: Failed to establish a new connection: [Errno 11001] getaddrinfo failed')': /simple/pysitemaps/\n",
      "WARNING: Retrying (Retry(total=1, connect=None, read=None, redirect=None, status=None)) after connection broken by 'NewConnectionError('<pip._vendor.urllib3.connection.HTTPSConnection object at 0x000002A228166170>: Failed to establish a new connection: [Errno 11001] getaddrinfo failed')': /simple/pysitemaps/\n",
      "WARNING: Retrying (Retry(total=0, connect=None, read=None, redirect=None, status=None)) after connection broken by 'NewConnectionError('<pip._vendor.urllib3.connection.HTTPSConnection object at 0x000002A228166320>: Failed to establish a new connection: [Errno 11001] getaddrinfo failed')': /simple/pysitemaps/\n",
      "ERROR: Could not find a version that satisfies the requirement pysitemaps (from versions: none)\n",
      "ERROR: No matching distribution found for pysitemaps\n"
     ]
    }
   ],
   "source": [
    "!pip install pysitemaps"
   ]
  },
  {
   "cell_type": "code",
   "execution_count": 89,
   "id": "acab8206-80cf-4240-bb92-4717161aaee1",
   "metadata": {
    "tags": []
   },
   "outputs": [
    {
     "ename": "ModuleNotFoundError",
     "evalue": "No module named 'pysitemaps'",
     "output_type": "error",
     "traceback": [
      "\u001b[1;31m---------------------------------------------------------------------------\u001b[0m",
      "\u001b[1;31mModuleNotFoundError\u001b[0m                       Traceback (most recent call last)",
      "Cell \u001b[1;32mIn[89], line 2\u001b[0m\n\u001b[0;32m      1\u001b[0m \u001b[38;5;66;03m# https://serpwings.com/software/python-sitemaps/\u001b[39;00m\n\u001b[1;32m----> 2\u001b[0m \u001b[38;5;28;01mfrom\u001b[39;00m \u001b[38;5;21;01mpysitemaps\u001b[39;00m \u001b[38;5;28;01mimport\u001b[39;00m Sitemap, Url, XmlDocument \n\u001b[0;32m      4\u001b[0m smp \u001b[38;5;241m=\u001b[39m Sitemap(website_name\u001b[38;5;241m=\u001b[39m\u001b[38;5;124m\"\u001b[39m\u001b[38;5;124mhttps://www.seowings.org/\u001b[39m\u001b[38;5;124m\"\u001b[39m)\n\u001b[0;32m      5\u001b[0m smp\u001b[38;5;241m.\u001b[39mfetch(include_urls\u001b[38;5;241m=\u001b[39m\u001b[38;5;28;01mTrue\u001b[39;00m)\n",
      "\u001b[1;31mModuleNotFoundError\u001b[0m: No module named 'pysitemaps'"
     ]
    }
   ],
   "source": [
    "# https://serpwings.com/software/python-sitemaps/\n",
    "from pysitemaps import Sitemap, Url, XmlDocument \n",
    "\n",
    "smp = Sitemap(website_name=\"https://www.seowings.org/\")\n",
    "smp.fetch(include_urls=True)\n",
    "print(smp.as_dict())"
   ]
  },
  {
   "cell_type": "code",
   "execution_count": null,
   "id": "db1ed725-c72d-4843-8f56-404d09529e2d",
   "metadata": {
    "tags": []
   },
   "outputs": [],
   "source": [
    "sitemap = smp.as_dict()"
   ]
  },
  {
   "cell_type": "code",
   "execution_count": null,
   "id": "c328949b-f6f3-4b33-9a5d-5423e86b1263",
   "metadata": {
    "tags": []
   },
   "outputs": [],
   "source": [
    "sitemap.keys()"
   ]
  },
  {
   "cell_type": "code",
   "execution_count": null,
   "id": "8df0537f-3220-4f06-9d55-e84edd1541c4",
   "metadata": {
    "tags": []
   },
   "outputs": [],
   "source": [
    "sitemap['parent'].keys()"
   ]
  },
  {
   "cell_type": "code",
   "execution_count": null,
   "id": "13ee2c8d-d501-4d54-b520-5026572bffa1",
   "metadata": {
    "tags": []
   },
   "outputs": [],
   "source": [
    "type(sitemap['parent']['urls'])"
   ]
  },
  {
   "cell_type": "code",
   "execution_count": null,
   "id": "d309b0ca-0a0b-4bd5-8e2c-d4ce59420449",
   "metadata": {
    "tags": []
   },
   "outputs": [],
   "source": [
    "smp = Sitemap(website_name=\"https://www.serpwings.com/\")\n",
    "smp.fetch(include_urls=True)\n",
    "sitemap = smp.as_dict()\n",
    "\n",
    "all_urls = sitemap['parent']['urls']\n",
    "for url in all_urls:\n",
    "    # print (extract_keywrod(url['loc']))\n",
    "    print (url)"
   ]
  }
 ],
 "metadata": {
  "kernelspec": {
   "display_name": "Python 3 (ipykernel)",
   "language": "python",
   "name": "python3"
  },
  "language_info": {
   "codemirror_mode": {
    "name": "ipython",
    "version": 3
   },
   "file_extension": ".py",
   "mimetype": "text/x-python",
   "name": "python",
   "nbconvert_exporter": "python",
   "pygments_lexer": "ipython3",
   "version": "3.10.11"
  }
 },
 "nbformat": 4,
 "nbformat_minor": 5
}
