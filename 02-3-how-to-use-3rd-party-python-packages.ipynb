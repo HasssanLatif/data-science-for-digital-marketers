{
 "cells": [
  {
   "cell_type": "markdown",
   "id": "d6a019eb-9517-4f18-9034-fe6b1235bd70",
   "metadata": {},
   "source": [
    "## How to Use 3rd Party Packages\n",
    "\n",
    "You can isntall 3rd party packages using pip commands.  For example if you want to install pysitemaps library which is available at pipy, then you can simply isntall it using following commands."
   ]
  },
  {
   "cell_type": "code",
   "execution_count": 7,
   "id": "63b15256-967f-4882-ba71-9cf1661a1dc3",
   "metadata": {
    "tags": []
   },
   "outputs": [
    {
     "name": "stdout",
     "output_type": "stream",
     "text": [
      "Requirement already satisfied: pysitemaps in c:\\users\\admin\\documents\\github\\data-science-for-digital-marketers\\.venv\\lib\\site-packages (0.0.6)\n",
      "Requirement already satisfied: requests in c:\\users\\admin\\documents\\github\\data-science-for-digital-marketers\\.venv\\lib\\site-packages (from pysitemaps) (2.28.2)\n",
      "Requirement already satisfied: beautifulsoup4 in c:\\users\\admin\\documents\\github\\data-science-for-digital-marketers\\.venv\\lib\\site-packages (from pysitemaps) (4.12.2)\n",
      "Requirement already satisfied: lxml in c:\\users\\admin\\documents\\github\\data-science-for-digital-marketers\\.venv\\lib\\site-packages (from pysitemaps) (4.9.2)\n",
      "Requirement already satisfied: soupsieve>1.2 in c:\\users\\admin\\documents\\github\\data-science-for-digital-marketers\\.venv\\lib\\site-packages (from beautifulsoup4->pysitemaps) (2.4.1)\n",
      "Requirement already satisfied: charset-normalizer<4,>=2 in c:\\users\\admin\\documents\\github\\data-science-for-digital-marketers\\.venv\\lib\\site-packages (from requests->pysitemaps) (3.1.0)\n",
      "Requirement already satisfied: idna<4,>=2.5 in c:\\users\\admin\\documents\\github\\data-science-for-digital-marketers\\.venv\\lib\\site-packages (from requests->pysitemaps) (3.4)\n",
      "Requirement already satisfied: urllib3<1.27,>=1.21.1 in c:\\users\\admin\\documents\\github\\data-science-for-digital-marketers\\.venv\\lib\\site-packages (from requests->pysitemaps) (1.26.15)\n",
      "Requirement already satisfied: certifi>=2017.4.17 in c:\\users\\admin\\documents\\github\\data-science-for-digital-marketers\\.venv\\lib\\site-packages (from requests->pysitemaps) (2022.12.7)\n"
     ]
    },
    {
     "name": "stderr",
     "output_type": "stream",
     "text": [
      "\n",
      "[notice] A new release of pip is available: 23.1 -> 23.1.2\n",
      "[notice] To update, run: python.exe -m pip install --upgrade pip\n"
     ]
    }
   ],
   "source": [
    "!pip install pysitemaps"
   ]
  },
  {
   "cell_type": "code",
   "execution_count": 8,
   "id": "acab8206-80cf-4240-bb92-4717161aaee1",
   "metadata": {
    "tags": []
   },
   "outputs": [
    {
     "name": "stdout",
     "output_type": "stream",
     "text": [
      "{'parent': {'loc': 'https://www.seowings.org/sitemap.xml', 'lastmod': '2023-05-06', 'urls': [{'loc': 'https://www.seowings.org/static-wordpress/', 'lastmod': '2022-11-18', 'images': []}, {'loc': 'https://www.seowings.org/simply-static-tutorial/', 'lastmod': '2023-03-05', 'images': []}, {'loc': 'https://www.seowings.org/host-wordpress-website-on-netlify/', 'lastmod': '2022-11-19', 'images': []}, {'loc': 'https://www.seowings.org/web-server-log-files/', 'lastmod': '2022-11-27', 'images': []}, {'loc': 'https://www.seowings.org/local-wordpress-hosting-on-virtual-machines/', 'lastmod': '2022-11-20', 'images': []}, {'loc': 'https://www.seowings.org/seoquake-tutorial/', 'lastmod': '2022-11-29', 'images': []}, {'loc': 'https://www.seowings.org/robots-txt/', 'lastmod': '2022-11-27', 'images': []}, {'loc': 'https://www.seowings.org/best-static-website-hosting-services/', 'lastmod': '2023-01-01', 'images': []}, {'loc': 'https://www.seowings.org/static-web-hosting/', 'lastmod': '2023-01-02', 'images': []}, {'loc': 'https://www.seowings.org/competitor-analysis-using-sitemaps/', 'lastmod': '2022-11-19', 'images': []}, {'loc': 'https://www.seowings.org/seo-minion-tutorial/', 'lastmod': '2022-11-22', 'images': []}, {'loc': 'https://www.seowings.org/best-software-for-installing-wordpress-on-localhost/', 'lastmod': '2022-11-24', 'images': []}, {'loc': 'https://www.seowings.org/sitemap-seo/', 'lastmod': '2022-12-17', 'images': []}, {'loc': 'https://www.seowings.org/seo-and-web-hosting/', 'lastmod': '2022-11-21', 'images': []}, {'loc': 'https://www.seowings.org/what-is-a-domain-name/', 'lastmod': '2022-12-02', 'images': []}, {'loc': 'https://www.seowings.org/advantages-of-local-wordpress-hosting/', 'lastmod': '2022-11-15', 'images': []}, {'loc': 'https://www.seowings.org/website-architecture-and-seo/', 'lastmod': '2022-12-01', 'images': []}, {'loc': 'https://www.seowings.org/wordpress/', 'lastmod': '2022-12-14', 'images': []}, {'loc': 'https://www.seowings.org/web-domains/', 'lastmod': '2022-12-13', 'images': []}, {'loc': 'https://www.seowings.org/software/', 'lastmod': '2022-11-19', 'images': []}, {'loc': 'https://www.seowings.org/search-engine-optimization/', 'lastmod': '2022-11-13', 'images': []}, {'loc': 'https://www.seowings.org/static-websites/', 'lastmod': '2022-12-14', 'images': []}, {'loc': 'https://www.seowings.org/research-work/', 'lastmod': '2022-11-28', 'images': []}]}, 'xsl-file': '', 'sub_sitemaps': []}\n"
     ]
    }
   ],
   "source": [
    "# https://serpwings.com/software/python-sitemaps/\n",
    "from pysitemaps import Sitemap, Url, XmlDocument \n",
    "\n",
    "smp = Sitemap(website_name=\"https://www.seowings.org/\")\n",
    "smp.fetch(include_urls=True)\n",
    "print(smp.as_dict())"
   ]
  },
  {
   "cell_type": "code",
   "execution_count": 9,
   "id": "c328949b-f6f3-4b33-9a5d-5423e86b1263",
   "metadata": {
    "tags": []
   },
   "outputs": [
    {
     "data": {
      "text/plain": [
       "dict_keys(['parent', 'xsl-file', 'sub_sitemaps'])"
      ]
     },
     "execution_count": 9,
     "metadata": {},
     "output_type": "execute_result"
    }
   ],
   "source": [
    "sitemap.keys()"
   ]
  },
  {
   "cell_type": "code",
   "execution_count": 10,
   "id": "8df0537f-3220-4f06-9d55-e84edd1541c4",
   "metadata": {
    "tags": []
   },
   "outputs": [
    {
     "data": {
      "text/plain": [
       "dict_keys(['loc', 'lastmod', 'urls'])"
      ]
     },
     "execution_count": 10,
     "metadata": {},
     "output_type": "execute_result"
    }
   ],
   "source": [
    "sitemap['parent'].keys()"
   ]
  },
  {
   "cell_type": "code",
   "execution_count": 11,
   "id": "13ee2c8d-d501-4d54-b520-5026572bffa1",
   "metadata": {
    "tags": []
   },
   "outputs": [
    {
     "data": {
      "text/plain": [
       "list"
      ]
     },
     "execution_count": 11,
     "metadata": {},
     "output_type": "execute_result"
    }
   ],
   "source": [
    "type(sitemap['parent']['urls'])"
   ]
  },
  {
   "cell_type": "code",
   "execution_count": 13,
   "id": "d309b0ca-0a0b-4bd5-8e2c-d4ce59420449",
   "metadata": {
    "tags": []
   },
   "outputs": [
    {
     "name": "stdout",
     "output_type": "stream",
     "text": [
      "{'loc': 'https://serpwings.com/online-seo-tools/web-tools/', 'lastmod': '2023-03-19', 'images': []}\n",
      "{'loc': 'https://serpwings.com/online-seo-tools/web-tools/robots-txt/', 'lastmod': '2023-03-19', 'images': []}\n",
      "{'loc': 'https://serpwings.com/online-seo-tools/web-tools/schema-checker/', 'lastmod': '2023-03-19', 'images': []}\n",
      "{'loc': 'https://serpwings.com/online-seo-tools/web-tools/user-agent/', 'lastmod': '2023-03-19', 'images': []}\n",
      "{'loc': 'https://serpwings.com/online-seo-tools/web-tools/user-details/', 'lastmod': '2023-03-19', 'images': []}\n",
      "{'loc': 'https://serpwings.com/online-seo-tools/web-tools/webpage-metadata/', 'lastmod': '2023-03-19', 'images': []}\n",
      "{'loc': 'https://serpwings.com/online-seo-tools/web-tools/webpage-urls/', 'lastmod': '2023-03-19', 'images': []}\n",
      "{'loc': 'https://serpwings.com/online-seo-tools/web-tools/whois-checker/', 'lastmod': '2023-03-19', 'images': []}\n",
      "{'loc': 'https://serpwings.com/online-seo-tools/web-tools/wp-details/', 'lastmod': '2023-03-19', 'images': []}\n",
      "{'loc': 'https://serpwings.com/online-seo-tools/sitemaps/', 'lastmod': '2023-03-19', 'images': []}\n",
      "{'loc': 'https://serpwings.com/online-seo-tools/sitemaps/sitemap-finder/', 'lastmod': '2023-03-19', 'images': []}\n",
      "{'loc': 'https://serpwings.com/online-seo-tools/sitemaps/sitemap-details/', 'lastmod': '2023-03-19', 'images': []}\n",
      "{'loc': 'https://serpwings.com/online-seo-tools/text-processing/', 'lastmod': '2023-03-19', 'images': []}\n",
      "{'loc': 'https://serpwings.com/online-seo-tools/text-processing/url-cleaner/', 'lastmod': '2023-03-19', 'images': []}\n",
      "{'loc': 'https://serpwings.com/online-seo-tools/text-processing/url-extractor/', 'lastmod': '2023-03-19', 'images': []}\n",
      "{'loc': 'https://serpwings.com/online-seo-tools/convertors/', 'lastmod': '2023-03-19', 'images': []}\n",
      "{'loc': 'https://serpwings.com/online-seo-tools/convertors/json-to-xml/', 'lastmod': '2023-03-19', 'images': []}\n",
      "{'loc': 'https://serpwings.com/online-seo-tools/convertors/xml-to-json/', 'lastmod': '2023-03-19', 'images': []}\n",
      "{'loc': 'https://serpwings.com/online-seo-tools/convertors/xml-to-tree/', 'lastmod': '2023-03-19', 'images': []}\n"
     ]
    }
   ],
   "source": [
    "smp = Sitemap(website_name=\"https://www.serpwings.com/\")\n",
    "smp.fetch(include_urls=True)\n",
    "sitemap = smp.as_dict()\n",
    "\n",
    "all_urls = sitemap['parent']['urls']\n",
    "for url in all_urls:\n",
    "    # print (extract_keywrod(url['loc']))\n",
    "    print (url)"
   ]
  },
  {
   "cell_type": "code",
   "execution_count": null,
   "id": "98d7c343-6b56-4c64-b30d-079e9964cffa",
   "metadata": {},
   "outputs": [],
   "source": []
  }
 ],
 "metadata": {
  "kernelspec": {
   "display_name": "Python 3 (ipykernel)",
   "language": "python",
   "name": "python3"
  },
  "language_info": {
   "codemirror_mode": {
    "name": "ipython",
    "version": 3
   },
   "file_extension": ".py",
   "mimetype": "text/x-python",
   "name": "python",
   "nbconvert_exporter": "python",
   "pygments_lexer": "ipython3",
   "version": "3.10.11"
  }
 },
 "nbformat": 4,
 "nbformat_minor": 5
}
