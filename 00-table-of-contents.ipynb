{
 "cells": [
  {
   "cell_type": "markdown",
   "id": "b7f2c5f3-af84-4c2c-8c8e-1fcec3bac5cf",
   "metadata": {},
   "source": [
    "# Table of Contents"
   ]
  },
  {
   "cell_type": "markdown",
   "id": "d0ed4c57-1787-4552-bb87-eb7bb4c471f6",
   "metadata": {
    "jp-MarkdownHeadingCollapsed": true,
    "tags": []
   },
   "source": [
    "\n",
    "## 1. [Introduction](01-introduction.ipynb)\n",
    "    - What is Data\n",
    "    - What is Data Science\n",
    "    - Data Sources for Digital Marketing\n",
    "    - What you need to know?\n",
    "## 2. Python for Digital Marketers\n",
    "    - Python for everyone\n",
    "    - How to improve your Python Skills?\n",
    "## 3. Python for Digital Marketers\n",
    "    - Numpy\n",
    "    - Pandas\n",
    "## 4. Git for Digital Marketers\n",
    "    - Basic Concepts\n",
    "    - Use Cases\n",
    "    - Data Handling\n",
    "    - Branching\n",
    "    - Fork, Commit, Merge\n",
    "## 5. Data Munging\n",
    "    - Data Refinement\n",
    "    - Web scraping \n",
    "    - APIs\n",
    "    - Big Data\n",
    "## 6. Data Visualization\n",
    "    - Matplotlib\n",
    "    - 1D Plots\n",
    "    - 2D Plots\n",
    "    - 3D Plots\n",
    "## 7. Classification\n",
    "    - k-nearest Neighbors\n",
    "    - Decision Trees\n",
    "    - Support Vector Machines\n",
    "    - Neural Networks\n",
    "## 8. Regression\n",
    "## 9. Clustering\n",
    "## 10. Natural Language Processing\n",
    "    - Keywords\n",
    "    - Feature Engineering\n",
    "    - Sentiment Analysis\n",
    "## 11. Network analysis\n",
    "    - Social Networks\n",
    "        - Twitter\n",
    "    - Website Links\n",
    "        - Internal\n",
    "        - External\n",
    "## 12. CASE STUDIES\n",
    "\n",
    "    1- SEO Traffic Analysis\n",
    "    2- Analyzing advertising campaign performance\n",
    "    3- Analyzing competitor data and website traffic\n",
    "    4- YouTube video and campaign performance\n",
    "    5- Analyze Amazon (PPC/PL) Advertising Campaign\n",
    "    6- Optimize Amazon PPC campaigns\n",
    "    7- Customer Segmentation and Profiling\n",
    "    8- Sentiment analysis of customer feedback using NLP\n",
    "    9- A/B testing for Marketing Optimization\n",
    "\n",
    "## Appendix 1: Mathematics Premier\n",
    "## Appendix 2: Statistics Premier"
   ]
  }
 ],
 "metadata": {
  "kernelspec": {
   "display_name": "Python 3 (ipykernel)",
   "language": "python",
   "name": "python3"
  },
  "language_info": {
   "codemirror_mode": {
    "name": "ipython",
    "version": 3
   },
   "file_extension": ".py",
   "mimetype": "text/x-python",
   "name": "python",
   "nbconvert_exporter": "python",
   "pygments_lexer": "ipython3",
   "version": "3.10.11"
  }
 },
 "nbformat": 4,
 "nbformat_minor": 5
}
