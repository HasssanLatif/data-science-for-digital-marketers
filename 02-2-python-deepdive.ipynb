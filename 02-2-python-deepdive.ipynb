{
 "cells": [
  {
   "cell_type": "code",
   "execution_count": 3,
   "id": "5600909c-866f-4848-a28a-e6f6d61acf23",
   "metadata": {
    "tags": []
   },
   "outputs": [
    {
     "data": {
      "text/plain": [
       "5"
      ]
     },
     "execution_count": 3,
     "metadata": {},
     "output_type": "execute_result"
    }
   ],
   "source": [
    "2+3"
   ]
  },
  {
   "cell_type": "code",
   "execution_count": 4,
   "id": "bd22e640-925d-4b6f-87c1-7caed2e71735",
   "metadata": {
    "tags": []
   },
   "outputs": [
    {
     "data": {
      "text/plain": [
       "1.6666666666666667"
      ]
     },
     "execution_count": 4,
     "metadata": {},
     "output_type": "execute_result"
    }
   ],
   "source": [
    "((2+3)/6)*2"
   ]
  },
  {
   "cell_type": "code",
   "execution_count": null,
   "id": "9479bda5-c3f3-4017-9b6b-6ebb5fc0e89f",
   "metadata": {},
   "outputs": [],
   "source": [
    "F-Strings\n"
   ]
  },
  {
   "cell_type": "code",
   "execution_count": 5,
   "id": "9f7e7a4c-bf0f-4d79-b5ac-d09a7ee53589",
   "metadata": {
    "tags": []
   },
   "outputs": [
    {
     "name": "stdout",
     "output_type": "stream",
     "text": [
      "Welcome to the Data Science Course\n"
     ]
    }
   ],
   "source": [
    "print (\"Welcome to the Data Science Course\")"
   ]
  },
  {
   "cell_type": "code",
   "execution_count": null,
   "id": "2491044c-9ff5-45e4-b4ea-ad1d9a46f548",
   "metadata": {},
   "outputs": [],
   "source": []
  },
  {
   "cell_type": "code",
   "execution_count": 6,
   "id": "c6274b4a-673e-4ae4-a1a7-dbe2862f06d2",
   "metadata": {
    "tags": []
   },
   "outputs": [
    {
     "name": "stdout",
     "output_type": "stream",
     "text": [
      "Hi Faisal! Welcome to the Data Science Course\n"
     ]
    }
   ],
   "source": [
    "print (\"Hi Faisal!\", \"Welcome to the Data Science Course\")"
   ]
  },
  {
   "cell_type": "code",
   "execution_count": 7,
   "id": "27f8f59f-3029-45ba-85e6-64b39260863d",
   "metadata": {
    "tags": []
   },
   "outputs": [
    {
     "name": "stdout",
     "output_type": "stream",
     "text": [
      "786\n"
     ]
    }
   ],
   "source": [
    "print (786)"
   ]
  },
  {
   "cell_type": "code",
   "execution_count": 8,
   "id": "777cc925-4dbf-46c5-82d2-34e934a0355c",
   "metadata": {
    "tags": []
   },
   "outputs": [
    {
     "name": "stdout",
     "output_type": "stream",
     "text": [
      "My website Click though rate is 4.2\n"
     ]
    }
   ],
   "source": [
    "print(\"My website Click though rate is 4.2\")"
   ]
  },
  {
   "cell_type": "code",
   "execution_count": 10,
   "id": "ab827339-a8ec-4933-accc-558b4ecdf2dc",
   "metadata": {
    "tags": []
   },
   "outputs": [
    {
     "name": "stdout",
     "output_type": "stream",
     "text": [
      "My website Click though rate is  2.3\n"
     ]
    }
   ],
   "source": [
    "ctr = 2.3\n",
    "print(\"My website Click though rate is \", ctr)"
   ]
  },
  {
   "cell_type": "code",
   "execution_count": 14,
   "id": "6efc3fb5-4cff-450f-897f-228bfb1255b2",
   "metadata": {
    "tags": []
   },
   "outputs": [
    {
     "name": "stdout",
     "output_type": "stream",
     "text": [
      "My website https://serpwings.com Click though rate is 1.2\n"
     ]
    }
   ],
   "source": [
    "ctr = 1.2\n",
    "website = \"https://serpwings.com\"\n",
    "\n",
    "print(f\"My website {website} Click though rate is {ctr}\")"
   ]
  },
  {
   "cell_type": "code",
   "execution_count": 17,
   "id": "13a26ab3-897b-406c-9a3b-fd8437e628ce",
   "metadata": {
    "tags": []
   },
   "outputs": [
    {
     "name": "stdout",
     "output_type": "stream",
     "text": [
      "<html><title>This is my title</title><body>Welcome to my website on Digital Marketing!</body></html>\n"
     ]
    }
   ],
   "source": [
    "title = \"This is my title\"\n",
    "content = \"Welcome to my website on Digital Marketing!\"\n",
    "\n",
    "generator = f\"<html><title>{title}</title><body>{content}</body></html>\"\n",
    "\n",
    "# Javascirpt, # CSS \n",
    "\n",
    "print(generator)\n"
   ]
  },
  {
   "cell_type": "code",
   "execution_count": 25,
   "id": "b0bf34b4-7070-4018-b48e-6ddd666eedd3",
   "metadata": {
    "tags": []
   },
   "outputs": [
    {
     "name": "stdout",
     "output_type": "stream",
     "text": [
      "\n"
     ]
    }
   ],
   "source": [
    "\n",
    "f = open(\"data/sample.txt\", \"r\") # r to read or w to write\n",
    "data = f.read()\n",
    "f.close()\n",
    "print(data)"
   ]
  },
  {
   "cell_type": "code",
   "execution_count": 22,
   "id": "f4573f84-42da-4a08-816a-b820a59f0a79",
   "metadata": {
    "tags": []
   },
   "outputs": [],
   "source": [
    "f = open(\"data/index.html\", \"w\") # r to read or w to write\n",
    "f.write(generator)\n",
    "f.close()"
   ]
  },
  {
   "cell_type": "markdown",
   "id": "3fb99e26-293b-42d8-b136-ca249566116d",
   "metadata": {},
   "source": [
    "# Context Managers\n",
    "\n",
    "- With \n",
    "\n"
   ]
  },
  {
   "cell_type": "code",
   "execution_count": 3,
   "id": "a37b0936-4f76-4022-962c-5eef7005fb59",
   "metadata": {
    "tags": []
   },
   "outputs": [
    {
     "name": "stdout",
     "output_type": "stream",
     "text": [
      "['1\\n', '2\\n', '3']\n"
     ]
    }
   ],
   "source": [
    "# r to read or w to write\n",
    "\n",
    "with open(\"data/sample.txt\", \"r\") as f:\n",
    "    data = f.readlines() # f.readline(), f.readlines()\n",
    "    print (data)"
   ]
  },
  {
   "cell_type": "code",
   "execution_count": null,
   "id": "62c9efcf-3465-4b5f-a368-12dfe8b69467",
   "metadata": {},
   "outputs": [],
   "source": []
  }
 ],
 "metadata": {
  "kernelspec": {
   "display_name": "Python 3 (ipykernel)",
   "language": "python",
   "name": "python3"
  },
  "language_info": {
   "codemirror_mode": {
    "name": "ipython",
    "version": 3
   },
   "file_extension": ".py",
   "mimetype": "text/x-python",
   "name": "python",
   "nbconvert_exporter": "python",
   "pygments_lexer": "ipython3",
   "version": "3.10.11"
  }
 },
 "nbformat": 4,
 "nbformat_minor": 5
}
