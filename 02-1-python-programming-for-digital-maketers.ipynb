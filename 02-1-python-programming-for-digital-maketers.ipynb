{
 "cells": [
  {
   "cell_type": "markdown",
   "id": "ed120b55-4719-4b5c-9b0a-c0e1e3bcd3c9",
   "metadata": {},
   "source": [
    "## Why Python for Digital Marketing?\n",
    "\n",
    "Digital marketers can use Python for \n",
    "\n",
    "- Collecting data from multiple sources\n",
    "- Cleaning raw data\n",
    "- Write scripts and programs to extract useful insights.\n",
    "- Digital marketers can write apps using the Kivy Framework.\n",
    "- Digital marketers can automate their website development and deployment tasks by leveraging the power of Python."
   ]
  },
  {
   "cell_type": "markdown",
   "id": "ea14b915-c1be-45b0-a86e-2fe1bad5461e",
   "metadata": {},
   "source": [
    "## How To Setup Python?\n",
    "\n",
    "Python has evolved over the last decade. Installing any recent version of Python is very simple, and you can install it with the default wizard.\n",
    "\n",
    "Some operating systems will include it by default, e.g., Apple OS X and Linux distributions. However, on Windows, you have to install it yourself.\n",
    "\n",
    "The Python interpreter was originally written in C, and CPython is the reference implementation for this purpose. There is another Python-based implementation known as PyPy. For most cases, you will only come across CPython, and the default Python distribution is more than enough for your tasks."
   ]
  },
  {
   "cell_type": "markdown",
   "id": "3cd3f71d-8e10-4af8-b569-7dc9d3df230e",
   "metadata": {},
   "source": [
    "### Download Python\n",
    "\n",
    "Basic Python, also known as Vanilla Python, is available from the official Python website (python.org/downloads). However, being an open-source programming language, there are several other distributions (backed by commercial companies) available for download. It is important to understand the differences and choose the appropriate distribution for your use cases.\n",
    "\n",
    "- (Vanilla) Python\n",
    "- Anaconda\n",
    "- WinPython\n",
    "- Active Python\n",
    "- Embedded Python, e.g., MicroPython"
   ]
  },
  {
   "cell_type": "markdown",
   "id": "7c23cf72-7fc3-4731-b95f-39fb3e59fdfb",
   "metadata": {},
   "source": [
    "### Install Python\n",
    "\n",
    "You can download Python from relevant Python distributions. For this course, you only need to download Python 3.10.11 from the official Python distribution website: https://www.python.org/downloads/release/python-31011/. Scroll down to the bottom of the page and download it for your operating system. "
   ]
  },
  {
   "cell_type": "markdown",
   "id": "8d75bae9-5728-49f3-84ba-47d1b0623b73",
   "metadata": {},
   "source": [
    "#### Windows\n",
    "For Windows, most of you will probably need to download **Windows installer (64-bit)**. \n",
    "Click on this installer and follow the wizard. On the Installer start page, do not forget to check the checkbox for Add to System Path.\n",
    "Keep clicking \"next,\" and your Python will be installed."
   ]
  },
  {
   "cell_type": "markdown",
   "id": "056518b3-8ac5-4049-8f26-49cd37124c7d",
   "metadata": {},
   "source": [
    "#### Linux/Unix\n",
    "\n",
    "Python will be the default language for most Linux and Unix distributions. If your Python version is outdated and you want to update it, then follow the guidelines from your respective Linux distribution."
   ]
  },
  {
   "cell_type": "markdown",
   "id": "2c700d93-ce77-41f0-9742-a5d35c9d0d2e",
   "metadata": {},
   "source": [
    "#### OSX\n",
    "\n",
    "Mac OS X will come pre-installed with the Python version. If you need to install any specific version, then please download it from https://www.python.org/downloads/macos/. You might want to explore more options with homebrew and other managers."
   ]
  },
  {
   "cell_type": "markdown",
   "id": "4c355708-1568-4203-8d9d-d63e48179a6c",
   "metadata": {},
   "source": [
    "#### Mobile Phone\n",
    "You can also install Python on your mobile phone for learning on the go. Go to the respective app store and search for Python keywords. \n",
    "\n",
    "- Google Play\n",
    "On the Google Play store, you will find relevant apps, e.g., Pydroid. I have tested Pydroid, and it works like a charm.\n",
    "\n",
    "- Apple Store - IOS\n",
    "On the Apple App Store, you will find apps such as Python3IDE and Pyto. I have not tried these apps by myself, so this is not a formal recommendation."
   ]
  },
  {
   "cell_type": "markdown",
   "id": "09a58a87-c5de-4c82-abc7-4030cf3e44b1",
   "metadata": {},
   "source": [
    "## What is Python Environment?\n",
    "\n",
    "- Why we need Vitual Environment?\n",
    "- What are Vitual Environment?\n",
    "    - venv\n",
    "    - conda\n",
    "- How to Create Virutal environment?\n",
    "- How to activate Virtual Environment? \n",
    "- How to deactivate virtual environment?"
   ]
  },
  {
   "cell_type": "markdown",
   "id": "9dbed3ba-e4f1-411e-bc50-b90a96bea847",
   "metadata": {},
   "source": [
    "## What are package managers?\n",
    "\n",
    "### PIP\n",
    "We will only use this one, which is popular with standard Python.\n",
    "\n",
    "### Conda\n",
    "\n",
    "Conda is also a package manager and is used as the default backend for Anaconda.\n",
    "\n",
    "### PIPEnv\n",
    "\n",
    "It uses PIP and the virtual environment as a single command.\n",
    "\n",
    "### Peotry\n",
    "\n",
    "Another package manager, which has gained popularity in recent years. "
   ]
  },
  {
   "cell_type": "markdown",
   "id": "3228ba4b-00ca-4f9a-974e-2a7421e51b3e",
   "metadata": {},
   "source": [
    "## What are Python Packages?\n",
    "\n",
    "- like apps with additional feature\n",
    "\n",
    "### Offical Python Packages\n",
    "  - All Packages are avialble on https://pypi.org/ which contains metadata/information about the python packages.\n",
    "  - All Package files are stored and download from https://files.pythonhosted.org/\n",
    "  - You can install it using `pip install package-name`\n",
    "\n",
    "\n",
    "###  Conda Package Distribution \n",
    "- Conda pacakges are available on https://conda-forge.org/feedstock-outputs/\n",
    "- You can install them using `conda install package-name`"
   ]
  },
  {
   "cell_type": "markdown",
   "id": "9db42cbd-9a3c-4cf0-bb8c-fe452897a231",
   "metadata": {},
   "source": [
    "## What is iPython?\n",
    "\n",
    "- Vanila Python Command Line is not interactive\n",
    "- To make interactive use \n",
    "\n",
    "### IPython Project\n",
    "- Development of iPython (Qt Widget, PyQMZ, Paralell Computing, Sockets, etc)\n",
    "- Python backend to the Jupyter Notebook (kernel)\n",
    "- interactive Python shell. \n",
    "   \n",
    "### The Big Split - Birth of Jupyter\n",
    "\n",
    "Julia, Python and R (JuPyterR) \n",
    "\n",
    "- Jupyter Note Book\n",
    "- Jupyter-lab (this is main)\n",
    "- Code reproducebalitiy "
   ]
  },
  {
   "cell_type": "markdown",
   "id": "d5eede5b-1608-4b63-bab7-f1e6ac68b1b6",
   "metadata": {},
   "source": [
    "## Introduciton to Jupyter-Lab\n",
    "\n",
    "1. Raw \n",
    "2. Markdown\n",
    "3. Code (python)\n",
    "\n",
    "### Help in Jupyter Lab\n",
    "\n",
    "you have to use ?\n",
    "\n",
    "\n",
    "```python\n",
    "min?\n",
    "```\n",
    "\n",
    "Additional commands will be added here later."
   ]
  }
 ],
 "metadata": {
  "kernelspec": {
   "display_name": "Python 3 (ipykernel)",
   "language": "python",
   "name": "python3"
  },
  "language_info": {
   "codemirror_mode": {
    "name": "ipython",
    "version": 3
   },
   "file_extension": ".py",
   "mimetype": "text/x-python",
   "name": "python",
   "nbconvert_exporter": "python",
   "pygments_lexer": "ipython3",
   "version": "3.10.11"
  }
 },
 "nbformat": 4,
 "nbformat_minor": 5
}
