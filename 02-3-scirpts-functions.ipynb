{
 "cells": [
  {
   "cell_type": "code",
   "execution_count": 1,
   "id": "48102c0e-c29a-4fa0-beea-177ee39008f4",
   "metadata": {
    "tags": []
   },
   "outputs": [
    {
     "name": "stdout",
     "output_type": "stream",
     "text": [
      "<html><title>Data Science and Marketing Websites</title><body>Welcome to my website on Digital Marketing!</body></html>\n"
     ]
    }
   ],
   "source": [
    "# script \n",
    "\n",
    "title = \"Data Science and Marketing Websites\"\n",
    "content = \"Welcome to my website on Digital Marketing!\"\n",
    "\n",
    "generator = f\"<html><title>{title}</title><body>{content}</body></html>\"\n",
    "print(generator)\n",
    "\n",
    "# content manager\n",
    "# if else conditions\n",
    "# loops \n",
    "# always requrire you to have a :\n",
    "\n",
    "\n",
    "with open(\"data/index.html\", \"w\") as f: # r to read or w to write\n",
    "    f.write(generator)\n",
    "    "
   ]
  },
  {
   "cell_type": "code",
   "execution_count": 2,
   "id": "cfb5d92c-0a0e-4e1e-863d-5b8653b2e692",
   "metadata": {
    "tags": []
   },
   "outputs": [],
   "source": [
    "\n",
    "def profit_loss_calculator():\n",
    "    pass\n",
    "\n",
    "def website_generator(title=\"Default Title\", content=\"Default Content\"):\n",
    "    generator = f\"<html><title>{title}</title><body>{content}</body></html>\"\n",
    "    print(generator)\n",
    "\n",
    "def ctr_estimatation():\n",
    "    pass\n",
    "\n",
    "# 3 is default value\n",
    "# 4 is also default value for Value2 variable\n",
    "\n",
    "def add(value1=3, value2=4): # 255 arguments\n",
    "    print (value1 + value2)\n",
    "\n",
    "    \n"
   ]
  },
  {
   "cell_type": "code",
   "execution_count": 3,
   "id": "b910a715-56f7-491b-b5f6-1f0fd69f6216",
   "metadata": {
    "tags": []
   },
   "outputs": [
    {
     "name": "stdout",
     "output_type": "stream",
     "text": [
      "<html><title>This is title</title><body>Default Content</body></html>\n"
     ]
    }
   ],
   "source": [
    "mywebsite_title = \"This is title\"\n",
    "mywebsite_content = \"This is an awesome contnet about Prompt Engineerin\"\n",
    "\n",
    "website_generator(title=mywebsite_title, \n",
    "                  )"
   ]
  },
  {
   "cell_type": "code",
   "execution_count": 4,
   "id": "1ba61a38-774e-4812-bed9-aed81256fc41",
   "metadata": {
    "tags": []
   },
   "outputs": [
    {
     "name": "stdout",
     "output_type": "stream",
     "text": [
      "7\n"
     ]
    }
   ],
   "source": [
    "add(3,4)"
   ]
  },
  {
   "cell_type": "code",
   "execution_count": 5,
   "id": "c0479cba-8c60-4549-bbdd-12311f9b24ab",
   "metadata": {
    "tags": []
   },
   "outputs": [
    {
     "name": "stdout",
     "output_type": "stream",
     "text": [
      "7\n"
     ]
    }
   ],
   "source": [
    "add(value2=4)"
   ]
  },
  {
   "cell_type": "code",
   "execution_count": null,
   "id": "a4b36026-56ad-4c7e-8015-188343ec5bc1",
   "metadata": {},
   "outputs": [],
   "source": []
  }
 ],
 "metadata": {
  "kernelspec": {
   "display_name": "Python 3 (ipykernel)",
   "language": "python",
   "name": "python3"
  },
  "language_info": {
   "codemirror_mode": {
    "name": "ipython",
    "version": 3
   },
   "file_extension": ".py",
   "mimetype": "text/x-python",
   "name": "python",
   "nbconvert_exporter": "python",
   "pygments_lexer": "ipython3",
   "version": "3.10.11"
  }
 },
 "nbformat": 4,
 "nbformat_minor": 5
}
