{
 "cells": [
  {
   "cell_type": "markdown",
   "id": "29a06425-1528-43de-a006-4cdba1cf004d",
   "metadata": {},
   "source": [
    "## Lecture 6- More on Functions"
   ]
  },
  {
   "cell_type": "code",
   "execution_count": null,
   "id": "b3333c85-8f04-48ec-8752-3b108fb05407",
   "metadata": {},
   "outputs": [],
   "source": [
    "# newbies approach\n",
    "def extact_sponsored_urls_from_page_1():\n",
    "    pass\n",
    "\n",
    "def extact_sponsored_urls_from_page_2():\n",
    "    pass\n",
    "\n",
    "def extact_sponsored_urls_from_page_3():\n",
    "    pass\n"
   ]
  },
  {
   "cell_type": "code",
   "execution_count": null,
   "id": "b9c8f88b-0cdd-4475-a756-d3ada1d2a2ce",
   "metadata": {},
   "outputs": [],
   "source": [
    "# sensible approach\n",
    "def extract_sponsored_urls_from_google(page_id=1):\n",
    "    pass\n",
    "\n",
    "\n",
    "extract_sponsored_urls_from_google(page_id=1)\n",
    "extract_sponsored_urls_from_google() # default value will be used\n",
    "\n",
    "\n",
    "# call the functions multiple time with differnt arguemtns\n",
    "extract_sponsored_urls_from_google(page_id=1)\n",
    "extract_sponsored_urls_from_google(page_id=2)\n",
    "extract_sponsored_urls_from_google(page_id=3)\n",
    "extract_sponsored_urls_from_google(page_id=4)\n",
    "extract_sponsored_urls_from_google(page_id=5)\n",
    "    "
   ]
  },
  {
   "cell_type": "code",
   "execution_count": 3,
   "id": "78394e65-20c9-48b1-bc86-f8a993282973",
   "metadata": {
    "tags": []
   },
   "outputs": [],
   "source": [
    "# sensible approach\n",
    "def extract_sponsored_urls_from_google(page_id=1):\n",
    "    pass\n",
    "\n",
    "# for loops \n",
    "for page_id in [1,2,3,4,5]:\n",
    "    extract_sponsored_urls_from_google(page_id)\n"
   ]
  },
  {
   "cell_type": "code",
   "execution_count": 7,
   "id": "0762bba5-dfa4-4000-8863-931cdeea5274",
   "metadata": {
    "tags": []
   },
   "outputs": [
    {
     "name": "stdout",
     "output_type": "stream",
     "text": [
      "Extracting Sponsor URLS from Google on Page 1\n",
      "Extracting Sponsor URLS from Google on Page 2\n",
      "Extracting Sponsor URLS from Google on Page 3\n",
      "Extracting Sponsor URLS from Google on Page 4\n",
      "Extracting Sponsor URLS from Google on Page 5\n"
     ]
    }
   ],
   "source": [
    "def extract_sponsored_urls_from_google(page_id=1):\n",
    "    \"\"\"This function is used to extract sponsored urls form Google SERP\"\"\"\n",
    "    \n",
    "    print (f\"Extracting Sponsor URLS from Google on Page {page_id}\")\n",
    "    # any code which will extract urls form Google Page should work\n",
    "    # Any condition to classify the URLs\n",
    "    # Classify using if-else\n",
    "    # GERMAN\n",
    "    # COM\n",
    "    # ORG\n",
    "\n",
    "# for loops \n",
    "page_numbers = [1,2,3,4,5, 10]\n",
    "for page_id in page_numbers:\n",
    "    extract_sponsored_urls_from_google(page_id)"
   ]
  },
  {
   "cell_type": "code",
   "execution_count": 8,
   "id": "cee45354-cc32-41f4-9825-93bbbae7d398",
   "metadata": {
    "tags": []
   },
   "outputs": [
    {
     "data": {
      "text/plain": [
       "\u001b[1;31mInit signature:\u001b[0m \u001b[0mrange\u001b[0m\u001b[1;33m(\u001b[0m\u001b[0mself\u001b[0m\u001b[1;33m,\u001b[0m \u001b[1;33m/\u001b[0m\u001b[1;33m,\u001b[0m \u001b[1;33m*\u001b[0m\u001b[0margs\u001b[0m\u001b[1;33m,\u001b[0m \u001b[1;33m**\u001b[0m\u001b[0mkwargs\u001b[0m\u001b[1;33m)\u001b[0m\u001b[1;33m\u001b[0m\u001b[1;33m\u001b[0m\u001b[0m\n",
       "\u001b[1;31mDocstring:\u001b[0m     \n",
       "range(stop) -> range object\n",
       "range(start, stop[, step]) -> range object\n",
       "\n",
       "Return an object that produces a sequence of integers from start (inclusive)\n",
       "to stop (exclusive) by step.  range(i, j) produces i, i+1, i+2, ..., j-1.\n",
       "start defaults to 0, and stop is omitted!  range(4) produces 0, 1, 2, 3.\n",
       "These are exactly the valid indices for a list of 4 elements.\n",
       "When step is given, it specifies the increment (or decrement).\n",
       "\u001b[1;31mType:\u001b[0m           type\n",
       "\u001b[1;31mSubclasses:\u001b[0m     "
      ]
     },
     "metadata": {},
     "output_type": "display_data"
    }
   ],
   "source": [
    "range?"
   ]
  },
  {
   "cell_type": "code",
   "execution_count": 11,
   "id": "01afec56-0be3-4cc5-bef1-0504ffce5981",
   "metadata": {
    "tags": []
   },
   "outputs": [
    {
     "name": "stdout",
     "output_type": "stream",
     "text": [
      "Extracting Sponsor URLS from Google on Page 1\n",
      "Extracting Sponsor URLS from Google on Page 2\n",
      "Extracting Sponsor URLS from Google on Page 3\n",
      "Extracting Sponsor URLS from Google on Page 4\n",
      "Extracting Sponsor URLS from Google on Page 5\n",
      "Extracting Sponsor URLS from Google on Page 6\n",
      "Extracting Sponsor URLS from Google on Page 7\n",
      "Extracting Sponsor URLS from Google on Page 8\n",
      "Extracting Sponsor URLS from Google on Page 9\n",
      "Extracting Sponsor URLS from Google on Page 10\n",
      "Extracting Sponsor URLS from Google on Page 11\n",
      "Extracting Sponsor URLS from Google on Page 12\n",
      "Extracting Sponsor URLS from Google on Page 13\n",
      "Extracting Sponsor URLS from Google on Page 14\n",
      "Extracting Sponsor URLS from Google on Page 15\n",
      "Extracting Sponsor URLS from Google on Page 16\n",
      "Extracting Sponsor URLS from Google on Page 17\n",
      "Extracting Sponsor URLS from Google on Page 18\n",
      "Extracting Sponsor URLS from Google on Page 19\n"
     ]
    }
   ],
   "source": [
    "# for loops \n",
    "for page_id in range(1,20):\n",
    "    extract_sponsored_urls_from_google(page_id)"
   ]
  },
  {
   "cell_type": "code",
   "execution_count": 24,
   "id": "48469a0b-eac3-4e61-ab54-8731d5c304e1",
   "metadata": {
    "tags": []
   },
   "outputs": [
    {
     "name": "stdout",
     "output_type": "stream",
     "text": [
      "5 x 1 = 5\n",
      "5 x 2 = 10\n",
      "5 x 3 = 15\n",
      "5 x 4 = 20\n",
      "5 x 5 = 25\n",
      "5 x 6 = 30\n",
      "5 x 7 = 35\n",
      "5 x 8 = 40\n",
      "5 x 9 = 45\n",
      "5 x 10 = 50\n"
     ]
    }
   ],
   "source": [
    "table_of = 5\n",
    "# Start, Stop, Interval\n",
    "for val in range(1,11, 1):\n",
    "    print (f\"{table_of} x {val} = {val * table_of}\")\n"
   ]
  },
  {
   "cell_type": "code",
   "execution_count": 27,
   "id": "58b604f9-2705-44fc-b07e-74e7b0907c17",
   "metadata": {
    "tags": []
   },
   "outputs": [
    {
     "name": "stdout",
     "output_type": "stream",
     "text": [
      "10\n",
      "9\n",
      "8\n",
      "7\n",
      "6\n",
      "5\n",
      "4\n",
      "3\n",
      "2\n",
      "1\n"
     ]
    }
   ],
   "source": [
    "# Start, Stop, Interval\n",
    "for val in range(10,0, -1):\n",
    "    print (val)"
   ]
  },
  {
   "cell_type": "code",
   "execution_count": null,
   "id": "05c17ab8-82e1-4f25-8d86-4855532a9467",
   "metadata": {},
   "outputs": [],
   "source": [
    "# start \n",
    "# stop\n",
    "# interval if .-ive then reverse otherwise forward"
   ]
  },
  {
   "cell_type": "code",
   "execution_count": 28,
   "id": "d236cd38-2bbb-4c64-b849-eb7793ba4664",
   "metadata": {
    "tags": []
   },
   "outputs": [
    {
     "data": {
      "text/plain": [
       "\u001b[1;31mSignature:\u001b[0m \u001b[0mlen\u001b[0m\u001b[1;33m(\u001b[0m\u001b[0mobj\u001b[0m\u001b[1;33m,\u001b[0m \u001b[1;33m/\u001b[0m\u001b[1;33m)\u001b[0m\u001b[1;33m\u001b[0m\u001b[1;33m\u001b[0m\u001b[0m\n",
       "\u001b[1;31mDocstring:\u001b[0m Return the number of items in a container.\n",
       "\u001b[1;31mType:\u001b[0m      builtin_function_or_method"
      ]
     },
     "metadata": {},
     "output_type": "display_data"
    }
   ],
   "source": [
    "len?"
   ]
  },
  {
   "cell_type": "code",
   "execution_count": 29,
   "id": "f48d623a-6cc7-46a1-9e05-bfc26805fa3a",
   "metadata": {
    "tags": []
   },
   "outputs": [
    {
     "name": "stdout",
     "output_type": "stream",
     "text": [
      "0\n",
      "1\n",
      "2\n",
      "3\n",
      "4\n",
      "5\n",
      "6\n",
      "7\n",
      "8\n",
      "9\n"
     ]
    }
   ],
   "source": [
    "for item in range(10):\n",
    "    print (item)"
   ]
  },
  {
   "cell_type": "code",
   "execution_count": 32,
   "id": "57732a3b-3ce4-43b7-95b1-0144f3ace3fc",
   "metadata": {
    "tags": []
   },
   "outputs": [
    {
     "data": {
      "text/plain": [
       "4"
      ]
     },
     "execution_count": 32,
     "metadata": {},
     "output_type": "execute_result"
    }
   ],
   "source": [
    "website_ctr = [2.3,1.7,9.2, 6.7]\n",
    "\n",
    "len(website_ctr)\n"
   ]
  },
  {
   "cell_type": "code",
   "execution_count": 35,
   "id": "fe9be38e-c75c-4027-9743-4947255d12a5",
   "metadata": {
    "tags": []
   },
   "outputs": [
    {
     "data": {
      "text/plain": [
       "3"
      ]
     },
     "execution_count": 35,
     "metadata": {},
     "output_type": "execute_result"
    }
   ],
   "source": [
    "array_of_youtube_videos = [\"video1\", \"video2\", \"video3\"]\n",
    "\n",
    "len(array_of_youtube_videos)"
   ]
  },
  {
   "cell_type": "code",
   "execution_count": null,
   "id": "8f34fa40-28ba-4c69-8dc3-77c1a8aa5e88",
   "metadata": {},
   "outputs": [],
   "source": [
    "urls = Sitemap(\"bestlaptop.com\")\n",
    "\n",
    "len(urls)"
   ]
  },
  {
   "cell_type": "code",
   "execution_count": 37,
   "id": "56bbd689-3e02-47d7-aab0-dfbc0e9f97af",
   "metadata": {
    "tags": []
   },
   "outputs": [],
   "source": [
    "list_competitors = [\n",
    "    \"https://cheapandbesthosting.com\", \n",
    "    \"https://geekflare.com\", \n",
    "    \"https://gethugothemes.com\", \n",
    "    \"https://medium.com\", \n",
    "    \"https://saasxtra.com\", \n",
    "    \"https://stackshare.io\"\n",
    "]"
   ]
  },
  {
   "cell_type": "code",
   "execution_count": 38,
   "id": "b24be850-37e2-4e46-9e58-47b153c4a1f7",
   "metadata": {
    "tags": []
   },
   "outputs": [
    {
     "name": "stdout",
     "output_type": "stream",
     "text": [
      "6\n"
     ]
    }
   ],
   "source": [
    "print (len(list_competitors))"
   ]
  },
  {
   "cell_type": "code",
   "execution_count": 39,
   "id": "93f95086-65df-4064-9fc3-3d59efc7255f",
   "metadata": {
    "tags": []
   },
   "outputs": [
    {
     "name": "stdout",
     "output_type": "stream",
     "text": [
      "https://cheapandbesthosting.com\n",
      "https://geekflare.com\n",
      "https://gethugothemes.com\n",
      "https://medium.com\n",
      "https://saasxtra.com\n",
      "https://stackshare.io\n"
     ]
    }
   ],
   "source": [
    "for competitor in list_competitors:\n",
    "    print (competitor)"
   ]
  },
  {
   "cell_type": "code",
   "execution_count": 40,
   "id": "98df4942-f523-4c60-9fa1-7ce270b4042e",
   "metadata": {
    "tags": []
   },
   "outputs": [
    {
     "ename": "SyntaxError",
     "evalue": "invalid non-printable character U+200B (1326931507.py, line 3)",
     "output_type": "error",
     "traceback": [
      "\u001b[1;36m  Cell \u001b[1;32mIn[40], line 3\u001b[1;36m\u001b[0m\n\u001b[1;33m    ​   print (urls)\u001b[0m\n\u001b[1;37m    ^\u001b[0m\n\u001b[1;31mSyntaxError\u001b[0m\u001b[1;31m:\u001b[0m invalid non-printable character U+200B\n"
     ]
    }
   ],
   "source": [
    "for competitor in list_competitors:\n",
    "    urls = Sitemap(competitor)\n",
    "​   print (urls)"
   ]
  },
  {
   "cell_type": "code",
   "execution_count": 54,
   "id": "b7ef1d4b-ff00-4fe3-b50f-e38cf4d69b44",
   "metadata": {
    "tags": []
   },
   "outputs": [],
   "source": [
    "comptetitor = \"https://www.seowings.org/\"\n",
    "\n",
    "urls = [\"https://www.seowings.org/simply-static-tutorial/\", \n",
    "        \"https://www.seowings.org/host-wordpress-website-on_netlify/\"]\n"
   ]
  },
  {
   "cell_type": "code",
   "execution_count": 56,
   "id": "bbde58ea-f707-4102-937b-6f97ba0fc02d",
   "metadata": {
    "tags": []
   },
   "outputs": [
    {
     "name": "stdout",
     "output_type": "stream",
     "text": [
      "simply static tutorial\n",
      "host wordpress website on netlify\n"
     ]
    }
   ],
   "source": [
    "for url in urls:\n",
    "    slug = url.replace(\"https://www.seowings.org/\", \"\")\n",
    "    slug = slug.replace(\"/\",\"\")\n",
    "    keyword = slug.replace(\"-\", \" \")\n",
    "    print (keyword)"
   ]
  },
  {
   "cell_type": "code",
   "execution_count": null,
   "id": "1e01a498-0a8e-4fcf-9790-618b507d349a",
   "metadata": {},
   "outputs": [],
   "source": [
    "    "
   ]
  }
 ],
 "metadata": {
  "kernelspec": {
   "display_name": "Python 3 (ipykernel)",
   "language": "python",
   "name": "python3"
  },
  "language_info": {
   "codemirror_mode": {
    "name": "ipython",
    "version": 3
   },
   "file_extension": ".py",
   "mimetype": "text/x-python",
   "name": "python",
   "nbconvert_exporter": "python",
   "pygments_lexer": "ipython3",
   "version": "3.10.11"
  }
 },
 "nbformat": 4,
 "nbformat_minor": 5
}
