{
 "cells": [
  {
   "cell_type": "markdown",
   "id": "58999f27-ec1f-453e-85ed-01cbfb1b796e",
   "metadata": {},
   "source": [
    "# Dates and data"
   ]
  },
  {
   "cell_type": "code",
   "execution_count": 1,
   "id": "c4cba7c3-3709-4907-993e-7df1fc823873",
   "metadata": {
    "tags": []
   },
   "outputs": [],
   "source": [
    "import requests\n",
    "import json\n",
    "\n",
    "def check_archive_data(domain):\n",
    "    url = f\"http://archive.org/wayback/available?url={domain}&timestamp=19900101\"\n",
    "    r = requests.get(url)\n",
    "    archive_data = json.loads(r.text)\n",
    "    return archive_data['archived_snapshots']['closest']['timestamp']"
   ]
  },
  {
   "cell_type": "markdown",
   "id": "1b3d2571-cbd5-4552-afef-535e8baaa79a",
   "metadata": {},
   "source": [
    "\n",
    "- temporal data\n",
    "    - time variation\n",
    "    - time is associated\n",
    "    \n",
    "- spatial data\n",
    "    - location data\n"
   ]
  },
  {
   "cell_type": "code",
   "execution_count": 2,
   "id": "e1c76181-d3ff-47fe-87ef-783aa16a1f62",
   "metadata": {
    "tags": []
   },
   "outputs": [],
   "source": [
    "date = \"24-05-2023\""
   ]
  },
  {
   "cell_type": "markdown",
   "id": "cf4e6929-5359-45a1-ac0c-0b7dd6e5e28b",
   "metadata": {
    "tags": []
   },
   "source": [
    "Python modules /Packages /Scripts\n",
    "- direct/full import \n",
    "    e.g. import pysitemap\n",
    "- from pysitemap import Sitemap\n"
   ]
  },
  {
   "cell_type": "code",
   "execution_count": 6,
   "id": "b14897d5-80aa-4204-a697-3de6acafbae1",
   "metadata": {
    "tags": []
   },
   "outputs": [],
   "source": [
    "import datetime\n",
    "datetime.date.fromisoformat"
   ]
  },
  {
   "cell_type": "code",
   "execution_count": 9,
   "id": "ee72cc64-ef95-4329-afee-28f142104ebd",
   "metadata": {
    "tags": []
   },
   "outputs": [],
   "source": [
    "from datetime import date\n",
    "\n",
    "my_date = date.fromisoformat(\"2010-12-10\")"
   ]
  },
  {
   "cell_type": "code",
   "execution_count": 12,
   "id": "6443e738-ba2b-4b4a-a4bc-07085096da36",
   "metadata": {
    "tags": []
   },
   "outputs": [
    {
     "data": {
      "text/plain": [
       "10"
      ]
     },
     "execution_count": 12,
     "metadata": {},
     "output_type": "execute_result"
    }
   ],
   "source": [
    "my_date.day"
   ]
  },
  {
   "cell_type": "code",
   "execution_count": 18,
   "id": "0e0c0c88-0311-4296-8993-3e2e977b57cc",
   "metadata": {
    "tags": []
   },
   "outputs": [],
   "source": [
    "stackoverflow_archive_date = date.fromisoformat(\"2004-02-03\")"
   ]
  },
  {
   "cell_type": "code",
   "execution_count": 19,
   "id": "46261010-4a90-457f-a3eb-73d50c65361a",
   "metadata": {
    "tags": []
   },
   "outputs": [],
   "source": [
    "from datetime import datetime"
   ]
  },
  {
   "cell_type": "markdown",
   "id": "40d46481-dbb5-4e84-98bf-38a2656adb13",
   "metadata": {
    "tags": []
   },
   "source": [
    "https://docs.python.org/3/library/datetime.html"
   ]
  },
  {
   "cell_type": "code",
   "execution_count": 22,
   "id": "11f5aaa1-b098-46fc-a8e1-611c432a6342",
   "metadata": {
    "tags": []
   },
   "outputs": [],
   "source": [
    "current_time = datetime.now()"
   ]
  },
  {
   "cell_type": "code",
   "execution_count": 24,
   "id": "a38b8b2c-3feb-4ae5-a93d-37bf01700b59",
   "metadata": {
    "tags": []
   },
   "outputs": [
    {
     "data": {
      "text/plain": [
       "2023"
      ]
     },
     "execution_count": 24,
     "metadata": {},
     "output_type": "execute_result"
    }
   ],
   "source": [
    "current_time.year"
   ]
  },
  {
   "cell_type": "code",
   "execution_count": 26,
   "id": "96ec18fd-458f-4cce-8077-2f163f4634e7",
   "metadata": {
    "tags": []
   },
   "outputs": [
    {
     "data": {
      "text/plain": [
       "datetime.datetime(2011, 11, 4, 0, 5, 23)"
      ]
     },
     "execution_count": 26,
     "metadata": {},
     "output_type": "execute_result"
    }
   ],
   "source": [
    "from datetime import datetime\n",
    "datetime.fromisoformat('2011-11-04T00:05:23')"
   ]
  },
  {
   "cell_type": "code",
   "execution_count": 27,
   "id": "d2c86c7b-7ef8-4eee-8018-37e988e97a08",
   "metadata": {
    "tags": []
   },
   "outputs": [
    {
     "data": {
      "text/plain": [
       "datetime.datetime(2023, 5, 24, 19, 19, 15, 938602)"
      ]
     },
     "execution_count": 27,
     "metadata": {},
     "output_type": "execute_result"
    }
   ],
   "source": [
    "current_time"
   ]
  },
  {
   "cell_type": "code",
   "execution_count": 28,
   "id": "20241f31-b538-4dc5-941b-c7093a73301d",
   "metadata": {
    "tags": []
   },
   "outputs": [
    {
     "data": {
      "text/plain": [
       "2023"
      ]
     },
     "execution_count": 28,
     "metadata": {},
     "output_type": "execute_result"
    }
   ],
   "source": [
    "current_time.year"
   ]
  },
  {
   "cell_type": "code",
   "execution_count": 39,
   "id": "66cebc8c-9005-4e7a-a980-49fbb6716f9d",
   "metadata": {
    "tags": []
   },
   "outputs": [
    {
     "data": {
      "text/plain": [
       "'2023 year 05 and day is 24 19:19:15 and week 21'"
      ]
     },
     "execution_count": 39,
     "metadata": {},
     "output_type": "execute_result"
    }
   ],
   "source": [
    "current_time.strftime(\"%Y year %m and day is %d %H:%M:%S and week %W\")"
   ]
  },
  {
   "cell_type": "code",
   "execution_count": 43,
   "id": "49fea23a-2427-4d84-80c9-715fda848a96",
   "metadata": {
    "tags": []
   },
   "outputs": [],
   "source": [
    "from datetime import date"
   ]
  },
  {
   "cell_type": "code",
   "execution_count": 44,
   "id": "857755cd-3636-4eb8-b239-5acecb4d0b59",
   "metadata": {
    "tags": []
   },
   "outputs": [
    {
     "data": {
      "text/plain": [
       "['__add__',\n",
       " '__class__',\n",
       " '__delattr__',\n",
       " '__dir__',\n",
       " '__doc__',\n",
       " '__eq__',\n",
       " '__format__',\n",
       " '__ge__',\n",
       " '__getattribute__',\n",
       " '__gt__',\n",
       " '__hash__',\n",
       " '__init__',\n",
       " '__init_subclass__',\n",
       " '__le__',\n",
       " '__lt__',\n",
       " '__ne__',\n",
       " '__new__',\n",
       " '__radd__',\n",
       " '__reduce__',\n",
       " '__reduce_ex__',\n",
       " '__repr__',\n",
       " '__rsub__',\n",
       " '__setattr__',\n",
       " '__sizeof__',\n",
       " '__str__',\n",
       " '__sub__',\n",
       " '__subclasshook__',\n",
       " 'ctime',\n",
       " 'day',\n",
       " 'fromisocalendar',\n",
       " 'fromisoformat',\n",
       " 'fromordinal',\n",
       " 'fromtimestamp',\n",
       " 'isocalendar',\n",
       " 'isoformat',\n",
       " 'isoweekday',\n",
       " 'max',\n",
       " 'min',\n",
       " 'month',\n",
       " 'replace',\n",
       " 'resolution',\n",
       " 'strftime',\n",
       " 'timetuple',\n",
       " 'today',\n",
       " 'toordinal',\n",
       " 'weekday',\n",
       " 'year']"
      ]
     },
     "execution_count": 44,
     "metadata": {},
     "output_type": "execute_result"
    }
   ],
   "source": [
    "dir(date)"
   ]
  },
  {
   "cell_type": "markdown",
   "id": "909023d3-e44d-4712-8621-0032d7686173",
   "metadata": {
    "tags": []
   },
   "source": [
    "## How to Prase HTML data\n",
    "\n",
    "### Download Link (pypi)\n",
    "https://pypi.org/project/beautifulsoup4/\n",
    "\n",
    "### Documentation\n",
    "https://www.crummy.com/software/BeautifulSoup/bs4/doc/"
   ]
  },
  {
   "cell_type": "code",
   "execution_count": 46,
   "id": "53b2043e-d234-4071-956c-bf1326807955",
   "metadata": {
    "tags": []
   },
   "outputs": [],
   "source": [
    "import requests\n",
    "\n",
    "r = requests.get('https://seowings.org/')"
   ]
  },
  {
   "cell_type": "code",
   "execution_count": 48,
   "id": "c729b28a-a916-470a-88da-7d094c1aa961",
   "metadata": {
    "tags": []
   },
   "outputs": [
    {
     "data": {
      "text/plain": [
       "datetime.timedelta(microseconds=212813)"
      ]
     },
     "execution_count": 48,
     "metadata": {},
     "output_type": "execute_result"
    }
   ],
   "source": [
    "r.elapsed"
   ]
  },
  {
   "cell_type": "code",
   "execution_count": 49,
   "id": "50812b32-29ce-405f-b489-bddba3429f7b",
   "metadata": {
    "tags": []
   },
   "outputs": [
    {
     "name": "stdout",
     "output_type": "stream",
     "text": [
      "Requirement already satisfied: beautifulsoup4 in c:\\users\\serpwings\\documents\\github\\data-science-for-digital-marketers\\.venv\\lib\\site-packages (4.12.2)\n",
      "Requirement already satisfied: soupsieve>1.2 in c:\\users\\serpwings\\documents\\github\\data-science-for-digital-marketers\\.venv\\lib\\site-packages (from beautifulsoup4) (2.4.1)\n"
     ]
    },
    {
     "name": "stderr",
     "output_type": "stream",
     "text": [
      "\n",
      "[notice] A new release of pip is available: 23.0.1 -> 23.1.2\n",
      "[notice] To update, run: python.exe -m pip install --upgrade pip\n"
     ]
    }
   ],
   "source": [
    "!pip install beautifulsoup4"
   ]
  },
  {
   "cell_type": "code",
   "execution_count": 51,
   "id": "d82d6794-f228-4781-be2a-c8af83e61054",
   "metadata": {
    "tags": []
   },
   "outputs": [],
   "source": [
    "from bs4 import BeautifulSoup"
   ]
  },
  {
   "cell_type": "code",
   "execution_count": 52,
   "id": "aef4ca7a-a4f0-4858-ac26-655a556e3867",
   "metadata": {
    "tags": []
   },
   "outputs": [
    {
     "data": {
      "text/plain": [
       "\u001b[1;31mInit signature:\u001b[0m\n",
       "\u001b[0mBeautifulSoup\u001b[0m\u001b[1;33m(\u001b[0m\u001b[1;33m\n",
       "\u001b[0m    \u001b[0mmarkup\u001b[0m\u001b[1;33m=\u001b[0m\u001b[1;34m''\u001b[0m\u001b[1;33m,\u001b[0m\u001b[1;33m\n",
       "\u001b[0m    \u001b[0mfeatures\u001b[0m\u001b[1;33m=\u001b[0m\u001b[1;32mNone\u001b[0m\u001b[1;33m,\u001b[0m\u001b[1;33m\n",
       "\u001b[0m    \u001b[0mbuilder\u001b[0m\u001b[1;33m=\u001b[0m\u001b[1;32mNone\u001b[0m\u001b[1;33m,\u001b[0m\u001b[1;33m\n",
       "\u001b[0m    \u001b[0mparse_only\u001b[0m\u001b[1;33m=\u001b[0m\u001b[1;32mNone\u001b[0m\u001b[1;33m,\u001b[0m\u001b[1;33m\n",
       "\u001b[0m    \u001b[0mfrom_encoding\u001b[0m\u001b[1;33m=\u001b[0m\u001b[1;32mNone\u001b[0m\u001b[1;33m,\u001b[0m\u001b[1;33m\n",
       "\u001b[0m    \u001b[0mexclude_encodings\u001b[0m\u001b[1;33m=\u001b[0m\u001b[1;32mNone\u001b[0m\u001b[1;33m,\u001b[0m\u001b[1;33m\n",
       "\u001b[0m    \u001b[0melement_classes\u001b[0m\u001b[1;33m=\u001b[0m\u001b[1;32mNone\u001b[0m\u001b[1;33m,\u001b[0m\u001b[1;33m\n",
       "\u001b[0m    \u001b[1;33m**\u001b[0m\u001b[0mkwargs\u001b[0m\u001b[1;33m,\u001b[0m\u001b[1;33m\n",
       "\u001b[0m\u001b[1;33m)\u001b[0m\u001b[1;33m\u001b[0m\u001b[1;33m\u001b[0m\u001b[0m\n",
       "\u001b[1;31mDocstring:\u001b[0m     \n",
       "A data structure representing a parsed HTML or XML document.\n",
       "\n",
       "Most of the methods you'll call on a BeautifulSoup object are inherited from\n",
       "PageElement or Tag.\n",
       "\n",
       "Internally, this class defines the basic interface called by the\n",
       "tree builders when converting an HTML/XML document into a data\n",
       "structure. The interface abstracts away the differences between\n",
       "parsers. To write a new tree builder, you'll need to understand\n",
       "these methods as a whole.\n",
       "\n",
       "These methods will be called by the BeautifulSoup constructor:\n",
       "  * reset()\n",
       "  * feed(markup)\n",
       "\n",
       "The tree builder may call these methods from its feed() implementation:\n",
       "  * handle_starttag(name, attrs) # See note about return value\n",
       "  * handle_endtag(name)\n",
       "  * handle_data(data) # Appends to the current data node\n",
       "  * endData(containerClass) # Ends the current data node\n",
       "\n",
       "No matter how complicated the underlying parser is, you should be\n",
       "able to build a tree using 'start tag' events, 'end tag' events,\n",
       "'data' events, and \"done with data\" events.\n",
       "\n",
       "If you encounter an empty-element tag (aka a self-closing tag,\n",
       "like HTML's <br> tag), call handle_starttag and then\n",
       "handle_endtag.\n",
       "\u001b[1;31mInit docstring:\u001b[0m\n",
       "Constructor.\n",
       "\n",
       ":param markup: A string or a file-like object representing\n",
       " markup to be parsed.\n",
       "\n",
       ":param features: Desirable features of the parser to be\n",
       " used. This may be the name of a specific parser (\"lxml\",\n",
       " \"lxml-xml\", \"html.parser\", or \"html5lib\") or it may be the\n",
       " type of markup to be used (\"html\", \"html5\", \"xml\"). It's\n",
       " recommended that you name a specific parser, so that\n",
       " Beautiful Soup gives you the same results across platforms\n",
       " and virtual environments.\n",
       "\n",
       ":param builder: A TreeBuilder subclass to instantiate (or\n",
       " instance to use) instead of looking one up based on\n",
       " `features`. You only need to use this if you've implemented a\n",
       " custom TreeBuilder.\n",
       "\n",
       ":param parse_only: A SoupStrainer. Only parts of the document\n",
       " matching the SoupStrainer will be considered. This is useful\n",
       " when parsing part of a document that would otherwise be too\n",
       " large to fit into memory.\n",
       "\n",
       ":param from_encoding: A string indicating the encoding of the\n",
       " document to be parsed. Pass this in if Beautiful Soup is\n",
       " guessing wrongly about the document's encoding.\n",
       "\n",
       ":param exclude_encodings: A list of strings indicating\n",
       " encodings known to be wrong. Pass this in if you don't know\n",
       " the document's encoding but you know Beautiful Soup's guess is\n",
       " wrong.\n",
       "\n",
       ":param element_classes: A dictionary mapping BeautifulSoup\n",
       " classes like Tag and NavigableString, to other classes you'd\n",
       " like to be instantiated instead as the parse tree is\n",
       " built. This is useful for subclassing Tag or NavigableString\n",
       " to modify default behavior.\n",
       "\n",
       ":param kwargs: For backwards compatibility purposes, the\n",
       " constructor accepts certain keyword arguments used in\n",
       " Beautiful Soup 3. None of these arguments do anything in\n",
       " Beautiful Soup 4; they will result in a warning and then be\n",
       " ignored.\n",
       " \n",
       " Apart from this, any keyword arguments passed into the\n",
       " BeautifulSoup constructor are propagated to the TreeBuilder\n",
       " constructor. This makes it possible to configure a\n",
       " TreeBuilder by passing in arguments, not just by saying which\n",
       " one to use.\n",
       "\u001b[1;31mFile:\u001b[0m           c:\\users\\serpwings\\documents\\github\\data-science-for-digital-marketers\\.venv\\lib\\site-packages\\bs4\\__init__.py\n",
       "\u001b[1;31mType:\u001b[0m           type\n",
       "\u001b[1;31mSubclasses:\u001b[0m     BeautifulStoneSoup"
      ]
     },
     "metadata": {},
     "output_type": "display_data"
    }
   ],
   "source": [
    "BeautifulSoup?"
   ]
  },
  {
   "cell_type": "code",
   "execution_count": 53,
   "id": "3cabb429-c7b9-4439-9ca3-f9c43b0c8bd9",
   "metadata": {
    "tags": []
   },
   "outputs": [],
   "source": [
    "soup = BeautifulSoup(r.text, 'html.parser')"
   ]
  },
  {
   "cell_type": "code",
   "execution_count": 54,
   "id": "e608b782-8e4c-4560-94a9-e4a490e897ee",
   "metadata": {
    "tags": []
   },
   "outputs": [
    {
     "data": {
      "text/plain": [
       "<title>Digital Marketing with Data Science: SEO Wings</title>"
      ]
     },
     "execution_count": 54,
     "metadata": {},
     "output_type": "execute_result"
    }
   ],
   "source": [
    "soup.title"
   ]
  },
  {
   "cell_type": "code",
   "execution_count": 55,
   "id": "4c723e6d-d3d4-4c01-8e1b-030c2bd70e0a",
   "metadata": {
    "tags": []
   },
   "outputs": [
    {
     "data": {
      "text/plain": [
       "'Digital Marketing with Data Science: SEO Wings'"
      ]
     },
     "execution_count": 55,
     "metadata": {},
     "output_type": "execute_result"
    }
   ],
   "source": [
    "soup.title.string"
   ]
  },
  {
   "cell_type": "code",
   "execution_count": 59,
   "id": "14043a6c-42ba-4e4c-bea6-45e625b9823c",
   "metadata": {
    "tags": []
   },
   "outputs": [
    {
     "name": "stdout",
     "output_type": "stream",
     "text": [
      "https://www.seowings.org/\n",
      "/\n",
      "/simply-static-tutorial/\n",
      "/host-wordpress-website-on-netlify/\n",
      "/download/\n",
      "https://www.seowings.org/simply-static-tutorial/\n",
      "https://www.seowings.org/simply-static-tutorial/\n",
      "https://www.seowings.org/wordpress/\n",
      "/terms-of-services/\n",
      "/privacy-policy/\n",
      "/unsubscribe/\n",
      "https://twitter.com/seowings_org\n",
      "https://www.facebook.com/seowings.org\n",
      "https://www.youtube.com/channel/UCkVCjD48ge5zm1NN715IdLA\n",
      "https://github.com/seowings\n",
      "/wordpress/\n",
      "/web-domains/\n",
      "/software/\n",
      "/search-engine-optimization/\n",
      "/static-websites/\n",
      "/research-work/\n",
      "/static-web-hosting/\n",
      "/static-web-hosting/\n",
      "/static-websites/\n",
      "/best-static-website-hosting-services/\n",
      "/best-static-website-hosting-services/\n",
      "/static-websites/\n",
      "/sitemap-seo/\n",
      "/sitemap-seo/\n",
      "/search-engine-optimization/\n",
      "/what-is-a-domain-name/\n",
      "/what-is-a-domain-name/\n",
      "/web-domains/\n",
      "/website-architecture-and-seo/\n",
      "/website-architecture-and-seo/\n",
      "/search-engine-optimization/\n",
      "/seoquake-tutorial/\n",
      "/seoquake-tutorial/\n",
      "/search-engine-optimization/\n",
      "/web-server-log-files/\n",
      "/web-server-log-files/\n",
      "/static-websites/\n",
      "/robots-txt/\n",
      "/robots-txt/\n",
      "/search-engine-optimization/\n",
      "/best-software-for-installing-wordpress-on-localhost/\n",
      "/best-software-for-installing-wordpress-on-localhost/\n",
      "/wordpress/\n",
      "/seo-minion-tutorial/\n",
      "/seo-minion-tutorial/\n",
      "/search-engine-optimization/\n",
      "/seo-and-web-hosting/\n",
      "/seo-and-web-hosting/\n",
      "/search-engine-optimization/\n",
      "/local-wordpress-hosting-on-virtual-machines/\n",
      "/local-wordpress-hosting-on-virtual-machines/\n",
      "/wordpress/\n",
      "/host-wordpress-website-on-netlify/\n",
      "/host-wordpress-website-on-netlify/\n",
      "/wordpress/\n",
      "/competitor-analysis-using-sitemaps/\n",
      "/competitor-analysis-using-sitemaps/\n",
      "/search-engine-optimization/\n",
      "/static-wordpress/\n",
      "/static-wordpress/\n",
      "/wordpress/\n",
      "/advantages-of-local-wordpress-hosting/\n",
      "/advantages-of-local-wordpress-hosting/\n",
      "/wordpress/\n",
      "https://twitter.com/seowings_org\n",
      "https://www.facebook.com/seowings.org\n",
      "https://www.youtube.com/channel/UCkVCjD48ge5zm1NN715IdLA\n",
      "https://github.com/seowings\n",
      "/privacy-policy/\n",
      "/terms-of-services/\n",
      "/contact-us/\n",
      "/download/\n",
      "/privacy-policy/\n",
      "/terms-of-services/\n"
     ]
    }
   ],
   "source": [
    "for link in soup.find_all('a'):\n",
    "    print(link.get('href'))\n",
    "\n"
   ]
  },
  {
   "cell_type": "code",
   "execution_count": 61,
   "id": "bb3b6d88-3436-4d1e-a5b9-1a54bf60678d",
   "metadata": {
    "tags": []
   },
   "outputs": [
    {
     "data": {
      "text/plain": [
       "79"
      ]
     },
     "execution_count": 61,
     "metadata": {},
     "output_type": "execute_result"
    }
   ],
   "source": [
    "len(soup.find_all('a'))"
   ]
  },
  {
   "cell_type": "markdown",
   "id": "62ea3be3-5a1a-4859-be7c-8a5abbb8cf00",
   "metadata": {},
   "source": [
    "## Types of Links\n",
    "1. internal \n",
    "2. external\n",
    "3. anchors"
   ]
  },
  {
   "cell_type": "code",
   "execution_count": 62,
   "id": "2aa0a65f-24df-4509-bfc6-a8f9e29df7d1",
   "metadata": {
    "tags": []
   },
   "outputs": [],
   "source": [
    "from urllib import parse"
   ]
  },
  {
   "cell_type": "code",
   "execution_count": 66,
   "id": "6ebe681c-1517-4f57-b299-3f45324d2c1e",
   "metadata": {
    "tags": []
   },
   "outputs": [],
   "source": [
    "seowings_url = parse.urlparse(\"https://www.seowings.org\")"
   ]
  },
  {
   "cell_type": "code",
   "execution_count": 67,
   "id": "64c54735-a9aa-4c8d-8bee-cf9bcda32c02",
   "metadata": {
    "tags": []
   },
   "outputs": [
    {
     "data": {
      "text/plain": [
       "'www.seowings.org'"
      ]
     },
     "execution_count": 67,
     "metadata": {},
     "output_type": "execute_result"
    }
   ],
   "source": [
    "seowings_url.netloc"
   ]
  },
  {
   "cell_type": "code",
   "execution_count": 78,
   "id": "67ee8592-6b48-4ca1-a922-a11b886c1e94",
   "metadata": {
    "tags": []
   },
   "outputs": [],
   "source": [
    "external_links = set()\n",
    "\n",
    "for link in soup.find_all('a'): #extract all urls <a href=\"https://www.seowings.org/test\" > text </a>\n",
    "    \n",
    "    link_href = link.get('href') # https://www.seowings.org/test\n",
    "    \n",
    "    if seowings_url.netloc not in link_href and link_href.startswith(\"https\"):\n",
    "        external_links.add(link_href)\n"
   ]
  },
  {
   "cell_type": "code",
   "execution_count": 79,
   "id": "6d676fdb-28fb-45bd-8a5b-69049cb5dd4a",
   "metadata": {
    "tags": []
   },
   "outputs": [
    {
     "data": {
      "text/plain": [
       "{'https://github.com/seowings',\n",
       " 'https://twitter.com/seowings_org',\n",
       " 'https://www.facebook.com/seowings.org',\n",
       " 'https://www.youtube.com/channel/UCkVCjD48ge5zm1NN715IdLA'}"
      ]
     },
     "execution_count": 79,
     "metadata": {},
     "output_type": "execute_result"
    }
   ],
   "source": [
    "external_links"
   ]
  },
  {
   "cell_type": "code",
   "execution_count": null,
   "id": "1134a7e4-0c1d-4e38-8c26-2dec71748e99",
   "metadata": {},
   "outputs": [],
   "source": [
    "# list comprehensions, lambda functions , decorators"
   ]
  },
  {
   "cell_type": "code",
   "execution_count": 92,
   "id": "917c731a-a682-4015-ae5b-c4fbf82109a8",
   "metadata": {
    "tags": []
   },
   "outputs": [
    {
     "name": "stdout",
     "output_type": "stream",
     "text": [
      "WordPress Hosting on Netlify Using Simply Static 7\n",
      "Newsletter Sign Up 3\n",
      "When and Why to Use Static Web Hosting? 8\n",
      "11 Best JAMStack Web Hosting Providers (2023 update) 8\n",
      "How Sitemaps can be Used for Search Engine Optimization? 9\n",
      "What is a Domain Name - Basic Tutorial for Newbies 10\n",
      "Website Architecture and Its Importance for Technical SEO? 8\n",
      "SEOquake-Best Web Extension for Search Engine Optimization? 7\n",
      "What Are Web Server Log Files? 6\n",
      "What is Robots.txt File and How to Manage Crawlers? 9\n",
      "10 Best Software for Installing WordPress on Localhost 8\n",
      "SEO Minion-Web extension for Content Creators and SEO 8\n",
      "Importance of Web Hosting for Search Engine Optimization? 8\n",
      "How To Host WordPress on Virtual Machines? 7\n",
      "WordPress on Netlify - Step by Step Complete Guide (2022) 10\n",
      "How to use Website Sitemaps for Competitor Analysis? 8\n",
      "Static WordPress-An Introductory Tutorial [2023] 5\n",
      "What Are The Advantage Of Insalling WordPress on Localhost? 9\n"
     ]
    }
   ],
   "source": [
    "for h2 in soup.find_all('h2'): #extract all urls <a href=\"https://www.seowings.org/test\" > text </a>\n",
    "    h2_string = h2.string\n",
    "    h2_string.split(' ')\n",
    "    print (h2_string, len(h2_string.split(' ')) )\n",
    "    "
   ]
  },
  {
   "cell_type": "code",
   "execution_count": null,
   "id": "e01d4d9e-70fe-44e3-8728-27571dcaec04",
   "metadata": {},
   "outputs": [],
   "source": [
    "with open (\"fname\", 'r') as file:\n",
    "    f.readlines()"
   ]
  },
  {
   "cell_type": "markdown",
   "id": "f83d6491-68c9-4da8-a4ed-b7cc7a7f9817",
   "metadata": {},
   "source": [
    "## Boolean algebra\n",
    "https://en.wikipedia.org/wiki/Boolean_algebra"
   ]
  },
  {
   "cell_type": "code",
   "execution_count": null,
   "id": "8f55cc03-eb54-4ae3-8fb5-afee4d8c820c",
   "metadata": {},
   "outputs": [],
   "source": [
    "__"
   ]
  }
 ],
 "metadata": {
  "kernelspec": {
   "display_name": "Python 3 (ipykernel)",
   "language": "python",
   "name": "python3"
  },
  "language_info": {
   "codemirror_mode": {
    "name": "ipython",
    "version": 3
   },
   "file_extension": ".py",
   "mimetype": "text/x-python",
   "name": "python",
   "nbconvert_exporter": "python",
   "pygments_lexer": "ipython3",
   "version": "3.10.11"
  }
 },
 "nbformat": 4,
 "nbformat_minor": 5
}
