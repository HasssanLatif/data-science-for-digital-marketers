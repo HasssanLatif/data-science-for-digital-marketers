{
 "cells": [
  {
   "cell_type": "raw",
   "id": "523d42c8-2d62-4c5a-a5af-715a9183723b",
   "metadata": {},
   "source": [
    "1- Raw \n",
    "2- Markdown\n",
    "3. Code (python)\n"
   ]
  },
  {
   "cell_type": "markdown",
   "id": "f0e0301a-811b-43c5-9966-a6895e0c68ec",
   "metadata": {},
   "source": [
    "# Help in Jupyter Lab\n",
    "\n",
    "you have to use ?"
   ]
  },
  {
   "cell_type": "code",
   "execution_count": 2,
   "id": "ec373cdb-84a3-45e2-94f9-d4efb567171f",
   "metadata": {
    "tags": []
   },
   "outputs": [
    {
     "data": {
      "text/plain": [
       "\u001b[1;31mDocstring:\u001b[0m\n",
       "min(iterable, *[, default=obj, key=func]) -> value\n",
       "min(arg1, arg2, *args, *[, key=func]) -> value\n",
       "\n",
       "With a single iterable argument, return its smallest item. The\n",
       "default keyword-only argument specifies an object to return if\n",
       "the provided iterable is empty.\n",
       "With two or more arguments, return the smallest argument.\n",
       "\u001b[1;31mType:\u001b[0m      builtin_function_or_method"
      ]
     },
     "metadata": {},
     "output_type": "display_data"
    }
   ],
   "source": [
    "min?"
   ]
  },
  {
   "cell_type": "markdown",
   "id": "17b63a42-d594-4563-bbc6-98340d4b03a0",
   "metadata": {
    "tags": []
   },
   "source": [
    "## Basic Calculations"
   ]
  },
  {
   "cell_type": "code",
   "execution_count": 4,
   "id": "8850b577-be7c-49e8-b5c1-152408d74368",
   "metadata": {
    "tags": []
   },
   "outputs": [
    {
     "data": {
      "text/plain": [
       "4"
      ]
     },
     "execution_count": 4,
     "metadata": {},
     "output_type": "execute_result"
    }
   ],
   "source": [
    "2+2"
   ]
  },
  {
   "cell_type": "code",
   "execution_count": 5,
   "id": "0d955921-6084-4ef9-a63d-b860acc284d6",
   "metadata": {
    "tags": []
   },
   "outputs": [
    {
     "data": {
      "text/plain": [
       "62.25"
      ]
     },
     "execution_count": 5,
     "metadata": {},
     "output_type": "execute_result"
    }
   ],
   "source": [
    "6*10+9/4"
   ]
  },
  {
   "cell_type": "code",
   "execution_count": 14,
   "id": "a8c5ea7c-112a-48aa-ad9f-89cb9919a92a",
   "metadata": {
    "tags": []
   },
   "outputs": [
    {
     "name": "stdout",
     "output_type": "stream",
     "text": [
      "2+2\n",
      "2+2\n",
      "2+2\n",
      "2+2\n",
      "2+2\n",
      "2+2\n",
      "2+2\n",
      "3+3\n",
      "## Basic Calculations\n",
      "2+2\n",
      "6*10+9/4\n",
      "_\n",
      "__\n",
      "%history\n"
     ]
    }
   ],
   "source": [
    "%history"
   ]
  },
  {
   "cell_type": "markdown",
   "id": "a6f35964-e489-4e2e-9df4-6b3315d63970",
   "metadata": {},
   "source": [
    "3 things are associated\n",
    "\n",
    "1- Value\n",
    "2- Name\n",
    "3- Memory Address\n"
   ]
  },
  {
   "cell_type": "code",
   "execution_count": 15,
   "id": "fd4e3534-c220-4f2a-9392-aec1a2cf396b",
   "metadata": {
    "tags": []
   },
   "outputs": [],
   "source": [
    "ctr = 4.8"
   ]
  },
  {
   "cell_type": "code",
   "execution_count": 17,
   "id": "a83ec650-242d-4a8d-92e0-d4014c70732a",
   "metadata": {
    "tags": []
   },
   "outputs": [
    {
     "data": {
      "text/plain": [
       "4.8"
      ]
     },
     "execution_count": 17,
     "metadata": {},
     "output_type": "execute_result"
    }
   ],
   "source": [
    "ctr"
   ]
  },
  {
   "cell_type": "code",
   "execution_count": 18,
   "id": "ed1466a7-8e66-4747-bf7c-f5a7f1acdfdf",
   "metadata": {
    "tags": []
   },
   "outputs": [],
   "source": [
    "website_adress = \"https://seowings.org\""
   ]
  },
  {
   "cell_type": "code",
   "execution_count": 19,
   "id": "9795cc3c-6583-462f-b20f-c65d9150cf47",
   "metadata": {
    "tags": []
   },
   "outputs": [
    {
     "data": {
      "text/plain": [
       "'https://seowings.org'"
      ]
     },
     "execution_count": 19,
     "metadata": {},
     "output_type": "execute_result"
    }
   ],
   "source": [
    "website_adress"
   ]
  },
  {
   "cell_type": "code",
   "execution_count": 6,
   "id": "74e1b9bc-9635-428d-b27f-78ecf9fd7f9b",
   "metadata": {
    "tags": []
   },
   "outputs": [
    {
     "name": "stdout",
     "output_type": "stream",
     "text": [
      "4.05\n"
     ]
    }
   ],
   "source": [
    "ctr_seowings = 4.2 \n",
    "ctr_serowings = 3.9\n",
    "avg_ctr = (ctr_seowings + ctr_serowings)/2\n",
    "print (avg_ctr)"
   ]
  },
  {
   "cell_type": "markdown",
   "id": "d2b85c4d-373d-497b-b4d2-d3f432a35b52",
   "metadata": {
    "tags": []
   },
   "source": [
    "Integer\n",
    "Strings\n",
    "Variable \n",
    "\n",
    "Lists"
   ]
  },
  {
   "cell_type": "code",
   "execution_count": 41,
   "id": "a7563b1f-9135-401d-9167-49fa855758f4",
   "metadata": {
    "tags": []
   },
   "outputs": [
    {
     "name": "stdout",
     "output_type": "stream",
     "text": [
      "['google.com', 'yahoo.com', 'github.com', 'airbnb.com']\n"
     ]
    }
   ],
   "source": [
    "list_of_websites = [\"google.com\", \"yahoo.com\", \"github.com\", \"airbnb.com\"]\n",
    "print (list_of_websites)"
   ]
  },
  {
   "cell_type": "code",
   "execution_count": 42,
   "id": "c3993e9e-ce1e-435f-ad65-ee4b1e474c8b",
   "metadata": {
    "tags": []
   },
   "outputs": [],
   "source": [
    "list_of_competitors = [\"web.de\", \"wordpress.com\", \"wordpress.org\"]"
   ]
  },
  {
   "cell_type": "code",
   "execution_count": 45,
   "id": "81a83110-2760-42dc-85cf-6febc70533dc",
   "metadata": {
    "tags": []
   },
   "outputs": [
    {
     "data": {
      "text/plain": [
       "['google.com',\n",
       " 'yahoo.com',\n",
       " 'github.com',\n",
       " 'airbnb.com',\n",
       " 'web.de',\n",
       " 'wordpress.com',\n",
       " 'wordpress.org']"
      ]
     },
     "execution_count": 45,
     "metadata": {},
     "output_type": "execute_result"
    }
   ],
   "source": [
    "list_of_websites + list_of_competitors"
   ]
  },
  {
   "cell_type": "code",
   "execution_count": 47,
   "id": "b2e4977e-02cb-404c-945a-60b5acb5730b",
   "metadata": {
    "tags": []
   },
   "outputs": [
    {
     "name": "stdout",
     "output_type": "stream",
     "text": [
      "['google.com', 'yahoo.com', 'github.com', 'airbnb.com', 'web.de', 'wordpress.com', 'wordpress.org']\n"
     ]
    }
   ],
   "source": [
    "new_list = list_of_websites + list_of_competitors\n",
    "print (new_list)"
   ]
  },
  {
   "cell_type": "markdown",
   "id": "b52306c3-d668-475e-9729-4c7e572800c4",
   "metadata": {},
   "source": [
    "# For Loop"
   ]
  },
  {
   "cell_type": "code",
   "execution_count": 49,
   "id": "cf6fabc3-ac36-476f-a377-ef56a8831f89",
   "metadata": {
    "tags": []
   },
   "outputs": [
    {
     "name": "stdout",
     "output_type": "stream",
     "text": [
      "web.de\n",
      "wordpress.com\n",
      "wordpress.org\n"
     ]
    }
   ],
   "source": [
    "for competitor in list_of_competitors:\n",
    "    print (competitor)"
   ]
  },
  {
   "cell_type": "markdown",
   "id": "132827a5-390a-4502-a8a1-79f8e1b01c1a",
   "metadata": {},
   "source": [
    "# Logical Checks"
   ]
  },
  {
   "cell_type": "code",
   "execution_count": 56,
   "id": "16283cbe-4763-4c05-ab1e-368fd817ee3c",
   "metadata": {
    "tags": []
   },
   "outputs": [
    {
     "name": "stdout",
     "output_type": "stream",
     "text": [
      "this is very low ctr\n"
     ]
    }
   ],
   "source": [
    "ctr = 1.3\n",
    "\n",
    "if ctr < 2: \n",
    "    print (\"this is very low ctr\")\n",
    "else:\n",
    "    print (\"your ctr is good, carry on\")"
   ]
  },
  {
   "cell_type": "code",
   "execution_count": 61,
   "id": "824327b9-4d12-43e1-bb34-1b260f225632",
   "metadata": {
    "tags": []
   },
   "outputs": [
    {
     "name": "stdout",
     "output_type": "stream",
     "text": [
      "not an org domain\n",
      "not an org domain\n",
      "wordpress.org\n"
     ]
    }
   ],
   "source": [
    "for competitor in list_of_competitors:\n",
    "    if competitor.endswith(\".org\"):\n",
    "        print (competitor)\n",
    "    else:\n",
    "        print (\"not an org domain\")"
   ]
  },
  {
   "cell_type": "code",
   "execution_count": 64,
   "id": "bb5d0abc-8f1d-440d-93fc-fba487244485",
   "metadata": {
    "tags": []
   },
   "outputs": [
    {
     "name": "stdout",
     "output_type": "stream",
     "text": [
      "your ctr is good, carry on\n"
     ]
    }
   ],
   "source": [
    "ctr = 4.3\n",
    "\n",
    "if ctr < 2: \n",
    "    print (\"this is very low ctr\")\n",
    "elif ctr >=2 and ctr <3:\n",
    "    print (\"this is an average ctr\")\n",
    "else:\n",
    "    print (\"your ctr is good, carry on\")"
   ]
  },
  {
   "cell_type": "code",
   "execution_count": 66,
   "id": "96df55f0-71a0-49e7-b301-fd656c894301",
   "metadata": {
    "tags": []
   },
   "outputs": [
    {
     "name": "stdout",
     "output_type": "stream",
     "text": [
      "web.de this is German dmain\n",
      "wordpress.com not an org domain\n",
      "wordpress.org this is Non Profit Org dmain\n"
     ]
    }
   ],
   "source": [
    "for competitor in list_of_competitors:\n",
    "    if competitor.endswith(\".org\"):\n",
    "        print (competitor, \"this is Non Profit Org dmain\")\n",
    "    elif competitor.endswith(\".de\"):\n",
    "        print (competitor, \"this is German dmain\")\n",
    "    else:\n",
    "        print (competitor, \"not an org domain\")"
   ]
  },
  {
   "cell_type": "code",
   "execution_count": 95,
   "id": "7d77d6aa-2e6d-43a5-a6a4-554bc5dd62b7",
   "metadata": {
    "tags": []
   },
   "outputs": [
    {
     "name": "stdout",
     "output_type": "stream",
     "text": [
      "3\n"
     ]
    }
   ],
   "source": [
    "total_competitors = len(list_of_competitors)\n",
    "print (total_competitors)"
   ]
  },
  {
   "cell_type": "code",
   "execution_count": 87,
   "id": "0a40d5de-5458-44e3-a8a0-4d1c2016d47b",
   "metadata": {
    "tags": []
   },
   "outputs": [
    {
     "name": "stdout",
     "output_type": "stream",
     "text": [
      "This is my text\n"
     ]
    }
   ],
   "source": [
    "print (\"This is my text\")"
   ]
  },
  {
   "cell_type": "markdown",
   "id": "f8287cad-a257-4908-9b0d-eafc845c9b1f",
   "metadata": {},
   "source": [
    "# Dictionaries"
   ]
  },
  {
   "cell_type": "code",
   "execution_count": 81,
   "id": "e3ee3c02-b606-479f-81a8-38d67321cee2",
   "metadata": {
    "tags": []
   },
   "outputs": [],
   "source": [
    "countries = {\n",
    "    \"Pakistan\": \"Is country on South Asia.\",\n",
    "    \"Germany\": \"Is a Coutnry in Central Europe\"\n",
    "}"
   ]
  },
  {
   "cell_type": "code",
   "execution_count": 86,
   "id": "44ec8c59-c765-496f-a14a-f6510c6bebfe",
   "metadata": {
    "tags": []
   },
   "outputs": [
    {
     "data": {
      "text/plain": [
       "dict_keys(['Pakistan', 'Germany'])"
      ]
     },
     "execution_count": 86,
     "metadata": {},
     "output_type": "execute_result"
    }
   ],
   "source": [
    "countries.keys()"
   ]
  },
  {
   "cell_type": "code",
   "execution_count": 89,
   "id": "ea6143e0-ecb2-4521-8621-a26e1298f75a",
   "metadata": {
    "tags": []
   },
   "outputs": [
    {
     "data": {
      "text/plain": [
       "dict_values(['Is country on South Asia.', 'Is a Coutnry in Central Europe'])"
      ]
     },
     "execution_count": 89,
     "metadata": {},
     "output_type": "execute_result"
    }
   ],
   "source": [
    "countries.values()"
   ]
  },
  {
   "cell_type": "markdown",
   "id": "7b31f25f-4f32-4380-b595-9b69d1945b6c",
   "metadata": {
    "tags": []
   },
   "source": [
    "## F-Strings"
   ]
  },
  {
   "cell_type": "code",
   "execution_count": 69,
   "id": "7a4939cd-7bbd-472e-8356-3a491aa0adcf",
   "metadata": {
    "tags": []
   },
   "outputs": [
    {
     "name": "stdout",
     "output_type": "stream",
     "text": [
      "This is my text for 4.3\n"
     ]
    }
   ],
   "source": [
    "print (f\"This is my text for {ctr}\")"
   ]
  },
  {
   "cell_type": "code",
   "execution_count": 70,
   "id": "848fea91-a238-4797-a527-1cf7e2744206",
   "metadata": {
    "tags": []
   },
   "outputs": [
    {
     "name": "stdout",
     "output_type": "stream",
     "text": [
      "This 4.3 is my text\n"
     ]
    }
   ],
   "source": [
    "print (f\"This {ctr} is my text\")"
   ]
  },
  {
   "cell_type": "code",
   "execution_count": 71,
   "id": "55aada59-0788-41bd-97b9-c5d327ce67cd",
   "metadata": {
    "tags": []
   },
   "outputs": [
    {
     "name": "stdout",
     "output_type": "stream",
     "text": [
      "web.de is German dmain\n",
      "wordpress.com not an org domain\n",
      "wordpress.org is Non Profit Org dmain\n"
     ]
    }
   ],
   "source": [
    "for competitor in list_of_competitors:\n",
    "    if competitor.endswith(\".org\"):\n",
    "        print (f\"{competitor} is Non Profit Org dmain\")\n",
    "    elif competitor.endswith(\".de\"):\n",
    "        print (f\"{competitor} is German dmain\")\n",
    "    else:\n",
    "        print (f\"{competitor} not an org domain\")"
   ]
  },
  {
   "cell_type": "code",
   "execution_count": 78,
   "id": "2a1374e0-8002-4f75-99b2-58b6ecb4c377",
   "metadata": {
    "tags": []
   },
   "outputs": [
    {
     "name": "stdout",
     "output_type": "stream",
     "text": [
      "You are my content writer for the website laptopforkids.com. You should an outline for a blog post on Best Laptops for Kids. Please write it for kids of age 10 and do not exceed 35 words \n"
     ]
    }
   ],
   "source": [
    "my_website = \"laptopforkids.com\"\n",
    "blog_post_title = \"Best Laptops for Kids\"\n",
    "word_limit = 35\n",
    "\n",
    "print (f\"You are my content writer for the website {my_website}. You should an outline for a blog post on {blog_post_title}. Please write it for kids of age 10 and do not exceed {word_limit} words \")\n"
   ]
  }
 ],
 "metadata": {
  "kernelspec": {
   "display_name": "Python 3 (ipykernel)",
   "language": "python",
   "name": "python3"
  },
  "language_info": {
   "codemirror_mode": {
    "name": "ipython",
    "version": 3
   },
   "file_extension": ".py",
   "mimetype": "text/x-python",
   "name": "python",
   "nbconvert_exporter": "python",
   "pygments_lexer": "ipython3",
   "version": "3.10.11"
  }
 },
 "nbformat": 4,
 "nbformat_minor": 5
}
