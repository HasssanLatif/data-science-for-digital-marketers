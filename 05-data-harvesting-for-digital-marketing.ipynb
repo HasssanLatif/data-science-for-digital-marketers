{
 "cells": [
  {
   "cell_type": "markdown",
   "id": "9093092c-2f43-49d3-9bec-74eacb3408b3",
   "metadata": {},
   "source": [
    "# Data Harvesting for Digital Marketing\n",
    "\n",
    "While working with digital markeing data, you will come across hetrogenous data types which can be cumbersome to work with. this is the reason why data engineering is a specific filed where people are only working thier best to clean, and pre-process the data to bring them in a homgenous format. \n"
   ]
  },
  {
   "cell_type": "markdown",
   "id": "db7f0b53-2c48-4c38-b4fa-e76eeddf50c9",
   "metadata": {},
   "source": [
    "### What are Different Data Types\n",
    "\n",
    "- Text\n",
    "    - Whois record\n",
    "        - https://www.ip2location.io/ip2whois-documentation\n",
    "        - whois application\n",
    "        - whois python package\n",
    "- Images\n",
    "- Spatial\n",
    "    - Lat/Long\n",
    "        - https://www.ip2location.io/ip2location-documentation\n",
    "- Temporal\n",
    "    - Time\n",
    "    - Date\n",
    "    - Date and Time\n"
   ]
  },
  {
   "cell_type": "markdown",
   "id": "72768229-c62a-428b-9895-8c200135d48e",
   "metadata": {},
   "source": [
    "## Data Source Types\n",
    "\n",
    "Nevertheseless, you will come acrss following formats. We have highlited them for your conveneice and then exaplain them in details. All prcocessing tool are discussed are usually available as Python package."
   ]
  },
  {
   "cell_type": "markdown",
   "id": "0f62eecd-5f8d-4f85-8dda-2501f2bdedc8",
   "metadata": {
    "tags": []
   },
   "source": [
    "### Data as Files\n",
    "\n",
    "- Tools\n",
    "    - Standard File Operatios\n",
    "        - Context Manager (with)\n",
    "        - Open Command\n",
    "    - Remote Files\n",
    "        - urllib (urlsparse, urlopen)\n",
    "        - requests (fetch, sitemap)\n",
    "        - wget https://pypi.org/project/wget/\n",
    "- location:\n",
    "    - Local Path\n",
    "        - C:/Users/Admin/tmp/robots.txt\n",
    "        - /urs/home/admin/tmp/robots.txt\n",
    "    - Remote Server \n",
    "        - https://www.seowings.org/robots.txt\n",
    "        - ftp://192.168.0.1/robots.txt\n",
    "- format\n",
    "    - txt\n",
    "    - data\n",
    "    - json\n",
    "    - zip files\n",
    "    - csv (comma seperated values)\n",
    "    - ...."
   ]
  },
  {
   "cell_type": "code",
   "execution_count": 25,
   "id": "af56b10b-14ba-4240-b939-0cfe81164f35",
   "metadata": {
    "tags": []
   },
   "outputs": [
    {
     "ename": "FileNotFoundError",
     "evalue": "[Errno 2] No such file or directory: 'data/test.dat'",
     "output_type": "error",
     "traceback": [
      "\u001b[1;31m---------------------------------------------------------------------------\u001b[0m",
      "\u001b[1;31mFileNotFoundError\u001b[0m                         Traceback (most recent call last)",
      "Cell \u001b[1;32mIn[25], line 3\u001b[0m\n\u001b[0;32m      1\u001b[0m file_path \u001b[38;5;241m=\u001b[39m \u001b[38;5;124m\"\u001b[39m\u001b[38;5;124mdata/test.dat\u001b[39m\u001b[38;5;124m\"\u001b[39m\n\u001b[1;32m----> 3\u001b[0m \u001b[38;5;28;01mwith\u001b[39;00m \u001b[38;5;28;43mopen\u001b[39;49m\u001b[43m \u001b[49m\u001b[43m(\u001b[49m\u001b[43mfile_path\u001b[49m\u001b[43m,\u001b[49m\u001b[43m \u001b[49m\u001b[38;5;124;43m'\u001b[39;49m\u001b[38;5;124;43mr\u001b[39;49m\u001b[38;5;124;43m'\u001b[39;49m\u001b[43m)\u001b[49m \u001b[38;5;28;01mas\u001b[39;00m file:\n\u001b[0;32m      4\u001b[0m     f\u001b[38;5;241m.\u001b[39mreadlines()\n",
      "File \u001b[1;32m~\\Documents\\GitHub\\data-science-for-digital-marketers\\.venv\\lib\\site-packages\\IPython\\core\\interactiveshell.py:284\u001b[0m, in \u001b[0;36m_modified_open\u001b[1;34m(file, *args, **kwargs)\u001b[0m\n\u001b[0;32m    277\u001b[0m \u001b[38;5;28;01mif\u001b[39;00m file \u001b[38;5;129;01min\u001b[39;00m {\u001b[38;5;241m0\u001b[39m, \u001b[38;5;241m1\u001b[39m, \u001b[38;5;241m2\u001b[39m}:\n\u001b[0;32m    278\u001b[0m     \u001b[38;5;28;01mraise\u001b[39;00m \u001b[38;5;167;01mValueError\u001b[39;00m(\n\u001b[0;32m    279\u001b[0m         \u001b[38;5;124mf\u001b[39m\u001b[38;5;124m\"\u001b[39m\u001b[38;5;124mIPython won\u001b[39m\u001b[38;5;124m'\u001b[39m\u001b[38;5;124mt let you open fd=\u001b[39m\u001b[38;5;132;01m{\u001b[39;00mfile\u001b[38;5;132;01m}\u001b[39;00m\u001b[38;5;124m by default \u001b[39m\u001b[38;5;124m\"\u001b[39m\n\u001b[0;32m    280\u001b[0m         \u001b[38;5;124m\"\u001b[39m\u001b[38;5;124mas it is likely to crash IPython. If you know what you are doing, \u001b[39m\u001b[38;5;124m\"\u001b[39m\n\u001b[0;32m    281\u001b[0m         \u001b[38;5;124m\"\u001b[39m\u001b[38;5;124myou can use builtins\u001b[39m\u001b[38;5;124m'\u001b[39m\u001b[38;5;124m open.\u001b[39m\u001b[38;5;124m\"\u001b[39m\n\u001b[0;32m    282\u001b[0m     )\n\u001b[1;32m--> 284\u001b[0m \u001b[38;5;28;01mreturn\u001b[39;00m io_open(file, \u001b[38;5;241m*\u001b[39margs, \u001b[38;5;241m*\u001b[39m\u001b[38;5;241m*\u001b[39mkwargs)\n",
      "\u001b[1;31mFileNotFoundError\u001b[0m: [Errno 2] No such file or directory: 'data/test.dat'"
     ]
    }
   ],
   "source": [
    "file_path = \"data/test.dat\"\n",
    "\n",
    "with open (file_path, 'r') as file:\n",
    "    f.readlines()"
   ]
  },
  {
   "cell_type": "markdown",
   "id": "1c0765ce-faf0-4e9c-93ed-ed2d124b7050",
   "metadata": {
    "jp-MarkdownHeadingCollapsed": true,
    "tags": []
   },
   "source": [
    "### Collecting/Scraping data from a Website\n",
    "- Tools\n",
    "    - python standard library\n",
    "        - urllib\n",
    "    - 3rd party\n",
    "        - requests\n",
    "    - Heavy lifting\n",
    "        - selenium \n",
    "            https://selenium-python.readthedocs.io/\n",
    "        - pyqt annd pyqtweb \n",
    "            https://www.pythonguis.com/examples/python-web-browser/\n",
    "\n",
    "- Location\n",
    "    - Remote (Web server)\n",
    "    - local (Web server)\n",
    "- format\n",
    "    - HTML\n",
    "    - CSS \n",
    "    - JS \n",
    "    \n",
    "#### HTTP Status Codes\n",
    "\n",
    "- After 399 status code, you will get errors\n",
    "- python requests libray returns a status object\n",
    "    - request object histroy (r.history will show request histroy as reponse )\n",
    "\n",
    "#### Types of Status Codes\n",
    "- Informational responses (100 – 199)\n",
    "- Successful responses (200 – 299)\n",
    "    - 200 response \n",
    "- Redirection messages (300 – 399)\n",
    "    - 301 permanent redirect\n",
    "    - 302 temporay redirect\n",
    "- Client error responses (400 – 499)\n",
    "    - 404 error - page not found\n",
    "    - 410 error - Page is permenatly gone\n",
    "- Server error responses (500 – 599)\n",
    "    - 500 error - server not avialble\n",
    "\n",
    "referece: https://developer.mozilla.org/en-US/docs/Web/HTTP/Status"
   ]
  },
  {
   "cell_type": "markdown",
   "id": "5fe3077d-6d8f-4bf3-9814-2f24104b8ae6",
   "metadata": {},
   "source": [
    "### Downloading data via API Interface\n",
    "- Tools for data collection\n",
    "    - requests\n",
    "    - urllib (standard library)\n",
    "\n",
    "- Location\n",
    "    - Remote (Web server)\n",
    "    - local (Web server) \n",
    "- format\n",
    "    - XML (older websites/legacy)\n",
    "    - JSON (mostly new website)"
   ]
  },
  {
   "cell_type": "markdown",
   "id": "e46791dd-8b6e-4fed-a68d-998476b55a1f",
   "metadata": {},
   "source": [
    "### Getting DAta from Databases\n",
    "- Tools:\n",
    "    - Specialized handlers for indvidual libraries\n",
    "        https://www.freecodecamp.org/news/connect-python-with-sql/\n",
    "    - Sqlalchemy\n",
    "        https://www.sqlalchemy.org/\n",
    "- Location\n",
    "    - Remote \n",
    "        - Oracle\n",
    "        - Postgres\n",
    "        - mysql\n",
    "        - sqlserver\n",
    "        - nosql\n",
    "    - local/Desktop \n",
    "        - (SQlite- https://sqlite.org/index.html)\n",
    "- format\n",
    "    - SQL Query"
   ]
  },
  {
   "cell_type": "markdown",
   "id": "1afa8a00-69f2-4aee-8b8e-073484b20b53",
   "metadata": {
    "tags": []
   },
   "source": [
    "## Common Data Sources/Website for Digital Marketing\n",
    "\n",
    "- Mostly available via API (99%)\n",
    "    - official\n",
    "    - unofficial\n",
    "\n",
    "- Data Source\n",
    "    1. Twitter Data\n",
    "    2. Facebook data\n",
    "    3. linkedin data\n",
    "    4. instagram\n",
    "        - https://github.com/InstaPy/InstaPy\n",
    "    5. pinterest\n",
    "    6. Google search\n",
    "    7. Gmail Data\n",
    "    8. Analytics\n",
    "    9. Amazon data\n",
    "        - PPC\n",
    "    10. Wallmart\n",
    "    11. Ebay\n",
    "    12. Youtube\n",
    "        - https://developers.google.com/youtube/v3/quickstart/python\n",
    "        - https://github.com/ytdl-org/youtube-dl"
   ]
  },
  {
   "cell_type": "markdown",
   "id": "6fb3e122-7c4f-48b1-aa18-72fe5eafa616",
   "metadata": {
    "tags": []
   },
   "source": [
    "## How to Read Data from Local Files"
   ]
  },
  {
   "cell_type": "code",
   "execution_count": null,
   "id": "e01d4d9e-70fe-44e3-8728-27571dcaec04",
   "metadata": {},
   "outputs": [],
   "source": []
  },
  {
   "cell_type": "markdown",
   "id": "16da618b-a6bf-4304-812a-5204ec90a71c",
   "metadata": {},
   "source": [
    "## Before you get started with Data Scraping\n",
    "\n",
    "- Websites\n",
    "Most websites forbid to harvesting data via automated bots. Make sure you first read Terms and Condition of indvidual websites and see if automated web scraping is allowed or not.\n",
    "\n",
    "- Platforms\n",
    "If you have hosted your python code on a 3rd party sever, you might not be allowed to perform web scraping. Please always read terms and condiition of your serverice providers if you are allowed to reun bots or not.\n",
    "\n",
    "- All examples shown in these notes are for educational purpose and are governed by the license mention in LICENSE file. In short, we do not take any responislibty of the damage cause by instruction in this book and examples shown here."
   ]
  },
  {
   "cell_type": "markdown",
   "id": "9d6d7b0b-06c7-4903-9359-9982b3cc7b4c",
   "metadata": {
    "tags": []
   },
   "source": [
    "## Tips to imporve your webscraping\n",
    "- try to randomize yout request\n",
    "    - time e.g. with sleep (1)\n",
    "    - random\n",
    "- User User agent /Header\n",
    "- User Cache e.g. lru_cache\n",
    "    - if you have acceessed website1.com then next time the same website will not be crawled but get the value from cach.\n",
    "- vpn - ip shuffling\n",
    "- selinium python"
   ]
  },
  {
   "cell_type": "code",
   "execution_count": 2,
   "id": "c49fbe70-928d-4cbe-ba50-8cec276ebf90",
   "metadata": {
    "tags": []
   },
   "outputs": [],
   "source": [
    "import requests\n",
    "import json\n",
    "from functools import lru_cache\n",
    "\n",
    "@lru_cache\n",
    "def check_archive_data(domain):\n",
    "    url = f\"http://archive.org/wayback/available?url={domain}&timestamp=19900101\"\n",
    "    r = requests.get(url)\n",
    "    archive_data = json.loads(r.text)\n",
    "    return archive_data['archived_snapshots']['closest']['timestamp']"
   ]
  },
  {
   "cell_type": "code",
   "execution_count": null,
   "id": "e95d0f76-f07c-4c38-a5b3-304e4e3f17cd",
   "metadata": {
    "tags": []
   },
   "outputs": [],
   "source": [
    "check_archive_data(domain=\"https://www.python.org\")"
   ]
  },
  {
   "cell_type": "code",
   "execution_count": null,
   "id": "95e61117-6af0-43ca-8a2a-a7c5c19dbdd2",
   "metadata": {
    "tags": []
   },
   "outputs": [],
   "source": [
    "import time\n",
    "import random\n",
    "for domain in [\"https://www.seowings.org\", \"https://www.seowings.org\"]:\n",
    "    time.sleep(3*random.random())\n",
    "    print (check_archive_data(domain))"
   ]
  },
  {
   "cell_type": "markdown",
   "id": "70ff4a6d-e4ae-4abe-8d03-284ff4686866",
   "metadata": {
    "tags": []
   },
   "source": [
    "## How to Store Data?\n",
    "\n",
    "There are differnt ways to save or represent yor data in python and several datatypes are avialble for that. \n",
    "\n",
    "For example if you have list of urls/website then you are good to go with list data type.  "
   ]
  },
  {
   "cell_type": "code",
   "execution_count": 17,
   "id": "ecd9fb0d-8025-437f-80bd-81f8c61ace20",
   "metadata": {
    "tags": []
   },
   "outputs": [],
   "source": [
    "web_links = [\"website1.com\", \"website2.com\", \"website3.com\"]"
   ]
  },
  {
   "cell_type": "markdown",
   "id": "325713ef-c3dd-4c8a-9595-9b67700fdba3",
   "metadata": {
    "tags": []
   },
   "source": [
    "However, if you need to hash a value (key,value pair) then you are good to use dictionaires.  "
   ]
  },
  {
   "cell_type": "code",
   "execution_count": 19,
   "id": "c8454237-26ae-4d2d-9bfc-8c0a1fd246a4",
   "metadata": {
    "tags": []
   },
   "outputs": [],
   "source": [
    "websites = {\n",
    "    \"website1\" : [1,2,3], \n",
    "    \"website2\" : [3.2,4.9, 4],\n",
    "    \"website3\" : [1.9,2.1,3.3]\n",
    "}"
   ]
  },
  {
   "cell_type": "markdown",
   "id": "1a0dbda5-ad67-4dfb-9da5-a07ced05f5b3",
   "metadata": {
    "tags": []
   },
   "source": [
    "## How to Check/Parse URL?"
   ]
  },
  {
   "cell_type": "markdown",
   "id": "f3857a04-1a6f-484e-9da4-6b9df3f37a42",
   "metadata": {},
   "source": [
    "You basically need to check the netloc and scheme to make sure that a url is valid. You can also used python packages which are specialized in checking the validity of a url. This has itself became a complicated topic to to large availabiltiy of custom domain names, handshake domains and etc. \n",
    "\n",
    "As a bruteforce check, you can parse the url and look for its netloc to quickly check the validity of a url. This approach is very handy if you know that input url is probaly correct and a simple check is required to make sure it doesnt break your algorithm. "
   ]
  },
  {
   "cell_type": "code",
   "execution_count": 20,
   "id": "0e13e3d8-79d6-4549-bcd3-d947e376e29f",
   "metadata": {
    "tags": []
   },
   "outputs": [
    {
     "data": {
      "text/plain": [
       "ParseResult(scheme='https', netloc='serpwings.com', path='/software/simply-static-netlify-callback/', params='', query='', fragment='')"
      ]
     },
     "execution_count": 20,
     "metadata": {},
     "output_type": "execute_result"
    }
   ],
   "source": [
    "# Standard Library\n",
    "from urllib import parse\n",
    "parse.urlparse(\"https://serpwings.com/software/simply-static-netlify-callback/\")"
   ]
  },
  {
   "cell_type": "code",
   "execution_count": 21,
   "id": "10a933c9-84a0-457d-987f-ddbc74c203e7",
   "metadata": {
    "tags": []
   },
   "outputs": [
    {
     "data": {
      "text/plain": [
       "ParseResult(scheme='https', netloc='www.amazon.com', path='/deal/4ab5cff9', params='', query='showVariations=true', fragment='')"
      ]
     },
     "execution_count": 21,
     "metadata": {},
     "output_type": "execute_result"
    }
   ],
   "source": [
    "parse.urlparse(\"https://www.amazon.com/deal/4ab5cff9?showVariations=true\")"
   ]
  },
  {
   "cell_type": "code",
   "execution_count": 22,
   "id": "d96736d3-a840-4e74-83e3-d5308fb2d682",
   "metadata": {
    "tags": []
   },
   "outputs": [
    {
     "data": {
      "text/plain": [
       "ParseResult(scheme='https', netloc='www.googletagmanager.com', path='/gtag/js', params='', query='id=G-R87TYPSWPH', fragment='')"
      ]
     },
     "execution_count": 22,
     "metadata": {},
     "output_type": "execute_result"
    }
   ],
   "source": [
    "parse.urlparse(\"https://www.googletagmanager.com/gtag/js?id=G-R87TYPSWPH\")"
   ]
  },
  {
   "cell_type": "code",
   "execution_count": 24,
   "id": "831f5332-521d-41fa-8dc3-b1fd27e6cc84",
   "metadata": {
    "tags": []
   },
   "outputs": [
    {
     "name": "stdout",
     "output_type": "stream",
     "text": [
      "valid\n"
     ]
    }
   ],
   "source": [
    "# Scheme\n",
    "# Netloc\n",
    "\n",
    "parsed_value = parse.urlparse(\"https://serpwings.com\")\n",
    "\n",
    "if parsed_value.scheme:\n",
    "    print (\"valid\")\n",
    "else:\n",
    "    print (\"not valid\")\n",
    "    \n",
    "is_valid = True if parsed_value.scheme else False\n",
    "\n"
   ]
  },
  {
   "cell_type": "code",
   "execution_count": 33,
   "id": "631ac0c1-f40d-45f7-afb1-1a4f801d4810",
   "metadata": {
    "tags": []
   },
   "outputs": [
    {
     "data": {
      "text/plain": [
       "'valid'"
      ]
     },
     "execution_count": 33,
     "metadata": {},
     "output_type": "execute_result"
    }
   ],
   "source": [
    "def is_url_valid(url):\n",
    "    parsed_value = parse.urlparse(url)\n",
    "    return \"valid\" if parsed_value.scheme and parsed_value.netloc else \"not valid\"\n",
    "    \n",
    "url = \"https://google.com\"\n",
    "\n",
    "url_validity = is_url_valid(url)\n",
    "\n",
    "url_validity\n",
    "\n",
    "\n"
   ]
  },
  {
   "cell_type": "code",
   "execution_count": 38,
   "id": "88f5dbb1-07fc-43c1-b7f8-a1fc6a7bb68d",
   "metadata": {
    "tags": []
   },
   "outputs": [
    {
     "data": {
      "text/plain": [
       "'http://archive.org/wayback/available?url=https://seowings.org&timestamp=19900101'"
      ]
     },
     "execution_count": 38,
     "metadata": {},
     "output_type": "execute_result"
    }
   ],
   "source": [
    "domain = \"https://seowings.org\"\n",
    "\n",
    "url = f\"http://archive.org/wayback/available?url={domain}&timestamp=19900101\"\n",
    "\n",
    "url \n",
    "#is_url_valid(url) # helper functions - utility functions\n"
   ]
  },
  {
   "cell_type": "code",
   "execution_count": 39,
   "id": "90beba45-b128-474e-837c-3f318186daf5",
   "metadata": {
    "tags": []
   },
   "outputs": [
    {
     "name": "stdout",
     "output_type": "stream",
     "text": [
      "Requirement already satisfied: requests in c:\\users\\serpwings\\documents\\github\\data-science-for-digital-marketers\\.venv\\lib\\site-packages (2.30.0)\n",
      "Requirement already satisfied: urllib3<3,>=1.21.1 in c:\\users\\serpwings\\documents\\github\\data-science-for-digital-marketers\\.venv\\lib\\site-packages (from requests) (2.0.2)\n",
      "Requirement already satisfied: idna<4,>=2.5 in c:\\users\\serpwings\\documents\\github\\data-science-for-digital-marketers\\.venv\\lib\\site-packages (from requests) (3.4)\n",
      "Requirement already satisfied: charset-normalizer<4,>=2 in c:\\users\\serpwings\\documents\\github\\data-science-for-digital-marketers\\.venv\\lib\\site-packages (from requests) (3.1.0)\n",
      "Requirement already satisfied: certifi>=2017.4.17 in c:\\users\\serpwings\\documents\\github\\data-science-for-digital-marketers\\.venv\\lib\\site-packages (from requests) (2023.5.7)\n"
     ]
    },
    {
     "name": "stderr",
     "output_type": "stream",
     "text": [
      "\n",
      "[notice] A new release of pip is available: 23.0.1 -> 23.1.2\n",
      "[notice] To update, run: python.exe -m pip install --upgrade pip\n"
     ]
    }
   ],
   "source": [
    "# 3rd party packages \n",
    "# pip install requests\n",
    "\n",
    "!pip install requests\n",
    "\n"
   ]
  },
  {
   "cell_type": "code",
   "execution_count": 14,
   "id": "49100409-6648-4346-a3b3-e5f74c30d903",
   "metadata": {},
   "outputs": [],
   "source": [
    "import requests\n",
    "\n",
    "r = requests.get('https://requests.readthedocs.io/')\n"
   ]
  },
  {
   "cell_type": "code",
   "execution_count": 15,
   "id": "2816aa99-7f7a-4061-b0e6-f40769fb2cbd",
   "metadata": {
    "tags": []
   },
   "outputs": [
    {
     "data": {
      "text/plain": [
       "<Response [200]>"
      ]
     },
     "execution_count": 15,
     "metadata": {},
     "output_type": "execute_result"
    }
   ],
   "source": [
    "r\n",
    "\n",
    "# 200 ok\n",
    "# 301 302 redirect\n",
    "# 404 page doenst not exit\n",
    "# 410 permanently deleted\n",
    "# 500 server error\n"
   ]
  },
  {
   "cell_type": "code",
   "execution_count": 17,
   "id": "ca571911-7fbb-425d-a051-8158d49588c6",
   "metadata": {
    "tags": []
   },
   "outputs": [
    {
     "data": {
      "text/plain": [
       "{'Date': 'Wed, 17 May 2023 17:36:03 GMT', 'Content-Type': 'text/html; charset=utf-8', 'Transfer-Encoding': 'chunked', 'Connection': 'keep-alive', 'Vary': 'Accept-Encoding', 'x-amz-id-2': 'ZBFWdzKoSl8WXLUGcchqGnLq4f/c2n1FiWK+YZjWey0PO21giqtJLOjTB3uZ999fbgujdLhMf8A=', 'x-amz-request-id': '7SRWZAHDWZFGQEP6', 'Last-Modified': 'Mon, 15 May 2023 15:05:40 GMT', 'ETag': 'W/\"3bc64e8dfb9ad78da7dfc4dd7f82af3f\"', 'x-amz-server-side-encryption': 'AES256', 'x-amz-meta-mtime': '1684163110.360453993', 'X-Served': 'Nginx-Proxito-Sendfile', 'X-Backend': 'web-i-09882d230536e047f', 'X-RTD-Project': 'requests', 'X-RTD-Version': 'latest', 'X-RTD-Path': '/proxito/html/requests/latest/index.html', 'X-RTD-Domain': 'requests.readthedocs.io', 'X-RTD-Version-Method': 'path', 'X-RTD-Project-Method': 'public_domain', 'Referrer-Policy': 'no-referrer-when-downgrade', 'Strict-Transport-Security': 'max-age=31536000; includeSubDomains; preload', 'X-Content-Type-Options': 'nosniff', 'CDN-Cache-Control': 'public', 'Content-Encoding': 'gzip', 'Cache-Control': 'max-age=1200', 'CF-Cache-Status': 'HIT', 'Age': '6832', 'Server': 'cloudflare', 'CF-RAY': '7c8d9ed88ce13649-FRA', 'alt-svc': 'h3=\":443\"; ma=86400, h3-29=\":443\"; ma=86400'}"
      ]
     },
     "execution_count": 17,
     "metadata": {},
     "output_type": "execute_result"
    }
   ],
   "source": [
    "r.headers\n",
    "# dict"
   ]
  },
  {
   "cell_type": "code",
   "execution_count": 6,
   "id": "13f464ce-3d1e-4e5d-9a60-d6ff984837ee",
   "metadata": {
    "tags": []
   },
   "outputs": [
    {
     "data": {
      "text/plain": [
       "datetime.timedelta(microseconds=252987)"
      ]
     },
     "execution_count": 6,
     "metadata": {},
     "output_type": "execute_result"
    }
   ],
   "source": [
    "import requests\n",
    "\n",
    "r = requests.get('https://seowings.org/safdsafsafd')\n",
    "\n",
    "r.history\n",
    "r.elapsed"
   ]
  },
  {
   "cell_type": "code",
   "execution_count": 7,
   "id": "df2733d2-7912-45c1-857c-7951c762dc70",
   "metadata": {
    "tags": []
   },
   "outputs": [
    {
     "data": {
      "text/plain": [
       "404"
      ]
     },
     "execution_count": 7,
     "metadata": {},
     "output_type": "execute_result"
    }
   ],
   "source": [
    "# http with www\n",
    "# http without www\n",
    "# https with www\n",
    "# https without www\n",
    "\n",
    "r.status_code"
   ]
  },
  {
   "cell_type": "code",
   "execution_count": 9,
   "id": "4156863e-5ec6-4183-a3f4-08a3d6544932",
   "metadata": {
    "tags": []
   },
   "outputs": [
    {
     "data": {
      "text/plain": [
       "'https://www.seowings.org/safdsafsafd'"
      ]
     },
     "execution_count": 9,
     "metadata": {},
     "output_type": "execute_result"
    }
   ],
   "source": [
    "r.url"
   ]
  },
  {
   "cell_type": "code",
   "execution_count": null,
   "id": "2f6ac79f-f10f-407a-b5eb-c873429cf0bd",
   "metadata": {},
   "outputs": [],
   "source": [
    "r.text"
   ]
  },
  {
   "cell_type": "code",
   "execution_count": 13,
   "id": "9d51c20e-f4d5-4a65-ab8c-a10058bcb69d",
   "metadata": {
    "tags": []
   },
   "outputs": [
    {
     "data": {
      "text/plain": [
       "'{\"url\": \"https://seowings.org\", \"archived_snapshots\": {\"closest\": {\"status\": \"200\", \"available\": true, \"url\": \"http://web.archive.org/web/20210802110250/https://www.seowings.org/\", \"timestamp\": \"20210802110250\"}}, \"timestamp\": \"19900101\"}'"
      ]
     },
     "execution_count": 13,
     "metadata": {},
     "output_type": "execute_result"
    }
   ],
   "source": [
    "import requests\n",
    "\n",
    "domain = \"https://seowings.org\"\n",
    "url = f\"http://archive.org/wayback/available?url={domain}&timestamp=19900101\"\n",
    "r = requests.get(url)\n",
    "r.text"
   ]
  },
  {
   "cell_type": "code",
   "execution_count": 15,
   "id": "6a96b217-d583-4384-b393-5f5e5e39084f",
   "metadata": {
    "tags": []
   },
   "outputs": [],
   "source": [
    "import json\n",
    "\n",
    "archive_data = json.loads(r.text)"
   ]
  },
  {
   "cell_type": "code",
   "execution_count": 16,
   "id": "9cd57cd7-d993-481e-9b6b-346df01d05a3",
   "metadata": {
    "tags": []
   },
   "outputs": [
    {
     "data": {
      "text/plain": [
       "{'url': 'https://seowings.org',\n",
       " 'archived_snapshots': {'closest': {'status': '200',\n",
       "   'available': True,\n",
       "   'url': 'http://web.archive.org/web/20210802110250/https://www.seowings.org/',\n",
       "   'timestamp': '20210802110250'}},\n",
       " 'timestamp': '19900101'}"
      ]
     },
     "execution_count": 16,
     "metadata": {},
     "output_type": "execute_result"
    }
   ],
   "source": [
    "archive_data"
   ]
  },
  {
   "cell_type": "code",
   "execution_count": 19,
   "id": "aba7f391-140f-468d-b072-ef9f2b6307a7",
   "metadata": {
    "tags": []
   },
   "outputs": [
    {
     "data": {
      "text/plain": [
       "'20210802110250'"
      ]
     },
     "execution_count": 19,
     "metadata": {},
     "output_type": "execute_result"
    }
   ],
   "source": [
    "archive_data['archived_snapshots']['closest']['timestamp']"
   ]
  },
  {
   "cell_type": "code",
   "execution_count": 23,
   "id": "04924ef5-151c-46a3-9ad6-0028f9013884",
   "metadata": {
    "tags": []
   },
   "outputs": [],
   "source": [
    "import requests\n",
    "import json\n",
    "\n",
    "def check_archive_data(domain):\n",
    "    url = f\"http://archive.org/wayback/available?url={domain}&timestamp=19900101\"\n",
    "    r = requests.get(url)\n",
    "    archive_data = json.loads(r.text)\n",
    "    return archive_data['archived_snapshots']['closest']['timestamp']\n"
   ]
  },
  {
   "cell_type": "code",
   "execution_count": 31,
   "id": "f0368574-546b-4829-8dd6-e85b5b0a154c",
   "metadata": {
    "tags": []
   },
   "outputs": [
    {
     "data": {
      "text/plain": [
       "'20150831144010'"
      ]
     },
     "execution_count": 31,
     "metadata": {},
     "output_type": "execute_result"
    }
   ],
   "source": [
    "check_archive_data(domain = \"https://www.islamicfinanceguru.com/\")"
   ]
  },
  {
   "cell_type": "code",
   "execution_count": 30,
   "id": "14753024-bded-4ff0-9123-4b236614b125",
   "metadata": {
    "tags": []
   },
   "outputs": [
    {
     "name": "stdout",
     "output_type": "stream",
     "text": [
      "https://stackoverflow.com 20040203071020\n",
      "https://dw.de 20110324045535\n",
      "https://seowings.org 20210802110250\n"
     ]
    }
   ],
   "source": [
    "\n",
    "list_of_competitors = [\"https://stackoverflow.com\", \"https://dw.de\", \"https://seowings.org\"]\n",
    "\n",
    "for competitor in list_of_competitors:\n",
    "    print (competitor, check_archive_data(domain = competitor))"
   ]
  },
  {
   "cell_type": "code",
   "execution_count": 1,
   "id": "ff75864b-94e2-4eaf-8dad-994853f65563",
   "metadata": {},
   "outputs": [
    {
     "ename": "NameError",
     "evalue": "name 'whois_checker' is not defined",
     "output_type": "error",
     "traceback": [
      "\u001b[1;31m---------------------------------------------------------------------------\u001b[0m",
      "\u001b[1;31mNameError\u001b[0m                                 Traceback (most recent call last)",
      "Cell \u001b[1;32mIn[1], line 1\u001b[0m\n\u001b[1;32m----> 1\u001b[0m \u001b[43mwhois_checker\u001b[49m\n\u001b[0;32m      2\u001b[0m word_counter\n\u001b[0;32m      3\u001b[0m url_extractors\n",
      "\u001b[1;31mNameError\u001b[0m: name 'whois_checker' is not defined"
     ]
    }
   ],
   "source": [
    "whois_checker\n",
    "word_counter\n",
    "url_extractors\n",
    "external\n",
    "internal\n"
   ]
  },
  {
   "cell_type": "code",
   "execution_count": null,
   "id": "acd4cba3-737b-4dae-a3dd-f89cbf793e0d",
   "metadata": {},
   "outputs": [],
   "source": []
  },
  {
   "cell_type": "code",
   "execution_count": 1,
   "id": "3dbe4e3f-b82d-480e-892b-a7204ba1ea1b",
   "metadata": {
    "tags": []
   },
   "outputs": [],
   "source": [
    "import requests\n",
    "zameean_url = \"https://www.zameen.com/Homes/Lahore_Shadman-15803-1.html\"\n",
    "r = requests.get(zameen_url)"
   ]
  },
  {
   "cell_type": "code",
   "execution_count": 2,
   "id": "79b028a8-1db4-4cb2-9b49-16e5f1e6500e",
   "metadata": {
    "tags": []
   },
   "outputs": [
    {
     "data": {
      "text/plain": [
       "<Response [200]>"
      ]
     },
     "execution_count": 2,
     "metadata": {},
     "output_type": "execute_result"
    }
   ],
   "source": [
    "r"
   ]
  },
  {
   "cell_type": "code",
   "execution_count": 18,
   "id": "6175b0bf-0527-4a3d-8c3b-b9d3b8728fd5",
   "metadata": {
    "tags": []
   },
   "outputs": [
    {
     "name": "stdout",
     "output_type": "stream",
     "text": [
      "zameen.com%2FProperty%2Fshadman_shadman_2_old_house_at_only_plot_price-45204154-8950-1.html\n",
      "zameen.com%2FProperty%2Flahore_shadman_1_75_kanal_house_in_stunning_shadman_is_available_for_sale-45203936-15803-1.html\n",
      "zameen.com%2FProperty%2Flahore_shadman_get_in_touch_now_to_buy_a_house_in_shadman-45203934-15803-1.html\n",
      "zameen.com%2FProperty%2Flahore_shadman_1_75_kanal_house_available_for_sale_in_shadman-45203931-15803-1.html\n",
      "zameen.com%2FProperty%2Flahore_shadman_well_constructed_house_available_for_sale_in_shadman-45203930-15803-1.html\n",
      "zameen.com%2FProperty%2Flahore_shadman_1_75_kanal_house_in_shadman_is_available-45203929-15803-1.html\n",
      "zameen.com%2FProperty%2Flahore_shadman_1_75_kanal_house_in_shadman_for_sale-45203924-15803-1.html\n",
      "zameen.com%2FProperty%2Flahore_shadman_1_75_kanal_house_is_available_for_sale-45203923-15803-1.html\n",
      "zameen.com%2FProperty%2Flahore_shadman_ready_to_buy_a_house_in_shadman_shadman-45203921-15803-1.html\n",
      "zameen.com%2FProperty%2Flahore_shadman_get_in_touch_now_to_buy_a_house_in_shadman_shadman-45203920-15803-1.html\n",
      "zameen.com%2FProperty%2Flahore_shadman_buying_a_house_in_shadman_shadman_-45203919-15803-1.html\n",
      "zameen.com%2FProperty%2Flahore_shadman_a_good_option_for_sale_is_the_house_available_in_shadman_in_shadman-45203918-15803-1.html\n",
      "zameen.com%2FProperty%2Flahore_shadman_1_75_kanal_house_for_sale_in_shadman-45203917-15803-1.html\n",
      "zameen.com%2FProperty%2Flahore_shadman_buying_a_house_in_shadman_-45203916-15803-1.html\n",
      "zameen.com%2FProperty%2Fshadman_shadman_1_10_marla_house_for_sale_shadman_ii_lahore-36073783-497-1.html\n",
      "zameen.com%2FProperty%2Fshadman_shadman_2_1_kanal_7_marla_house_for_sale_shadman_2_lahore-36073804-8950-1.html\n",
      "zameen.com%2FProperty%2Fshadman_shadman_2_at_canal_road_25_marla_semi_commercial_house-36768114-8950-1.html\n",
      "zameen.com%2FProperty%2Flahore_shadman_1_bedroom_luxurious_apartment_on_easy_installments-43790016-15803-1.html\n",
      "zameen.com%2FProperty%2Fshadman_shadman_2_2_kanal_house_for_sale_shadman_2-36073817-8950-1.html\n",
      "zameen.com%2FProperty%2Fshadman_shadman_1_6_kanal_house_for_sale_main_jail_road_shadman_lahore-36073800-497-1.html\n"
     ]
    }
   ],
   "source": [
    "from bs4 import BeautifulSoup\n",
    "from urllib import parse\n",
    "\n",
    "soup = BeautifulSoup(r.text, 'html.parser')\n",
    "\n",
    "for link in soup.find_all('a'):\n",
    "    url = link.get(\"href\")\n",
    "    if url:\n",
    "        if url.startswith(\"https://wa.me\"):\n",
    "            url_query = parse.urlparse(url).query\n",
    "            print (url_query.split(\"www.\")[-1])"
   ]
  },
  {
   "cell_type": "code",
   "execution_count": 1,
   "id": "f5f23e83-11d6-4dc5-83be-dfb16a152868",
   "metadata": {
    "tags": []
   },
   "outputs": [
    {
     "data": {
      "text/plain": [
       "4"
      ]
     },
     "execution_count": 1,
     "metadata": {},
     "output_type": "execute_result"
    }
   ],
   "source": [
    "2+2 "
   ]
  },
  {
   "cell_type": "code",
   "execution_count": null,
   "id": "57f012e0-0e85-4cfa-8f54-505e7e9657e5",
   "metadata": {},
   "outputs": [],
   "source": []
  },
  {
   "cell_type": "markdown",
   "id": "504854de-8d2f-4197-87fb-8c13a6688962",
   "metadata": {
    "tags": []
   },
   "source": [
    "## How to Prase HTML data\n",
    "\n",
    "### Download Link (pypi)\n",
    "https://pypi.org/project/beautifulsoup4/\n",
    "\n",
    "### Documentation\n",
    "https://www.crummy.com/software/BeautifulSoup/bs4/doc/"
   ]
  },
  {
   "cell_type": "code",
   "execution_count": 46,
   "id": "53b2043e-d234-4071-956c-bf1326807955",
   "metadata": {
    "tags": []
   },
   "outputs": [],
   "source": [
    "import requests\n",
    "\n",
    "ua = \"Mozilla/5.0 (Windows NT 10.0; Win64; x64) AppleWebKit/537.36 (KHTML, like Gecko) Chrome/114.0.0.0 Safari/537.36\"\n",
    "\n",
    "r = requests.get('https://seowings.org/', headers)"
   ]
  },
  {
   "cell_type": "code",
   "execution_count": 48,
   "id": "c729b28a-a916-470a-88da-7d094c1aa961",
   "metadata": {
    "tags": []
   },
   "outputs": [
    {
     "data": {
      "text/plain": [
       "datetime.timedelta(microseconds=212813)"
      ]
     },
     "execution_count": 48,
     "metadata": {},
     "output_type": "execute_result"
    }
   ],
   "source": [
    "r.elapsed"
   ]
  },
  {
   "cell_type": "code",
   "execution_count": 49,
   "id": "50812b32-29ce-405f-b489-bddba3429f7b",
   "metadata": {
    "tags": []
   },
   "outputs": [
    {
     "name": "stdout",
     "output_type": "stream",
     "text": [
      "Requirement already satisfied: beautifulsoup4 in c:\\users\\serpwings\\documents\\github\\data-science-for-digital-marketers\\.venv\\lib\\site-packages (4.12.2)\n",
      "Requirement already satisfied: soupsieve>1.2 in c:\\users\\serpwings\\documents\\github\\data-science-for-digital-marketers\\.venv\\lib\\site-packages (from beautifulsoup4) (2.4.1)\n"
     ]
    },
    {
     "name": "stderr",
     "output_type": "stream",
     "text": [
      "\n",
      "[notice] A new release of pip is available: 23.0.1 -> 23.1.2\n",
      "[notice] To update, run: python.exe -m pip install --upgrade pip\n"
     ]
    }
   ],
   "source": [
    "!pip install beautifulsoup4"
   ]
  },
  {
   "cell_type": "code",
   "execution_count": 23,
   "id": "d82d6794-f228-4781-be2a-c8af83e61054",
   "metadata": {
    "tags": []
   },
   "outputs": [],
   "source": [
    "from bs4 import BeautifulSoup"
   ]
  },
  {
   "cell_type": "code",
   "execution_count": 53,
   "id": "3cabb429-c7b9-4439-9ca3-f9c43b0c8bd9",
   "metadata": {
    "tags": []
   },
   "outputs": [],
   "source": [
    "soup = BeautifulSoup(r.text, 'html.parser')"
   ]
  },
  {
   "cell_type": "code",
   "execution_count": null,
   "id": "77775ddf-2f2a-4382-b4c8-5515e339ed80",
   "metadata": {},
   "outputs": [],
   "source": [
    "BeautifulSoup?"
   ]
  },
  {
   "cell_type": "code",
   "execution_count": 54,
   "id": "e608b782-8e4c-4560-94a9-e4a490e897ee",
   "metadata": {
    "tags": []
   },
   "outputs": [
    {
     "data": {
      "text/plain": [
       "<title>Digital Marketing with Data Science: SEO Wings</title>"
      ]
     },
     "execution_count": 54,
     "metadata": {},
     "output_type": "execute_result"
    }
   ],
   "source": [
    "soup.title"
   ]
  },
  {
   "cell_type": "code",
   "execution_count": 55,
   "id": "4c723e6d-d3d4-4c01-8e1b-030c2bd70e0a",
   "metadata": {
    "tags": []
   },
   "outputs": [
    {
     "data": {
      "text/plain": [
       "'Digital Marketing with Data Science: SEO Wings'"
      ]
     },
     "execution_count": 55,
     "metadata": {},
     "output_type": "execute_result"
    }
   ],
   "source": [
    "soup.title.string"
   ]
  },
  {
   "cell_type": "code",
   "execution_count": 59,
   "id": "14043a6c-42ba-4e4c-bea6-45e625b9823c",
   "metadata": {
    "tags": []
   },
   "outputs": [
    {
     "name": "stdout",
     "output_type": "stream",
     "text": [
      "https://www.seowings.org/\n",
      "/\n",
      "/simply-static-tutorial/\n",
      "/host-wordpress-website-on-netlify/\n",
      "/download/\n",
      "https://www.seowings.org/simply-static-tutorial/\n",
      "https://www.seowings.org/simply-static-tutorial/\n",
      "https://www.seowings.org/wordpress/\n",
      "/terms-of-services/\n",
      "/privacy-policy/\n",
      "/unsubscribe/\n",
      "https://twitter.com/seowings_org\n",
      "https://www.facebook.com/seowings.org\n",
      "https://www.youtube.com/channel/UCkVCjD48ge5zm1NN715IdLA\n",
      "https://github.com/seowings\n",
      "/wordpress/\n",
      "/web-domains/\n",
      "/software/\n",
      "/search-engine-optimization/\n",
      "/static-websites/\n",
      "/research-work/\n",
      "/static-web-hosting/\n",
      "/static-web-hosting/\n",
      "/static-websites/\n",
      "/best-static-website-hosting-services/\n",
      "/best-static-website-hosting-services/\n",
      "/static-websites/\n",
      "/sitemap-seo/\n",
      "/sitemap-seo/\n",
      "/search-engine-optimization/\n",
      "/what-is-a-domain-name/\n",
      "/what-is-a-domain-name/\n",
      "/web-domains/\n",
      "/website-architecture-and-seo/\n",
      "/website-architecture-and-seo/\n",
      "/search-engine-optimization/\n",
      "/seoquake-tutorial/\n",
      "/seoquake-tutorial/\n",
      "/search-engine-optimization/\n",
      "/web-server-log-files/\n",
      "/web-server-log-files/\n",
      "/static-websites/\n",
      "/robots-txt/\n",
      "/robots-txt/\n",
      "/search-engine-optimization/\n",
      "/best-software-for-installing-wordpress-on-localhost/\n",
      "/best-software-for-installing-wordpress-on-localhost/\n",
      "/wordpress/\n",
      "/seo-minion-tutorial/\n",
      "/seo-minion-tutorial/\n",
      "/search-engine-optimization/\n",
      "/seo-and-web-hosting/\n",
      "/seo-and-web-hosting/\n",
      "/search-engine-optimization/\n",
      "/local-wordpress-hosting-on-virtual-machines/\n",
      "/local-wordpress-hosting-on-virtual-machines/\n",
      "/wordpress/\n",
      "/host-wordpress-website-on-netlify/\n",
      "/host-wordpress-website-on-netlify/\n",
      "/wordpress/\n",
      "/competitor-analysis-using-sitemaps/\n",
      "/competitor-analysis-using-sitemaps/\n",
      "/search-engine-optimization/\n",
      "/static-wordpress/\n",
      "/static-wordpress/\n",
      "/wordpress/\n",
      "/advantages-of-local-wordpress-hosting/\n",
      "/advantages-of-local-wordpress-hosting/\n",
      "/wordpress/\n",
      "https://twitter.com/seowings_org\n",
      "https://www.facebook.com/seowings.org\n",
      "https://www.youtube.com/channel/UCkVCjD48ge5zm1NN715IdLA\n",
      "https://github.com/seowings\n",
      "/privacy-policy/\n",
      "/terms-of-services/\n",
      "/contact-us/\n",
      "/download/\n",
      "/privacy-policy/\n",
      "/terms-of-services/\n"
     ]
    }
   ],
   "source": [
    "for link in soup.find_all('a'):\n",
    "    print(link.get('href'))"
   ]
  },
  {
   "cell_type": "code",
   "execution_count": 61,
   "id": "bb3b6d88-3436-4d1e-a5b9-1a54bf60678d",
   "metadata": {
    "tags": []
   },
   "outputs": [
    {
     "data": {
      "text/plain": [
       "79"
      ]
     },
     "execution_count": 61,
     "metadata": {},
     "output_type": "execute_result"
    }
   ],
   "source": [
    "len(soup.find_all('a'))"
   ]
  },
  {
   "cell_type": "markdown",
   "id": "777997d1-e067-4a62-9913-a8e9cd50eeac",
   "metadata": {},
   "source": [
    "## Types of Links\n",
    "1. internal \n",
    "2. external\n",
    "3. anchors"
   ]
  },
  {
   "cell_type": "code",
   "execution_count": 62,
   "id": "2aa0a65f-24df-4509-bfc6-a8f9e29df7d1",
   "metadata": {
    "tags": []
   },
   "outputs": [],
   "source": [
    "from urllib import parse"
   ]
  },
  {
   "cell_type": "code",
   "execution_count": 66,
   "id": "6ebe681c-1517-4f57-b299-3f45324d2c1e",
   "metadata": {
    "tags": []
   },
   "outputs": [],
   "source": [
    "seowings_url = parse.urlparse(\"https://www.seowings.org\")"
   ]
  },
  {
   "cell_type": "code",
   "execution_count": 67,
   "id": "64c54735-a9aa-4c8d-8bee-cf9bcda32c02",
   "metadata": {
    "tags": []
   },
   "outputs": [
    {
     "data": {
      "text/plain": [
       "'www.seowings.org'"
      ]
     },
     "execution_count": 67,
     "metadata": {},
     "output_type": "execute_result"
    }
   ],
   "source": [
    "seowings_url.netloc"
   ]
  },
  {
   "cell_type": "code",
   "execution_count": 78,
   "id": "67ee8592-6b48-4ca1-a922-a11b886c1e94",
   "metadata": {
    "tags": []
   },
   "outputs": [],
   "source": [
    "external_links = set()\n",
    "\n",
    "for link in soup.find_all('a'): #extract all urls <a href=\"https://www.seowings.org/test\" > text </a>\n",
    "    \n",
    "    link_href = link.get('href') # https://www.seowings.org/test\n",
    "    \n",
    "    if seowings_url.netloc not in link_href and link_href.startswith(\"https\"):\n",
    "        external_links.add(link_href)\n"
   ]
  },
  {
   "cell_type": "code",
   "execution_count": 79,
   "id": "6d676fdb-28fb-45bd-8a5b-69049cb5dd4a",
   "metadata": {
    "tags": []
   },
   "outputs": [
    {
     "data": {
      "text/plain": [
       "{'https://github.com/seowings',\n",
       " 'https://twitter.com/seowings_org',\n",
       " 'https://www.facebook.com/seowings.org',\n",
       " 'https://www.youtube.com/channel/UCkVCjD48ge5zm1NN715IdLA'}"
      ]
     },
     "execution_count": 79,
     "metadata": {},
     "output_type": "execute_result"
    }
   ],
   "source": [
    "external_links"
   ]
  },
  {
   "cell_type": "code",
   "execution_count": null,
   "id": "1134a7e4-0c1d-4e38-8c26-2dec71748e99",
   "metadata": {},
   "outputs": [],
   "source": [
    "# list comprehensions, lambda functions , decorators"
   ]
  },
  {
   "cell_type": "code",
   "execution_count": 92,
   "id": "917c731a-a682-4015-ae5b-c4fbf82109a8",
   "metadata": {
    "tags": []
   },
   "outputs": [
    {
     "name": "stdout",
     "output_type": "stream",
     "text": [
      "WordPress Hosting on Netlify Using Simply Static 7\n",
      "Newsletter Sign Up 3\n",
      "When and Why to Use Static Web Hosting? 8\n",
      "11 Best JAMStack Web Hosting Providers (2023 update) 8\n",
      "How Sitemaps can be Used for Search Engine Optimization? 9\n",
      "What is a Domain Name - Basic Tutorial for Newbies 10\n",
      "Website Architecture and Its Importance for Technical SEO? 8\n",
      "SEOquake-Best Web Extension for Search Engine Optimization? 7\n",
      "What Are Web Server Log Files? 6\n",
      "What is Robots.txt File and How to Manage Crawlers? 9\n",
      "10 Best Software for Installing WordPress on Localhost 8\n",
      "SEO Minion-Web extension for Content Creators and SEO 8\n",
      "Importance of Web Hosting for Search Engine Optimization? 8\n",
      "How To Host WordPress on Virtual Machines? 7\n",
      "WordPress on Netlify - Step by Step Complete Guide (2022) 10\n",
      "How to use Website Sitemaps for Competitor Analysis? 8\n",
      "Static WordPress-An Introductory Tutorial [2023] 5\n",
      "What Are The Advantage Of Insalling WordPress on Localhost? 9\n"
     ]
    }
   ],
   "source": [
    "for h2 in soup.find_all('h2'): #extract all urls <a href=\"https://www.seowings.org/test\" > text </a>\n",
    "    h2_string = h2.string\n",
    "    h2_string.split(' ')\n",
    "    print (h2_string, len(h2_string.split(' ')) )\n",
    "    "
   ]
  }
 ],
 "metadata": {
  "kernelspec": {
   "display_name": "Python 3 (ipykernel)",
   "language": "python",
   "name": "python3"
  },
  "language_info": {
   "codemirror_mode": {
    "name": "ipython",
    "version": 3
   },
   "file_extension": ".py",
   "mimetype": "text/x-python",
   "name": "python",
   "nbconvert_exporter": "python",
   "pygments_lexer": "ipython3",
   "version": "3.10.11"
  }
 },
 "nbformat": 4,
 "nbformat_minor": 5
}
